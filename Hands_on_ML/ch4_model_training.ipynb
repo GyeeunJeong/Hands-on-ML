{
  "nbformat": 4,
  "nbformat_minor": 0,
  "metadata": {
    "colab": {
      "name": "ch4_model_training.ipynb",
      "provenance": [],
      "collapsed_sections": [],
      "authorship_tag": "ABX9TyPcWn5cklXSbGQsTkIGPNP/",
      "include_colab_link": true
    },
    "kernelspec": {
      "name": "python3",
      "display_name": "Python 3"
    },
    "language_info": {
      "name": "python"
    }
  },
  "cells": [
    {
      "cell_type": "markdown",
      "metadata": {
        "id": "view-in-github",
        "colab_type": "text"
      },
      "source": [
        "<a href=\"https://colab.research.google.com/github/GyeeunJeong/Hands-on-ML/blob/main/ch4_model_training.ipynb\" target=\"_parent\"><img src=\"https://colab.research.google.com/assets/colab-badge.svg\" alt=\"Open In Colab\"/></a>"
      ]
    },
    {
      "cell_type": "markdown",
      "source": [
        "# 모델 훈련\n",
        "- 작동 원리를 이해하여 적절한 모델, 작업에 맞는 하이퍼파라미터 찾기\n",
        "- 디버깅, 에러 분석에 도움\n",
        "- 순서\n",
        "1. 선형회귀\n",
        "  - 훈련 방법\n",
        "   1. 계산 공식을 사용해 최적의 모델 파라미터 구하기\n",
        "   2. 경사 하강법이란 반복적인 최적화 방식으로 모델 파라미터를 조금씩 바꾸면서 비용 함수를 훈련 세트에 대해 최소화 시킴\n",
        "2. 다항회귀\n",
        "  - 비선형 데이터셋 훈련 가능\n",
        "  - 파라미터가 많아서 훈련 데이터에 과대적합되기 더 쉬움\n",
        "  - 학습 곡선으로 과대적합 감지, 감소시킬 수 있는 규제 기법 배우기\n",
        "3. 로지스틱 회귀, 소프트맥스 회기"
      ],
      "metadata": {
        "id": "PHw5bZVdkJ33"
      }
    },
    {
      "cell_type": "markdown",
      "source": [
        "## 선형 회귀\n",
        "- 비용 함수 최소화하는 theta 찾기\n",
        "- 계산공식: 정규방정식\n",
        "  - $\\theta = (X^T \\cdot X)^{-1}\\cdot X^T\\cdot y$\n",
        "  - 단점: 특성 수에 따라 계산 복잡도가 $O(n^3)$ 정도 \n",
        "  - 장점: 훈련 세트 샘플 수에는 선형적으로 계산 복잡도 증가(큰 훈련세트도 처리 가능), 예측이 빠름."
      ],
      "metadata": {
        "id": "b42R2F5tleBy"
      }
    },
    {
      "cell_type": "code",
      "source": [
        "import numpy as np\n",
        "\n",
        "X = 2*np.random.rand(100, 1)\n",
        "y = 4 + 3*X + np.random.randn(100, 1)"
      ],
      "metadata": {
        "id": "w7guQt9FspG9"
      },
      "execution_count": 2,
      "outputs": []
    },
    {
      "cell_type": "code",
      "source": [
        "import matplotlib.pyplot as plt\n",
        "\n",
        "plt.scatter(X, y, )"
      ],
      "metadata": {
        "colab": {
          "base_uri": "https://localhost:8080/",
          "height": 282
        },
        "id": "L-cDx3PnlHu1",
        "outputId": "b3f0ed85-a136-4351-f314-08926029f305"
      },
      "execution_count": 3,
      "outputs": [
        {
          "output_type": "execute_result",
          "data": {
            "text/plain": [
              "<matplotlib.collections.PathCollection at 0x7fecfde7ba10>"
            ]
          },
          "metadata": {},
          "execution_count": 3
        },
        {
          "output_type": "display_data",
          "data": {
            "text/plain": [
              "<Figure size 432x288 with 1 Axes>"
            ],
            "image/png": "[encoded data removed]"
          },
          "metadata": {
            "needs_background": "light"
          }
        }
      ]
    },
    {
      "cell_type": "code",
      "source": [
        "# 정규방정식 이용\n",
        "X_b = np.c_[np.ones((100, 1)), X]\n",
        "theta_best = np.linalg.inv(X_b.T.dot(X_b)).dot(X_b.T).dot(y)"
      ],
      "metadata": {
        "id": "jTp7aaSyOKjy"
      },
      "execution_count": 4,
      "outputs": []
    },
    {
      "cell_type": "code",
      "source": [
        "# 4, 3 이 나와야 하지만 노이즈 때문에 원래 함수 파라미터 정확하게 재현 못함\n",
        "theta_best"
      ],
      "metadata": {
        "colab": {
          "base_uri": "https://localhost:8080/"
        },
        "id": "tUpbshtPOf_D",
        "outputId": "84bbc963-4df3-4dab-e92b-5e7a52ae6a80"
      },
      "execution_count": 5,
      "outputs": [
        {
          "output_type": "execute_result",
          "data": {
            "text/plain": [
              "array([[4.15017438],\n",
              "       [2.82372551]])"
            ]
          },
          "metadata": {},
          "execution_count": 5
        }
      ]
    },
    {
      "cell_type": "code",
      "source": [
        "X_new = np.array([[0], [2]])\n",
        "X_new_b = np.c_[np.ones((2, 1)), X_new]\n",
        "y_predict = X_new_b.dot(theta_best)\n",
        "y_predict"
      ],
      "metadata": {
        "colab": {
          "base_uri": "https://localhost:8080/"
        },
        "id": "6x-i3SX7OzEp",
        "outputId": "32ba4f29-6f99-4179-a27c-204a107360fe"
      },
      "execution_count": 6,
      "outputs": [
        {
          "output_type": "execute_result",
          "data": {
            "text/plain": [
              "array([[4.15017438],\n",
              "       [9.7976254 ]])"
            ]
          },
          "metadata": {},
          "execution_count": 6
        }
      ]
    },
    {
      "cell_type": "code",
      "source": [
        "plt.plot(X_new, y_predict, 'r-')\n",
        "plt.plot(X, y, 'b.')\n",
        "plt.axis([0, 2, 0, 15])\n",
        "plt.show()"
      ],
      "metadata": {
        "colab": {
          "base_uri": "https://localhost:8080/",
          "height": 265
        },
        "id": "qdfQA7XBPNPV",
        "outputId": "43de3825-ca4f-442c-c7db-00839ef09e40"
      },
      "execution_count": 7,
      "outputs": [
        {
          "output_type": "display_data",
          "data": {
            "text/plain": [
              "<Figure size 432x288 with 1 Axes>"
            ],
            "image/png": "[encoded data removed]"
          },
          "metadata": {
            "needs_background": "light"
          }
        }
      ]
    },
    {
      "cell_type": "code",
      "source": [
        "# 같은 작업하는 사이킷런\n",
        "from sklearn.linear_model import LinearRegression\n",
        "lin_reg = LinearRegression()\n",
        "lin_reg.fit(X, y)\n",
        "lin_reg.intercept_, lin_reg.coef_"
      ],
      "metadata": {
        "colab": {
          "base_uri": "https://localhost:8080/"
        },
        "id": "RmvY4pr4TpD5",
        "outputId": "8c4e2a1a-692b-4fd2-f0f5-a749f8be22e6"
      },
      "execution_count": 8,
      "outputs": [
        {
          "output_type": "execute_result",
          "data": {
            "text/plain": [
              "(array([4.15017438]), array([[2.82372551]]))"
            ]
          },
          "metadata": {},
          "execution_count": 8
        }
      ]
    },
    {
      "cell_type": "code",
      "source": [
        "lin_reg.predict(X_new)"
      ],
      "metadata": {
        "colab": {
          "base_uri": "https://localhost:8080/"
        },
        "id": "ZztH6bg7T438",
        "outputId": "b49617de-7dbd-4d68-f056-2682da27a1de"
      },
      "execution_count": 9,
      "outputs": [
        {
          "output_type": "execute_result",
          "data": {
            "text/plain": [
              "array([[4.15017438],\n",
              "       [9.7976254 ]])"
            ]
          },
          "metadata": {},
          "execution_count": 9
        }
      ]
    },
    {
      "cell_type": "markdown",
      "source": [
        "## 4.2 경사 하강법\n",
        "- 비용함수를 최소화하기 위해 반복해서 파라미터 조정\n",
        "- 임의의 값 벡터 $θ$에 대해(random initialization) 비용 함수의 현재 그래디언트 계산, 그래디언트가 감소하는 방향으로 진행, 그래디언트가 0이 되면 최솟값 도달\n",
        "- step 크기(learning rate) 중요.\n",
        "- 문제점1: global mimimum을 찾지 못하고 local minimum에 수렴할 수 있음 \n",
        "- 문제점2: 모든 특성이 같은 스케일을 갖지 않으면 수렴이 오래 걸림\n",
        "  \n",
        "1. 배치 경사 하강법\n",
        "  - 세타가 조금 변경될 때 비용 함수가 얼마나 바뀌는지 계산 (편도함수)\n",
        "  - $ \\frac{∂}{∂θ_j}MSE(θ)=\\frac{2}{m}Σ^m_{i=1}(θ^T ⋅x^{(i)}-y^{(i)})x^{(i)}_j $\n",
        "  - 배치 경사 하강법: 매 스텝에서 전체 훈련 세트 X에 대해 계산(훈련세트 크기에 따라 속도 느려짐)\n",
        "  - 매 스텝에서 그래디언트 벡터만큼 움직여 최적의 theta를 찾음\n",
        "  - $θ^{(next step)}=θ-\\eta \\nabla_θMSE(\\theta ) $\n",
        "  - 여기서 $η$는 학습률\n",
        "    - 적절한 학습률을 찾는 것이 중요 (너무 작으면 시간이 오래 걸리고 너무 크면 발산)\n",
        "    - 적절한 학습률을 찾기 위해 그리드 탐색 사용. \n",
        "    - 너무 오래 걸리는 것 방지하기 위해 반복 횟수 지정. 반복 횟수를 크게 지정하고 그래디언트 벡터가 충분히 작아지면 알고리즘 중지 \n"
      ],
      "metadata": {
        "id": "nP-ejUgBT-Ya"
      }
    },
    {
      "cell_type": "code",
      "source": [
        "# 배치 경사 하강법\n",
        "eta = 0.1\n",
        "n_iterations = 1000\n",
        "m = 100\n",
        "\n",
        "theta = np.random.randn(2, 1)\n",
        "\n",
        "for iteration in range(n_iterations):\n",
        "  gradients = 2/m * X_b.T.dot(X_b.dot(theta)-y)\n",
        "  theta = theta - eta*gradients"
      ],
      "metadata": {
        "id": "CeU4nMNcVRC-"
      },
      "execution_count": 10,
      "outputs": []
    },
    {
      "cell_type": "code",
      "source": [
        "theta"
      ],
      "metadata": {
        "colab": {
          "base_uri": "https://localhost:8080/"
        },
        "id": "vcxXgvWMjEbz",
        "outputId": "03601f46-ded4-4408-c02a-55941ac95c95"
      },
      "execution_count": 11,
      "outputs": [
        {
          "output_type": "execute_result",
          "data": {
            "text/plain": [
              "array([[4.15017438],\n",
              "       [2.82372551]])"
            ]
          },
          "metadata": {},
          "execution_count": 11
        }
      ]
    },
    {
      "cell_type": "markdown",
      "source": [
        "2. 확률적 경사 하강법\n",
        "  - 매 스텝에서 한 개의 샘플을 무작위로 선택하고 그 샘플에 대해서만 그래디언트 계산\n",
        "  - 배치 경사 하강법보다 훨씬 빠르지만 훨씬 불안정 \n",
        "  - 비용 함수가 부드럽게 감소하지 않고 위아래로 요동치면서 평균으로 감소 \n",
        "    - 알고리즘이 지역 최솟값을 건너뛰는 효과있지만 global minimum에도 도달하지 못할 수 있음\n",
        "    - 해결방법: 학습률을 점진적으로 감소시킴 (learning schedule)\n",
        "  - 샘플을 무작위 선택하여 한 epcoh에서 어떤 샘플은 여러 번 선택될수도, 선택 안될 수도 있음\n",
        "    - 해결방법: epcoh마다 훈련세트를 섞은 후 차례대로 선택하고 다음 epoch에서 다시 훈련세트 섞음"
      ],
      "metadata": {
        "id": "3DTx4pD5jMpL"
      }
    },
    {
      "cell_type": "code",
      "source": [
        "n_epochs = 50\n",
        "t0, t1 = 5, 50 # learning schedule hyperparameter\n",
        "\n",
        "def learning_schedule(t):\n",
        "  return t0/(t+t1)\n",
        "\n",
        "theta = np.random.randn(2, 1) # random initialization\n",
        "\n",
        "for epoch in range(n_epochs):\n",
        "  for i in range(m):\n",
        "    random_index = np.random.randint(m)\n",
        "    xi = X_b[random_index:random_index+1]\n",
        "    yi = y[random_index:random_index+1]\n",
        "    gradients = 2 * xi.T.dot(xi.dot(theta) - yi)\n",
        "    eta = learning_schedule(epoch*m + i)\n",
        "    theta = theta - eta*gradients"
      ],
      "metadata": {
        "id": "gPaGmvvTlpsO"
      },
      "execution_count": 13,
      "outputs": []
    },
    {
      "cell_type": "code",
      "source": [
        "theta"
      ],
      "metadata": {
        "colab": {
          "base_uri": "https://localhost:8080/"
        },
        "id": "xLkoWXbdmUgN",
        "outputId": "20df6ccd-30cb-49a5-8307-830766aad53e"
      },
      "execution_count": 14,
      "outputs": [
        {
          "output_type": "execute_result",
          "data": {
            "text/plain": [
              "array([[4.18050607],\n",
              "       [2.81729006]])"
            ]
          },
          "metadata": {},
          "execution_count": 14
        }
      ]
    },
    {
      "cell_type": "code",
      "source": [
        "# sklearn 클래스 사용 (학습률 eta0 0.1, epoch 50, 규제 사용 안함)\n",
        "from sklearn.linear_model import SGDRegressor\n",
        "sgd_reg = SGDRegressor(max_iter=50, penalty=None, eta0=0.1)\n",
        "sgd_reg.fit(X, y.ravel())"
      ],
      "metadata": {
        "colab": {
          "base_uri": "https://localhost:8080/"
        },
        "id": "NWDpuS8qmX0M",
        "outputId": "2a25ae66-2658-457c-9278-40e482e32454"
      },
      "execution_count": 15,
      "outputs": [
        {
          "output_type": "execute_result",
          "data": {
            "text/plain": [
              "SGDRegressor(eta0=0.1, max_iter=50, penalty=None)"
            ]
          },
          "metadata": {},
          "execution_count": 15
        }
      ]
    },
    {
      "cell_type": "code",
      "source": [
        "sgd_reg.intercept_, sgd_reg.coef_"
      ],
      "metadata": {
        "colab": {
          "base_uri": "https://localhost:8080/"
        },
        "id": "rqcfUNimnPf9",
        "outputId": "e8cbc108-197a-4e20-908a-1a0caa011f08"
      },
      "execution_count": 16,
      "outputs": [
        {
          "output_type": "execute_result",
          "data": {
            "text/plain": [
              "(array([4.14798662]), array([2.86010871]))"
            ]
          },
          "metadata": {},
          "execution_count": 16
        }
      ]
    },
    {
      "cell_type": "markdown",
      "source": [
        "3. 미니배치 경사 하강법\n",
        "- 각 스텝에서 미니배치라는 임의의 작은 샘플 세트에 대해 그래디언트 계산 \n",
        "  (배치 경사하강은 전체 훈련세트, 확률적경사하강은 하나의 샘플)\n",
        "\n",
        "4. 정리\n",
        "- 정규방정식, 배치 경사 하강법, 확률적 경사 하강법, 미니배치 경사 하강법 비\n",
        "- 훈련 샘플수에 영향 받는 것: 배치 경사 하강법\n",
        "- 특성수에 영향 받는 것: 정규방정식\n",
        "- 스케일 조정 필요: 정규방정식 제외한 모든 경사 하강법"
      ],
      "metadata": {
        "id": "fTxJUprzndrO"
      }
    },
    {
      "cell_type": "markdown",
      "source": [
        "## 다항 회귀\n",
        "- 비선형 데이터를 학습하는 선형 모델\n",
        "- 각 특성의 거듭제곱을 새로운 특성으로 추가"
      ],
      "metadata": {
        "id": "Cd7FtnXbs9tt"
      }
    },
    {
      "cell_type": "code",
      "source": [
        "# 비선형 데이터 생성\n",
        "m = 100\n",
        "X = 6*np.random.rand(m, 1) - 3\n",
        "y = 0.5 * X**2 + X + 2 + np.random.randn(m, 1)"
      ],
      "metadata": {
        "id": "tTCmRX9PtMUi"
      },
      "execution_count": 17,
      "outputs": []
    },
    {
      "cell_type": "code",
      "source": [
        "# 사이킷런 라이브러리로 훈련 데이터 변환. \n",
        "# 훈련 세트에 있는 각 특성을 제곱하여 새로운 특성으로 추가\n",
        "from sklearn.preprocessing import PolynomialFeatures\n",
        "poly_features = PolynomialFeatures(degree=2, include_bias=False)\n",
        "X_poly = poly_features.fit_transform(X)"
      ],
      "metadata": {
        "id": "z0dmgnv7tXrU"
      },
      "execution_count": 18,
      "outputs": []
    },
    {
      "cell_type": "code",
      "source": [
        "# X_poly에 원래 특성 X와 이 특성의 제곱을 포함\n",
        "X[0], X_poly[0]"
      ],
      "metadata": {
        "colab": {
          "base_uri": "https://localhost:8080/"
        },
        "id": "5wZTerDVtw6s",
        "outputId": "7304cfee-f1f3-45ce-b35b-f7db447b475c"
      },
      "execution_count": 19,
      "outputs": [
        {
          "output_type": "execute_result",
          "data": {
            "text/plain": [
              "(array([0.67340142]), array([0.67340142, 0.45346948]))"
            ]
          },
          "metadata": {},
          "execution_count": 19
        }
      ]
    },
    {
      "cell_type": "code",
      "source": [
        "lin_reg = LinearRegression()\n",
        "lin_reg.fit(X_poly, y)\n",
        "lin_reg.intercept_, lin_reg.coef_"
      ],
      "metadata": {
        "colab": {
          "base_uri": "https://localhost:8080/"
        },
        "id": "bo5J4mtTt0G3",
        "outputId": "e46561d9-a69f-4b2a-c59d-e2be8f64a71f"
      },
      "execution_count": 20,
      "outputs": [
        {
          "output_type": "execute_result",
          "data": {
            "text/plain": [
              "(array([2.01838237]), array([[1.03170055, 0.48099724]]))"
            ]
          },
          "metadata": {},
          "execution_count": 20
        }
      ]
    },
    {
      "cell_type": "markdown",
      "source": [
        "## 학습 곡선\n",
        "-  과대적합, 과소적합 찾아내기\n",
        "- 편향/분산 트레이드오프: 모델 복잡도가 커지면 분산 늘어나고 편향 줄어들고 반대로 모델 복잡도 줄어들면 편향 커지고 분산 작아짐\n",
        "  - 모델의 일반화 오차\n",
        "    1. 편향: 잘못된 가정으로 인한 것. 편향 크면 과소적합 쉬움. 실제로 2차인데 선형으로 가정)\n",
        "    2. 분산: 훈련데이터 작은 변동에 모델 과도하게 민감하게 반응. 자유도 높으면 높은 분산 가지기 쉽고 과대적합되는 경향.\n",
        "    3. 줄일 수 없는 오차: 데이터 자체의 노이즈. 노이즈 제거해야 사라짐."
      ],
      "metadata": {
        "id": "orqv2jVuuL48"
      }
    },
    {
      "cell_type": "code",
      "source": [
        "# 학습 곡선 그리는 함수\n",
        "from sklearn.metrics import mean_squared_error\n",
        "from sklearn.model_selection import train_test_split\n",
        "\n",
        "def plot_learning_curves(model, X, y):\n",
        "  X_train, X_val, y_train, y_val = train_test_split(X, y, test_size=0.2)\n",
        "  train_errors, val_errors = [], []\n",
        "  for m in range(1, len(X_train)):\n",
        "    model.fit(X_train[:m], y_train[:m])\n",
        "    y_train_predict = model.predict(X_train[:m])\n",
        "    y_val_predict = model.predict(X_val)\n",
        "    train_errors.append(mean_squared_error(y_train[:m], y_train_predict))\n",
        "    val_errors.append(mean_squared_error(y_val, y_val_predict))\n",
        "\n",
        "  plt.plot(np.sqrt(train_errors), 'r-+', linewidth=2, label='훈련세트')\n",
        "  plt.plot(np.sqrt(val_errors), 'b-', linewidth=3, label='검증세트')"
      ],
      "metadata": {
        "id": "CbKoA8fmBxoS"
      },
      "execution_count": 21,
      "outputs": []
    },
    {
      "cell_type": "code",
      "source": [
        "# 훈련세트는 샘플이 추가됨에 따라 에러가 증가\n",
        "# 검증세트는 적은 수의 훈련 샘플로 훈련할때는 일반화가 제대로 되지 않아 오차가 크지만 점점 감소\n",
        "# 과소적합. 두 곡선이 수평한 구간을 만들고 꽤 높은 오차에서 매우 가까이 근접해 있음\n",
        "# 과소적합에서는 훈련샘플 추가해도 효과 없음. 더 복잡한 모델 사용하거나 더 나은 특성 선택해야함\n",
        "lin_reg = LinearRegression()\n",
        "plot_learning_curves(lin_reg, X, y)"
      ],
      "metadata": {
        "colab": {
          "base_uri": "https://localhost:8080/",
          "height": 265
        },
        "id": "BscQ-baCCrzA",
        "outputId": "56853f24-a6cf-46f3-ac7b-9314348ba426"
      },
      "execution_count": 22,
      "outputs": [
        {
          "output_type": "display_data",
          "data": {
            "text/plain": [
              "<Figure size 432x288 with 1 Axes>"
            ],
            "image/png": "[encoded data removed]"
          },
          "metadata": {
            "needs_background": "light"
          }
        }
      ]
    },
    {
      "cell_type": "code",
      "source": [
        "# 위와 같은 데이터에서 10차 다항 회귀 모델의 학습 곡선\n",
        "# 훈련 데이터의 오차가 선형 회귀 모델보다 훨씬 낮음\n",
        "# 두 곡선 사이에 공간이 있음 (훈련데이터 모델 성능 > 검증데이터 모델 성능) -> 과대적합 모델의 특징\n",
        "# 더 많음 훈련데이터 추가하면 개선 가능 \n",
        "from sklearn.pipeline import Pipeline\n",
        "\n",
        "polynomial_regression = Pipeline([\n",
        "          ('poly_features', PolynomialFeatures(degree=10, include_bias=False)),\n",
        "          ('lin_reg', LinearRegression()),\n",
        "\n",
        "])\n",
        "plot_learning_curves(polynomial_regression, X, y)"
      ],
      "metadata": {
        "colab": {
          "base_uri": "https://localhost:8080/",
          "height": 265
        },
        "id": "fKMgh5B_C9o4",
        "outputId": "b9e61b54-b4f0-4b80-c7d2-e79db1398c93"
      },
      "execution_count": 23,
      "outputs": [
        {
          "output_type": "display_data",
          "data": {
            "text/plain": [
              "<Figure size 432x288 with 1 Axes>"
            ],
            "image/png": "[encoded data removed]"
          },
          "metadata": {
            "needs_background": "light"
          }
        }
      ]
    },
    {
      "cell_type": "markdown",
      "source": [
        "## 규제가 있는 선형 모델\n",
        "- 선형 회귀 모델에서는 모델의 가중치를 제한해서 규제를 가함 \n",
        "1. 릿지 회귀\n",
        "  - 규제항$α\\Sigma^n_{i=1}\\theta ^2_i$ 이 비용함수에 추가\n",
        "  - 모델의 가중치가 가능한 작게 유지되도록 함.\n",
        "  - 훈련하는 동안에만 추가하고 평가할때는 규제 없이 함.\n",
        "\n",
        "  - $α$의 역할: 모델을 얼마나 많이 규제할지. 0이면 선형 회귀와 같고 아주 큰 값이면 모든 가중치가 거의 0에 가까워져 데이터 평균을 지나게 됨. 즉 $α$ 커지면 모델 분산 줄지만 편향 커짐 \n",
        "  - 비용함수: $J(θ)=MSE(θ)+α\\frac{1}{2}Σ^n_{i=1}θ^2_i $\n",
        "  - 스케일에 민감."
      ],
      "metadata": {
        "id": "RbqpEvvjEFf2"
      }
    },
    {
      "cell_type": "code",
      "source": [
        "# 정규방정식을 사용한 릿지 회귀\n",
        "from sklearn.linear_model import Ridge\n",
        "ridge_reg = Ridge(alpha=1, solver='cholesky')\n",
        "ridge_reg.fit(X, y)\n",
        "ridge_reg.predict([[1.5]])"
      ],
      "metadata": {
        "colab": {
          "base_uri": "https://localhost:8080/"
        },
        "id": "6KAlxf7JJaF7",
        "outputId": "0ad62985-baf6-4b3d-db44-1f1e6d963d83"
      },
      "execution_count": 24,
      "outputs": [
        {
          "output_type": "execute_result",
          "data": {
            "text/plain": [
              "array([[5.0795029]])"
            ]
          },
          "metadata": {},
          "execution_count": 24
        }
      ]
    },
    {
      "cell_type": "code",
      "source": [
        "# 확률적 경사 하강법\n",
        "sgd_reg = SGDRegressor(max_iter=5, penalty='l2')\n",
        "sgd_reg.fit(X, y.ravel())\n",
        "sgd_reg.predict([[1.5]])"
      ],
      "metadata": {
        "colab": {
          "base_uri": "https://localhost:8080/"
        },
        "id": "ObqKCAs4Jo3L",
        "outputId": "6033eeb8-c628-48b9-cd09-a332bcff51c9"
      },
      "execution_count": 25,
      "outputs": [
        {
          "output_type": "stream",
          "name": "stderr",
          "text": [
            "/usr/local/lib/python3.7/dist-packages/sklearn/linear_model/_stochastic_gradient.py:1507: ConvergenceWarning: Maximum number of iteration reached before convergence. Consider increasing max_iter to improve the fit.\n",
            "  ConvergenceWarning,\n"
          ]
        },
        {
          "output_type": "execute_result",
          "data": {
            "text/plain": [
              "array([4.19706192])"
            ]
          },
          "metadata": {},
          "execution_count": 25
        }
      ]
    },
    {
      "cell_type": "markdown",
      "source": [
        "2. 라쏘 회귀\n",
        "- 노름의 제곱/2가 아닌 절대값노름을 더해줌\n",
        "- $J(θ)=MSE(θ)+αΣ^n_{i=1}|θ| $\n",
        "- 덜 중요한 특성의 가중치를 완전히 제거하려고 함. (가중치가 0이 됨) \n",
        "- 미분가능하지 않아서 경사 하강법에서 서브그래디언트 벡터 이용 "
      ],
      "metadata": {
        "id": "FAko0SMnJ5GF"
      }
    },
    {
      "cell_type": "code",
      "source": [
        "# 사이킷런 예제\n",
        "from sklearn.linear_model import Lasso\n",
        "lasso_reg = Lasso(alpha=0.1)\n",
        "lasso_reg.fit(X, y)\n",
        "lasso_reg.predict([[1.5]])"
      ],
      "metadata": {
        "colab": {
          "base_uri": "https://localhost:8080/"
        },
        "id": "kqx7bscgNcLp",
        "outputId": "f628b260-b312-4a40-f7bd-d509c0931eaf"
      },
      "execution_count": 26,
      "outputs": [
        {
          "output_type": "execute_result",
          "data": {
            "text/plain": [
              "array([5.03019231])"
            ]
          },
          "metadata": {},
          "execution_count": 26
        }
      ]
    },
    {
      "cell_type": "markdown",
      "source": [
        "3. 엘라스틱넷\n",
        "- 릿지와 라쏘 규제항의 가중합을 더해서 사용 \n",
        "- $J(θ)=MSE(θ)+rαΣ^n_{i=1}|\\theta_i|+\\frac{1-r}{2}αΣ^n_{i=1}θ^2_i $\n",
        "- r이 0 이면 릿지회귀, r이 1 이면 라쏘회귀\n",
        "- 릿지가 기본이지만 실제로 쓰이는 특성이 몇 개뿐이라고 의심되면 라쏘나 엘라스틱넷이 나음\n",
        "- 특성 수가 훈련 샘플수보다 많거나 특성 몇 개가 강하게 연관되어 있으면 라쏘보다 엘라스틱넷 선호"
      ],
      "metadata": {
        "id": "KOkSSIyTNp-0"
      }
    },
    {
      "cell_type": "code",
      "source": [
        "# 사이킷런 예제\n",
        "from sklearn.linear_model import ElasticNet\n",
        "elastic_net = ElasticNet(alpha=0.1, l1_ratio=0.5)\n",
        "elastic_net.fit(X, y)\n",
        "elastic_net.predict([[1.5]])"
      ],
      "metadata": {
        "colab": {
          "base_uri": "https://localhost:8080/"
        },
        "id": "WzFypzyV_laA",
        "outputId": "fe9eaf47-e596-4712-e7e9-c0f06c2e5e12"
      },
      "execution_count": 27,
      "outputs": [
        {
          "output_type": "execute_result",
          "data": {
            "text/plain": [
              "array([5.02636901])"
            ]
          },
          "metadata": {},
          "execution_count": 27
        }
      ]
    },
    {
      "cell_type": "markdown",
      "source": [
        "4. 조기 종료\n",
        "- 검증 에러가 최솟값에 도달하면 훈련을 중지시킴"
      ],
      "metadata": {
        "id": "Qo18zbvX_yYe"
      }
    },
    {
      "cell_type": "code",
      "source": [
        "# 조기 종료 구현 코드\n",
        "from sklearn.base import clone\n",
        "\n",
        "# 데이터 준비\n",
        "poly_scaler = Pipeline([\n",
        "  ('poly_features', PolynomialFeatures(degree=90, include_bias=False)),\n",
        "  ('std_scaler', StandardScaler())\n",
        "])\n",
        "\n",
        "X_train_poly_scaled = poly_scaler.fit_transform(X_train)\n",
        "X_val_poly_scaled = poly_scaler.transform(X_val)\n",
        "\n",
        "# warm_start=True: fit() 호출될 때 처음부터 다시 시작하지 않고 이전 모델 파라미터에서 훈련 이어감 \n",
        "sgd_reg = SGDRegressor(n_iter=1, warm_start=True, penalty=None,\n",
        "learning_rate='constant', eta0=0.0005)\n",
        "minimum_val_error = float('inf')\n",
        "best_epoch = None\n",
        "best_model = None\n",
        "for epoch in range(1000):\n",
        "  sgd_reg.fit(X_train_poly_scaled, y_train)\n",
        "  y_val_predict = sgd_reg.predict(X_val_poly_scaled)\n",
        "  val_error = mean_squared_error(y_val, y_val_predict)\n",
        "\n",
        "  if val_error < minimum_val_error:\n",
        "    minimum_val_error = val_error\n",
        "    best_epoch = epoch\n",
        "    best_model = clone(sgd_reg)"
      ],
      "metadata": {
        "id": "mQ0YFOKGCA5m",
        "colab": {
          "base_uri": "https://localhost:8080/",
          "height": 231
        },
        "outputId": "5a6c658f-5b69-40ef-84b9-581be6b54da6"
      },
      "execution_count": 28,
      "outputs": [
        {
          "output_type": "error",
          "ename": "NameError",
          "evalue": "ignored",
          "traceback": [
            "\u001b[0;31m---------------------------------------------------------------------------\u001b[0m",
            "\u001b[0;31mNameError\u001b[0m                                 Traceback (most recent call last)",
            "\u001b[0;32m<ipython-input-28-51fe912d5d8f>\u001b[0m in \u001b[0;36m<module>\u001b[0;34m()\u001b[0m\n\u001b[1;32m      5\u001b[0m poly_scaler = Pipeline([\n\u001b[1;32m      6\u001b[0m   \u001b[0;34m(\u001b[0m\u001b[0;34m'poly_features'\u001b[0m\u001b[0;34m,\u001b[0m \u001b[0mPolynomialFeatures\u001b[0m\u001b[0;34m(\u001b[0m\u001b[0mdegree\u001b[0m\u001b[0;34m=\u001b[0m\u001b[0;36m90\u001b[0m\u001b[0;34m,\u001b[0m \u001b[0minclude_bias\u001b[0m\u001b[0;34m=\u001b[0m\u001b[0;32mFalse\u001b[0m\u001b[0;34m)\u001b[0m\u001b[0;34m)\u001b[0m\u001b[0;34m,\u001b[0m\u001b[0;34m\u001b[0m\u001b[0;34m\u001b[0m\u001b[0m\n\u001b[0;32m----> 7\u001b[0;31m   \u001b[0;34m(\u001b[0m\u001b[0;34m'std_scaler'\u001b[0m\u001b[0;34m,\u001b[0m \u001b[0mStandardScaler\u001b[0m\u001b[0;34m(\u001b[0m\u001b[0;34m)\u001b[0m\u001b[0;34m)\u001b[0m\u001b[0;34m\u001b[0m\u001b[0;34m\u001b[0m\u001b[0m\n\u001b[0m\u001b[1;32m      8\u001b[0m ])\n\u001b[1;32m      9\u001b[0m \u001b[0;34m\u001b[0m\u001b[0m\n",
            "\u001b[0;31mNameError\u001b[0m: name 'StandardScaler' is not defined"
          ]
        }
      ]
    },
    {
      "cell_type": "markdown",
      "source": [
        "## 로지스틱 회귀\n",
        "- 분류에서도 사용할 수 있는 회귀 알고리즘\n",
        "- 샘플이 특정 클래스에 속할 확률을 추정하는데 사용 가능\n",
        "- 추정확률이 50% 넘으면 해당 클래스에 속하고 아니면 속하지 않는다고 예측 (이진 분류기)\n",
        "\n",
        "1. 확률 추정\n",
        "- 결과값의 로지스틱 출력 (로지스틱: 시그모이드 함수. $\\sigma(t)=\\frac{1}{1+exp(-t)}$)\n",
        "- 확류루정 $\\hat{p}=h_\\theta(x)=σ(θ^T\\cdot x)$\n",
        "- 예측 $\\hat{y}=0 (\\hat{p}<0.5), 1(\\hat{p}>=0.5)$\n",
        "- 즉, $θ^T\\cdot x$가 양수일때 1이라고 예측하고 음수일 때 0이라고 예측\n",
        "\n",
        "2. 훈련과 비용 함수\n",
        "- 하나의 훈련 샘플의 비용함수:\n",
        "  - $c(\\theta)=-log(\\hat{p}) (y=1), -log(1-\\hat{p}) (y=0)$\n",
        "- 전체 훈련 세트의 비용함수(모든 훈련 샘플의 비용 평균):\n",
        "  - $J(\\theta )=-\\frac{1}{m}Σ^m_{i=1}[y^{(i)}log(\\hat{p}^{(i)})+(1-y^{(i)})log(1-\\hat{p}^{(i)})]$ \n",
        "  - 정규방정식 같은 해는 없지만 볼록함수라서 경사 하강법으로 global minimum 찾을 수 있음\n",
        "  - 편도함수: $\\frac{∂}{∂θ_j}J(\\theta )=\\frac{1}{m}Σ^m_{i=1}(σ(θ^T\\cdot x^{(i)})-y^{(i)})x_j^{(i)}$\n",
        "\n",
        "\n",
        "3. 결정 경계\n"
      ],
      "metadata": {
        "id": "sxTMK7WuAEoj"
      }
    },
    {
      "cell_type": "code",
      "source": [
        "# 꽃잎의 너비를 기반으로 Iris-Versicolor 종을 감지하는 분류기\n",
        "from sklearn import datasets\n",
        "iris = datasets.load_iris()\n",
        "list(iris.keys())"
      ],
      "metadata": {
        "colab": {
          "base_uri": "https://localhost:8080/"
        },
        "id": "fiQu05E8C1Ue",
        "outputId": "268d5925-da1c-4491-e612-2037e76cf264"
      },
      "execution_count": 29,
      "outputs": [
        {
          "output_type": "execute_result",
          "data": {
            "text/plain": [
              "['data',\n",
              " 'target',\n",
              " 'frame',\n",
              " 'target_names',\n",
              " 'DESCR',\n",
              " 'feature_names',\n",
              " 'filename',\n",
              " 'data_module']"
            ]
          },
          "metadata": {},
          "execution_count": 29
        }
      ]
    },
    {
      "cell_type": "code",
      "source": [
        "X = iris['data'][:, 3:]\n",
        "y = (iris['target']==2).astype(np.int)"
      ],
      "metadata": {
        "colab": {
          "base_uri": "https://localhost:8080/"
        },
        "id": "niphLsNiLXH2",
        "outputId": "14f627e6-760b-4ce7-bbbe-8ba37a55e03a"
      },
      "execution_count": 30,
      "outputs": [
        {
          "output_type": "stream",
          "name": "stderr",
          "text": [
            "/usr/local/lib/python3.7/dist-packages/ipykernel_launcher.py:2: DeprecationWarning: `np.int` is a deprecated alias for the builtin `int`. To silence this warning, use `int` by itself. Doing this will not modify any behavior and is safe. When replacing `np.int`, you may wish to use e.g. `np.int64` or `np.int32` to specify the precision. If you wish to review your current use, check the release note link for additional information.\n",
            "Deprecated in NumPy 1.20; for more details and guidance: https://numpy.org/devdocs/release/1.20.0-notes.html#deprecations\n",
            "  \n"
          ]
        }
      ]
    },
    {
      "cell_type": "code",
      "source": [
        "from sklearn.linear_model import LogisticRegression\n",
        "# 사이킷런은 l2 페널티를 기본으로 함 (파라미터 C. C가 높을수록 모델의 규제 줄어듬)\n",
        "log_reg = LogisticRegression(solver='liblinear')\n",
        "log_reg.fit(X, y)"
      ],
      "metadata": {
        "colab": {
          "base_uri": "https://localhost:8080/"
        },
        "id": "W7f2xhbGMNce",
        "outputId": "0cdebdf2-04bc-4da6-fd3b-1d0d6c385243"
      },
      "execution_count": 31,
      "outputs": [
        {
          "output_type": "execute_result",
          "data": {
            "text/plain": [
              "LogisticRegression(solver='liblinear')"
            ]
          },
          "metadata": {},
          "execution_count": 31
        }
      ]
    },
    {
      "cell_type": "code",
      "source": [
        "# 양쪽 확률이 똑같이 50%가 되는 곳에서 결정 경계가 만들어짐\n",
        "X_new = np.linspace(0, 3, 1000).reshape(-1, 1)\n",
        "y_proba = log_reg.predict_proba(X_new)\n",
        "plt.plot(X_new, y_proba[:, 1], 'g-', label='Iris-Virginica')\n",
        "plt.plot(X_new, y_proba[:, 0], 'b--', label='Iris-Virginica 아님')"
      ],
      "metadata": {
        "colab": {
          "base_uri": "https://localhost:8080/",
          "height": 282
        },
        "id": "5OJ2B96wMWkF",
        "outputId": "17d66412-9789-4525-d289-42ba9afca652"
      },
      "execution_count": 32,
      "outputs": [
        {
          "output_type": "execute_result",
          "data": {
            "text/plain": [
              "[<matplotlib.lines.Line2D at 0x7fece9f100d0>]"
            ]
          },
          "metadata": {},
          "execution_count": 32
        },
        {
          "output_type": "display_data",
          "data": {
            "text/plain": [
              "<Figure size 432x288 with 1 Axes>"
            ],
            "image/png": "[encoded data removed]"
          },
          "metadata": {
            "needs_background": "light"
          }
        }
      ]
    },
    {
      "cell_type": "code",
      "source": [
        "log_reg.predict([[1.7], [1.5]])"
      ],
      "metadata": {
        "id": "X9xXf7_mMrRn",
        "colab": {
          "base_uri": "https://localhost:8080/"
        },
        "outputId": "c70dff06-52e9-4347-a6f3-2ea4ed6e3659"
      },
      "execution_count": 33,
      "outputs": [
        {
          "output_type": "execute_result",
          "data": {
            "text/plain": [
              "array([1, 0])"
            ]
          },
          "metadata": {},
          "execution_count": 33
        }
      ]
    },
    {
      "cell_type": "markdown",
      "source": [
        "4. 소프트맥스 회귀\n",
        "- 다항 로지스틱 회귀. 직접 다중 클래스 지원\n",
        "- 소프트맥스 회귀 모델이 샘플 x의 각 클래스 k에 대해 점수 s를 계산하고, 그 점수에 소프트맥스 함수 적용하여 각 클래스의 확률을 추정.\n",
        "- $s_k(x)=(θ^{(k)})^T \\cdot x$\n",
        "- $\\hat{p}_k=σ(s(x))_k=\\frac{exp(s_k(x))}{Σ^K_{j=1}exp(s_j(x))}$\n",
        "- K: 클래스 수\n",
        "- 추정 확률이 가장 높은 클래스 선택\n",
        "- 크로스 엔트로피 비용 함수 최소화하게 학습\n",
        "  - 타깃 클래스에 대해 낮은 확률을 예측하는 모델을 억제\n",
        "  - $J(Θ)=-\\frac{1}{m}Σ^m_{i=1}Σ^K_{k=1}y^{(i)}_klog(\\hat{p}_k^{(i)})$\n",
        "  - i번째 샘플의 타깃클래스가 k일 때, $y^{(i)}_k$는 1, 그 외는 0\n",
        "  - 클래스가 2개일 때, 로지스틱 회귀의 비용함수와 같음 (로그 손실)\n",
        "  - 그래디언트 벡터:$∇_{θ^{(k)}}  J(Θ)=\\frac{1}{m}Σ^m_{i=1}(\\hat{p}^{(i)}_k-y^{(i)}_k)x^{(i)}$\n"
      ],
      "metadata": {
        "id": "ikFuzfARqryg"
      }
    },
    {
      "cell_type": "code",
      "source": [
        "# 소프트맥스 회귀\n",
        "# 붓꽃을 세 개의 클래스로 분류.\n",
        "# Logistic Regression은 OvA 전략을 사용하지만 multi_class 매개변수를 'multinomial'로 바꾸면 소프트맥스 회귀\n",
        "X = iris['data'][:, (2, 3)] # 꽃잎 길이, 꽃잎 너비\n",
        "y = iris['target']\n",
        "softmax_reg = LogisticRegression(multi_class='multinomial', solver='lbfgs', C=10)\n",
        "softmax_reg.fit(X, y)"
      ],
      "metadata": {
        "colab": {
          "base_uri": "https://localhost:8080/"
        },
        "id": "EHV1TWFOxNiS",
        "outputId": "0e07178a-87d9-46e5-b1f3-6720875cf22f"
      },
      "execution_count": 34,
      "outputs": [
        {
          "output_type": "execute_result",
          "data": {
            "text/plain": [
              "LogisticRegression(C=10, multi_class='multinomial')"
            ]
          },
          "metadata": {},
          "execution_count": 34
        }
      ]
    },
    {
      "cell_type": "code",
      "source": [
        "softmax_reg.predict([[5, 2]])"
      ],
      "metadata": {
        "colab": {
          "base_uri": "https://localhost:8080/"
        },
        "id": "zwn6hu1HyNAS",
        "outputId": "d1753222-db97-45f7-f1e9-2bdf5e7ed90a"
      },
      "execution_count": 35,
      "outputs": [
        {
          "output_type": "execute_result",
          "data": {
            "text/plain": [
              "array([2])"
            ]
          },
          "metadata": {},
          "execution_count": 35
        }
      ]
    },
    {
      "cell_type": "code",
      "source": [
        "softmax_reg.predict_proba([[5, 2]])"
      ],
      "metadata": {
        "colab": {
          "base_uri": "https://localhost:8080/"
        },
        "id": "ZNDZJwdeyg7W",
        "outputId": "52410ca8-b63f-4b84-c605-5d0b33c3437a"
      },
      "execution_count": 37,
      "outputs": [
        {
          "output_type": "execute_result",
          "data": {
            "text/plain": [
              "array([[6.38014896e-07, 5.74929995e-02, 9.42506362e-01]])"
            ]
          },
          "metadata": {},
          "execution_count": 37
        }
      ]
    },
    {
      "cell_type": "code",
      "source": [
        ""
      ],
      "metadata": {
        "id": "ai1QGOH1yjeF"
      },
      "execution_count": null,
      "outputs": []
    }
  ]
}