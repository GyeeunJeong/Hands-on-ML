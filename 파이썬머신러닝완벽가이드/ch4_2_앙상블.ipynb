{
  "nbformat": 4,
  "nbformat_minor": 0,
  "metadata": {
    "colab": {
      "provenance": [],
      "authorship_tag": "ABX9TyO2YydmFKgk8eGFN40/5uXQ",
      "include_colab_link": true
    },
    "kernelspec": {
      "name": "python3",
      "display_name": "Python 3"
    },
    "language_info": {
      "name": "python"
    }
  },
  "cells": [
    {
      "cell_type": "markdown",
      "metadata": {
        "id": "view-in-github",
        "colab_type": "text"
      },
      "source": [
        "<a href=\"https://colab.research.google.com/github/joyfulspace/Books/blob/main/%ED%8C%8C%EC%9D%B4%EC%8D%AC%EB%A8%B8%EC%8B%A0%EB%9F%AC%EB%8B%9D%EC%99%84%EB%B2%BD%EA%B0%80%EC%9D%B4%EB%93%9C/ch4_2_%EC%95%99%EC%83%81%EB%B8%94.ipynb\" target=\"_parent\"><img src=\"https://colab.research.google.com/assets/colab-badge.svg\" alt=\"Open In Colab\"/></a>"
      ]
    },
    {
      "cell_type": "markdown",
      "source": [
        "# 4.3 앙상블 개요\n",
        "* 앙상블: 다양한 분류기의 예측 결과를 결합하여 단일 분류기보다 신뢰성이 높은 예측값을 얻는 것. 알고리즘의 장점은 취하고 단점은 보완하면서 편향-분산 트레이드오프 효과를 극대화할 수 있음.\n",
        "  - 보팅: 서로 다른 알고리즘 결합\n",
        "    - 하드보팅: 다수결\n",
        "    - 소프트보팅: 레이블 결정 확률을 더하고 평균내서 가장 높은 값으로 레이블 결정\n",
        "  - 배깅: 같은 알고리즘에 데이터 샘플링을 다르게 보팅. ex) Random Forest\n",
        "    - 데이터 샘플링: 부트스트래핑 방법. 데이터 중첩 허용.\n",
        "  - 부스팅: 여러 개 분류기를 순차적으로 학습. 앞에서 예측이 틀린 데이터에 가중치 부여. ex) 그래디언트 부스트, XGBoost, LightGBM\n",
        "  - 스태킹: 여러 다른 모델의 예측 결과값을 다시 학습 데이터로 만들어 다른 모델로 재학습"
      ],
      "metadata": {
        "id": "f-JUs3qFtgjI"
      }
    },
    {
      "cell_type": "code",
      "source": [
        "!git clone https://github.com/joyfulspace/Books.git"
      ],
      "metadata": {
        "colab": {
          "base_uri": "https://localhost:8080/"
        },
        "id": "VuvcykJCBA2b",
        "outputId": "3cba32c3-30d4-4c70-d416-1252fe8a553c"
      },
      "execution_count": 5,
      "outputs": [
        {
          "output_type": "stream",
          "name": "stdout",
          "text": [
            "Cloning into 'Books'...\n",
            "remote: Enumerating objects: 118, done.\u001b[K\n",
            "remote: Counting objects: 100% (118/118), done.\u001b[K\n",
            "remote: Compressing objects: 100% (106/106), done.\u001b[K\n",
            "remote: Total 118 (delta 33), reused 33 (delta 6), pack-reused 0\u001b[K\n",
            "Receiving objects: 100% (118/118), 59.10 MiB | 6.56 MiB/s, done.\n",
            "Resolving deltas: 100% (33/33), done.\n",
            "Checking out files: 100% (44/44), done.\n"
          ]
        }
      ]
    },
    {
      "cell_type": "code",
      "source": [
        "Path = '/content/Books/파이썬머신러닝완벽가이드/data'"
      ],
      "metadata": {
        "id": "QeJOqXaVBCjT"
      },
      "execution_count": 4,
      "outputs": []
    },
    {
      "cell_type": "markdown",
      "source": [
        "### Voting Classifier"
      ],
      "metadata": {
        "id": "tYPL1xiqwXtX"
      }
    },
    {
      "cell_type": "code",
      "source": [
        "import pandas as pd\n",
        "\n",
        "from sklearn.ensemble import VotingClassifier\n",
        "from sklearn.linear_model import LogisticRegression\n",
        "from sklearn.neighbors import KNeighborsClassifier\n",
        "from sklearn.datasets import load_breast_cancer\n",
        "from sklearn.model_selection import train_test_split\n",
        "from sklearn.metrics import accuracy_score\n",
        "\n",
        "cancer = load_breast_cancer()\n",
        "\n",
        "data_df = pd.DataFrame(cancer.data, columns=cancer.feature_names)\n",
        "data_df.head(3)"
      ],
      "metadata": {
        "colab": {
          "base_uri": "https://localhost:8080/",
          "height": 271
        },
        "id": "hq3GBgcT54QQ",
        "outputId": "37632b04-be04-4e45-f475-4b3f97dd6a46"
      },
      "execution_count": 6,
      "outputs": [
        {
          "output_type": "execute_result",
          "data": {
            "text/plain": [
              "   mean radius  mean texture  mean perimeter  mean area  mean smoothness  \\\n",
              "0        17.99         10.38           122.8     1001.0          0.11840   \n",
              "1        20.57         17.77           132.9     1326.0          0.08474   \n",
              "2        19.69         21.25           130.0     1203.0          0.10960   \n",
              "\n",
              "   mean compactness  mean concavity  mean concave points  mean symmetry  \\\n",
              "0           0.27760          0.3001              0.14710         0.2419   \n",
              "1           0.07864          0.0869              0.07017         0.1812   \n",
              "2           0.15990          0.1974              0.12790         0.2069   \n",
              "\n",
              "   mean fractal dimension  ...  worst radius  worst texture  worst perimeter  \\\n",
              "0                 0.07871  ...         25.38          17.33            184.6   \n",
              "1                 0.05667  ...         24.99          23.41            158.8   \n",
              "2                 0.05999  ...         23.57          25.53            152.5   \n",
              "\n",
              "   worst area  worst smoothness  worst compactness  worst concavity  \\\n",
              "0      2019.0            0.1622             0.6656           0.7119   \n",
              "1      1956.0            0.1238             0.1866           0.2416   \n",
              "2      1709.0            0.1444             0.4245           0.4504   \n",
              "\n",
              "   worst concave points  worst symmetry  worst fractal dimension  \n",
              "0                0.2654          0.4601                  0.11890  \n",
              "1                0.1860          0.2750                  0.08902  \n",
              "2                0.2430          0.3613                  0.08758  \n",
              "\n",
              "[3 rows x 30 columns]"
            ],
            "text/html": [
              "\n",
              "  <div id=\"df-3c24dc6e-6ed7-4ca4-b92b-c9f70d01fe1e\">\n",
              "    <div class=\"colab-df-container\">\n",
              "      <div>\n",
              "<style scoped>\n",
              "    .dataframe tbody tr th:only-of-type {\n",
              "        vertical-align: middle;\n",
              "    }\n",
              "\n",
              "    .dataframe tbody tr th {\n",
              "        vertical-align: top;\n",
              "    }\n",
              "\n",
              "    .dataframe thead th {\n",
              "        text-align: right;\n",
              "    }\n",
              "</style>\n",
              "<table border=\"1\" class=\"dataframe\">\n",
              "  <thead>\n",
              "    <tr style=\"text-align: right;\">\n",
              "      <th></th>\n",
              "      <th>mean radius</th>\n",
              "      <th>mean texture</th>\n",
              "      <th>mean perimeter</th>\n",
              "      <th>mean area</th>\n",
              "      <th>mean smoothness</th>\n",
              "      <th>mean compactness</th>\n",
              "      <th>mean concavity</th>\n",
              "      <th>mean concave points</th>\n",
              "      <th>mean symmetry</th>\n",
              "      <th>mean fractal dimension</th>\n",
              "      <th>...</th>\n",
              "      <th>worst radius</th>\n",
              "      <th>worst texture</th>\n",
              "      <th>worst perimeter</th>\n",
              "      <th>worst area</th>\n",
              "      <th>worst smoothness</th>\n",
              "      <th>worst compactness</th>\n",
              "      <th>worst concavity</th>\n",
              "      <th>worst concave points</th>\n",
              "      <th>worst symmetry</th>\n",
              "      <th>worst fractal dimension</th>\n",
              "    </tr>\n",
              "  </thead>\n",
              "  <tbody>\n",
              "    <tr>\n",
              "      <th>0</th>\n",
              "      <td>17.99</td>\n",
              "      <td>10.38</td>\n",
              "      <td>122.8</td>\n",
              "      <td>1001.0</td>\n",
              "      <td>0.11840</td>\n",
              "      <td>0.27760</td>\n",
              "      <td>0.3001</td>\n",
              "      <td>0.14710</td>\n",
              "      <td>0.2419</td>\n",
              "      <td>0.07871</td>\n",
              "      <td>...</td>\n",
              "      <td>25.38</td>\n",
              "      <td>17.33</td>\n",
              "      <td>184.6</td>\n",
              "      <td>2019.0</td>\n",
              "      <td>0.1622</td>\n",
              "      <td>0.6656</td>\n",
              "      <td>0.7119</td>\n",
              "      <td>0.2654</td>\n",
              "      <td>0.4601</td>\n",
              "      <td>0.11890</td>\n",
              "    </tr>\n",
              "    <tr>\n",
              "      <th>1</th>\n",
              "      <td>20.57</td>\n",
              "      <td>17.77</td>\n",
              "      <td>132.9</td>\n",
              "      <td>1326.0</td>\n",
              "      <td>0.08474</td>\n",
              "      <td>0.07864</td>\n",
              "      <td>0.0869</td>\n",
              "      <td>0.07017</td>\n",
              "      <td>0.1812</td>\n",
              "      <td>0.05667</td>\n",
              "      <td>...</td>\n",
              "      <td>24.99</td>\n",
              "      <td>23.41</td>\n",
              "      <td>158.8</td>\n",
              "      <td>1956.0</td>\n",
              "      <td>0.1238</td>\n",
              "      <td>0.1866</td>\n",
              "      <td>0.2416</td>\n",
              "      <td>0.1860</td>\n",
              "      <td>0.2750</td>\n",
              "      <td>0.08902</td>\n",
              "    </tr>\n",
              "    <tr>\n",
              "      <th>2</th>\n",
              "      <td>19.69</td>\n",
              "      <td>21.25</td>\n",
              "      <td>130.0</td>\n",
              "      <td>1203.0</td>\n",
              "      <td>0.10960</td>\n",
              "      <td>0.15990</td>\n",
              "      <td>0.1974</td>\n",
              "      <td>0.12790</td>\n",
              "      <td>0.2069</td>\n",
              "      <td>0.05999</td>\n",
              "      <td>...</td>\n",
              "      <td>23.57</td>\n",
              "      <td>25.53</td>\n",
              "      <td>152.5</td>\n",
              "      <td>1709.0</td>\n",
              "      <td>0.1444</td>\n",
              "      <td>0.4245</td>\n",
              "      <td>0.4504</td>\n",
              "      <td>0.2430</td>\n",
              "      <td>0.3613</td>\n",
              "      <td>0.08758</td>\n",
              "    </tr>\n",
              "  </tbody>\n",
              "</table>\n",
              "<p>3 rows × 30 columns</p>\n",
              "</div>\n",
              "      <button class=\"colab-df-convert\" onclick=\"convertToInteractive('df-3c24dc6e-6ed7-4ca4-b92b-c9f70d01fe1e')\"\n",
              "              title=\"Convert this dataframe to an interactive table.\"\n",
              "              style=\"display:none;\">\n",
              "        \n",
              "  <svg xmlns=\"http://www.w3.org/2000/svg\" height=\"24px\"viewBox=\"0 0 24 24\"\n",
              "       width=\"24px\">\n",
              "    <path d=\"M0 0h24v24H0V0z\" fill=\"none\"/>\n",
              "    <path d=\"M18.56 5.44l.94 2.06.94-2.06 2.06-.94-2.06-.94-.94-2.06-.94 2.06-2.06.94zm-11 1L8.5 8.5l.94-2.06 2.06-.94-2.06-.94L8.5 2.5l-.94 2.06-2.06.94zm10 10l.94 2.06.94-2.06 2.06-.94-2.06-.94-.94-2.06-.94 2.06-2.06.94z\"/><path d=\"M17.41 7.96l-1.37-1.37c-.4-.4-.92-.59-1.43-.59-.52 0-1.04.2-1.43.59L10.3 9.45l-7.72 7.72c-.78.78-.78 2.05 0 2.83L4 21.41c.39.39.9.59 1.41.59.51 0 1.02-.2 1.41-.59l7.78-7.78 2.81-2.81c.8-.78.8-2.07 0-2.86zM5.41 20L4 18.59l7.72-7.72 1.47 1.35L5.41 20z\"/>\n",
              "  </svg>\n",
              "      </button>\n",
              "      \n",
              "  <style>\n",
              "    .colab-df-container {\n",
              "      display:flex;\n",
              "      flex-wrap:wrap;\n",
              "      gap: 12px;\n",
              "    }\n",
              "\n",
              "    .colab-df-convert {\n",
              "      background-color: #E8F0FE;\n",
              "      border: none;\n",
              "      border-radius: 50%;\n",
              "      cursor: pointer;\n",
              "      display: none;\n",
              "      fill: #1967D2;\n",
              "      height: 32px;\n",
              "      padding: 0 0 0 0;\n",
              "      width: 32px;\n",
              "    }\n",
              "\n",
              "    .colab-df-convert:hover {\n",
              "      background-color: #E2EBFA;\n",
              "      box-shadow: 0px 1px 2px rgba(60, 64, 67, 0.3), 0px 1px 3px 1px rgba(60, 64, 67, 0.15);\n",
              "      fill: #174EA6;\n",
              "    }\n",
              "\n",
              "    [theme=dark] .colab-df-convert {\n",
              "      background-color: #3B4455;\n",
              "      fill: #D2E3FC;\n",
              "    }\n",
              "\n",
              "    [theme=dark] .colab-df-convert:hover {\n",
              "      background-color: #434B5C;\n",
              "      box-shadow: 0px 1px 3px 1px rgba(0, 0, 0, 0.15);\n",
              "      filter: drop-shadow(0px 1px 2px rgba(0, 0, 0, 0.3));\n",
              "      fill: #FFFFFF;\n",
              "    }\n",
              "  </style>\n",
              "\n",
              "      <script>\n",
              "        const buttonEl =\n",
              "          document.querySelector('#df-3c24dc6e-6ed7-4ca4-b92b-c9f70d01fe1e button.colab-df-convert');\n",
              "        buttonEl.style.display =\n",
              "          google.colab.kernel.accessAllowed ? 'block' : 'none';\n",
              "\n",
              "        async function convertToInteractive(key) {\n",
              "          const element = document.querySelector('#df-3c24dc6e-6ed7-4ca4-b92b-c9f70d01fe1e');\n",
              "          const dataTable =\n",
              "            await google.colab.kernel.invokeFunction('convertToInteractive',\n",
              "                                                     [key], {});\n",
              "          if (!dataTable) return;\n",
              "\n",
              "          const docLinkHtml = 'Like what you see? Visit the ' +\n",
              "            '<a target=\"_blank\" href=https://colab.research.google.com/notebooks/data_table.ipynb>data table notebook</a>'\n",
              "            + ' to learn more about interactive tables.';\n",
              "          element.innerHTML = '';\n",
              "          dataTable['output_type'] = 'display_data';\n",
              "          await google.colab.output.renderOutput(dataTable, element);\n",
              "          const docLink = document.createElement('div');\n",
              "          docLink.innerHTML = docLinkHtml;\n",
              "          element.appendChild(docLink);\n",
              "        }\n",
              "      </script>\n",
              "    </div>\n",
              "  </div>\n",
              "  "
            ]
          },
          "metadata": {},
          "execution_count": 6
        }
      ]
    },
    {
      "cell_type": "code",
      "source": [
        "# 개별 모델을 로지스틱 회귀와 KNN.\n",
        "lr_clf = LogisticRegression(solver='liblinear')\n",
        "knn_clf = KNeighborsClassifier(n_neighbors=8)\n",
        "\n",
        "# 개별 모델을 소프트 보팅 기반의 앙상블 모델로 구현한 분류기\n",
        "vo_clf = VotingClassifier(estimators=[('LR', lr_clf), ('KNN', knn_clf)], voting='soft')\n",
        "\n",
        "X_train, X_test, y_train, y_test = train_test_split(cancer.data, cancer.target, test_size=0.2, random_state=156)\n",
        "\n",
        "# VotingClassifier 학습/예측/평가\n",
        "vo_clf.fit(X_train, y_train)\n",
        "pred = vo_clf.predict(X_test)\n",
        "print('Voting 분류기 정확도: {0:.4f}'.format(accuracy_score(y_test, pred)))\n",
        "\n",
        "# 개별 모델의 학습/예측/평가\n",
        "classifiers = [lr_clf, knn_clf]\n",
        "for classifier in classifiers:\n",
        "  classifier.fit(X_train, y_train)\n",
        "  pred = classifier.predict(X_test)\n",
        "  class_name = classifier.__class__.__name__\n",
        "  print('{0} 정확도: {1:.4f}'.format(class_name, accuracy_score(y_test, pred)))\n"
      ],
      "metadata": {
        "colab": {
          "base_uri": "https://localhost:8080/"
        },
        "id": "lrEV03kb6XFn",
        "outputId": "8122b175-0d22-4c4c-890f-41c8a7c927df"
      },
      "execution_count": 7,
      "outputs": [
        {
          "output_type": "stream",
          "name": "stdout",
          "text": [
            "Voting 분류기 정확도: 0.9561\n",
            "LogisticRegression 정확도: 0.9474\n",
            "KNeighborsClassifier 정확도: 0.9386\n"
          ]
        }
      ]
    },
    {
      "cell_type": "markdown",
      "source": [
        "## 4.4 Random Forest"
      ],
      "metadata": {
        "id": "15YK7D637hEZ"
      }
    },
    {
      "cell_type": "code",
      "source": [
        "def get_new_feature_name_df(old_feature_name_df):\n",
        "  feature_dup_df = pd.DataFrame(data=old_feature_name_df.groupby('column_name').cumcount(),\n",
        "                                columns=['dup_cnt'])\n",
        "  feature_dup_df = feature_dup_df.reset_index()\n",
        "  new_feature_name_df = pd.merge(old_feature_name_df.reset_index(), feature_dup_df, how='outer')\n",
        "  new_feature_name_df['column_name'] = new_feature_name_df[['column_name', 'dup_cnt']].apply(lambda x : x[0]+'_'+str(x[1]) \n",
        "                                                                                        if x[1] >0 else x[0] ,  axis=1)\n",
        "  new_feature_name_df = new_feature_name_df.drop(['index'], axis=1)\n",
        "  return new_feature_name_df"
      ],
      "metadata": {
        "id": "0NVEXaIs7eeh"
      },
      "execution_count": 8,
      "outputs": []
    },
    {
      "cell_type": "code",
      "source": [
        "import pandas as pd\n",
        "\n",
        "def get_human_dataset( ):\n",
        "  \n",
        "  # 각 데이터 파일들은 공백으로 분리되어 있으므로 read_csv에서 공백 문자를 sep으로 할당.\n",
        "  feature_name_df = pd.read_csv(f'{Path}/human_activity/features.txt',sep='\\s+',\n",
        "                      header=None,names=['column_index','column_name'])\n",
        "  \n",
        "  # 중복된 피처명을 수정하는 get_new_feature_name_df()를 이용, 신규 피처명 DataFrame생성. \n",
        "  new_feature_name_df = get_new_feature_name_df(feature_name_df)\n",
        "  \n",
        "  # DataFrame에 피처명을 컬럼으로 부여하기 위해 리스트 객체로 다시 변환\n",
        "  feature_name = new_feature_name_df.iloc[:, 1].values.tolist()\n",
        "  \n",
        "  # 학습 피처 데이터 셋과 테스트 피처 데이터을 DataFrame으로 로딩. 컬럼명은 feature_name 적용\n",
        "  X_train = pd.read_csv(f'{Path}/human_activity/train/X_train.txt',sep='\\s+', names=feature_name )\n",
        "  X_test = pd.read_csv(f'{Path}/human_activity/test/X_test.txt',sep='\\s+', names=feature_name)\n",
        "  \n",
        "  # 학습 레이블과 테스트 레이블 데이터을 DataFrame으로 로딩하고 컬럼명은 action으로 부여\n",
        "  y_train = pd.read_csv(f'{Path}/human_activity/train/y_train.txt',sep='\\s+',header=None,names=['action'])\n",
        "  y_test = pd.read_csv(f'{Path}/human_activity/test/y_test.txt',sep='\\s+',header=None,names=['action'])\n",
        "  \n",
        "  # 로드된 학습/테스트용 DataFrame을 모두 반환 \n",
        "  return X_train, X_test, y_train, y_test\n",
        "\n",
        "\n",
        "X_train, X_test, y_train, y_test = get_human_dataset()"
      ],
      "metadata": {
        "id": "oO7LItiOAuMv"
      },
      "execution_count": 9,
      "outputs": []
    },
    {
      "cell_type": "code",
      "source": [
        "from sklearn.ensemble import RandomForestClassifier\n",
        "from sklearn.metrics import accuracy_score\n",
        "import pandas as pd\n",
        "import warnings\n",
        "warnings.filterwarnings('ignore')\n",
        "\n",
        "# 결정 트리에서 사용한 get_human_dataset( )을 이용해 학습/테스트용 DataFrame 반환\n",
        "X_train, X_test, y_train, y_test = get_human_dataset()\n",
        "\n",
        "# 랜덤 포레스트 학습 및 별도의 테스트 셋으로 예측 성능 평가\n",
        "rf_clf = RandomForestClassifier(random_state=0)\n",
        "rf_clf.fit(X_train, y_train)\n",
        "pred = rf_clf.predict(X_test)\n",
        "accuracy = accuracy_score(y_test, pred)\n",
        "print('랜덤 포레스트 정확도: {0:.4f}'.format(accuracy))"
      ],
      "metadata": {
        "colab": {
          "base_uri": "https://localhost:8080/"
        },
        "id": "SQx8LklTBD-r",
        "outputId": "22417dd5-9079-48fb-e541-dc60e8d96989"
      },
      "execution_count": 10,
      "outputs": [
        {
          "output_type": "stream",
          "name": "stdout",
          "text": [
            "랜덤 포레스트 정확도: 0.9253\n"
          ]
        }
      ]
    },
    {
      "cell_type": "code",
      "source": [
        "# 랜덤 포레스트 하이퍼 파라미터 튜닝\n",
        "from sklearn.model_selection import GridSearchCV\n",
        "\n",
        "params = {\n",
        "    'n_estimators':[100],  # 결정 트리의 개수.\n",
        "    'max_depth':[6, 8, 10, 12],\n",
        "    'min_samples_leaf':[8, 12, 18],\n",
        "    'min_samples_split':[8, 16, 20]\n",
        "}\n",
        "\n",
        "# RandomForestClassifier 객체 생성 후 GridSearchCV 수행\n",
        "rf_clf = RandomForestClassifier(random_state=0, n_jobs=-1) # n_jobs=-1이면 모든 CPU 코어 사용\n",
        "grid_cv = GridSearchCV(rf_clf, param_grid=params, cv=2, n_jobs=-1)\n",
        "grid_cv.fit(X_train, y_train)\n",
        "\n",
        "print('최적 하이퍼 파라미터:\\n', grid_cv.best_params_)\n",
        "print('최고 예측 정확도: {0:.4f}'.format(grid_cv.best_score_))"
      ],
      "metadata": {
        "colab": {
          "base_uri": "https://localhost:8080/"
        },
        "id": "DDG60D6rBpcv",
        "outputId": "5672571c-9174-4b93-864d-cc4ee21e0aae"
      },
      "execution_count": 10,
      "outputs": [
        {
          "output_type": "stream",
          "name": "stdout",
          "text": [
            "최적 하이퍼 파라미터:\n",
            " {'max_depth': 10, 'min_samples_leaf': 8, 'min_samples_split': 8, 'n_estimators': 100}\n",
            "최고 예측 정확도: 0.9180\n"
          ]
        }
      ]
    },
    {
      "cell_type": "code",
      "source": [
        "rf_clf1 = RandomForestClassifier(n_estimators=100, min_samples_leaf=6, max_depth=16,\n",
        "                                 min_samples_split=2, random_state=0)\n",
        "rf_clf1.fit(X_train, y_train)\n",
        "pred = rf_clf1.predict(X_test)\n",
        "print('예측 정확도: {0:.4f}'.format(accuracy_score(y_test, pred)))"
      ],
      "metadata": {
        "colab": {
          "base_uri": "https://localhost:8080/"
        },
        "id": "QjlTJ31FD3yX",
        "outputId": "932e8166-4ff5-444f-bb41-bc7e93262ff9"
      },
      "execution_count": 11,
      "outputs": [
        {
          "output_type": "stream",
          "name": "stdout",
          "text": [
            "예측 정확도: 0.9260\n"
          ]
        }
      ]
    },
    {
      "cell_type": "code",
      "source": [
        "import matplotlib.pyplot as plt\n",
        "import seaborn as sns\n",
        "%matplotlib inline\n",
        "\n",
        "ftr_importances_values = rf_clf1.feature_importances_\n",
        "ftr_importances = pd.Series(ftr_importances_values, index=X_train.columns)\n",
        "ftr_top20 = ftr_importances.sort_values(ascending=False)[:20]\n",
        "\n",
        "plt.figure(figsize=(8,6))\n",
        "plt.title('Feature importances Top 20')\n",
        "sns.barplot(x=ftr_top20, y=ftr_top20.index)\n",
        "plt.show()"
      ],
      "metadata": {
        "colab": {
          "base_uri": "https://localhost:8080/",
          "height": 390
        },
        "id": "uKLV7SvbEsDr",
        "outputId": "cba072d7-a159-4ec7-eb9d-e08b6111c369"
      },
      "execution_count": 12,
      "outputs": [
        {
          "output_type": "display_data",
          "data": {
            "text/plain": [
              "<Figure size 576x432 with 1 Axes>"
            ],
            "image/png": "[encoded data removed]"
          },
          "metadata": {
            "needs_background": "light"
          }
        }
      ]
    },
    {
      "cell_type": "markdown",
      "source": [
        "## 4.5 GBM(Gradient Boosting Machine)"
      ],
      "metadata": {
        "id": "oGqa3FKqQcuC"
      }
    },
    {
      "cell_type": "code",
      "source": [
        "from sklearn.ensemble import GradientBoostingClassifier\n",
        "import time\n",
        "import warnings\n",
        "warnings.filterwarnings('ignore')\n",
        "\n",
        "X_train, X_test, y_train, y_test = get_human_dataset()\n",
        "\n",
        "# GBM 수행 시간 측정을 위함. 시작 시간 설정.\n",
        "start_time = time.time()\n",
        "\n",
        "gb_clf = GradientBoostingClassifier(random_state=0)\n",
        "gb_clf.fit(X_train, y_train)\n",
        "gb_pred = gb_clf.predict(X_test)\n",
        "gb_accuracy = accuracy_score(y_test, gb_pred)\n",
        "\n",
        "print('GBM 정확도: {0:.4f}'.format(gb_accuracy))\n",
        "print('GBM 수행 시간: {0:.1f} 초'.format(time.time() - start_time))"
      ],
      "metadata": {
        "colab": {
          "base_uri": "https://localhost:8080/"
        },
        "id": "l2uiz6N2FKUH",
        "outputId": "d74cd64d-4eb1-4323-d0de-ceabd1b9082c"
      },
      "execution_count": 13,
      "outputs": [
        {
          "output_type": "stream",
          "name": "stdout",
          "text": [
            "GBM 정확도: 0.9386\n",
            "GBM 수행 시간: 914.0 초\n"
          ]
        }
      ]
    },
    {
      "cell_type": "code",
      "source": [
        "# GBM 하이퍼 파라미터 튜닝.\n",
        "# GBM 학습속도가 저하되어 참고용으로만 사용.\n",
        "from sklearn.model_selection import GridSearchCV\n",
        "\n",
        "params = {\n",
        "    'n_estimators':[100, 500], # weak learner의 개수\n",
        "    'learning_rate':[0.05, 0.1]\n",
        "    # loss: 경사 하강법에 사용할 비용 함수\n",
        "    # subsample: weak learner가 학습에 사용하는 데이터 샘플링 비율\n",
        "}\n",
        "grid_cv = GridSearchCV(gb_clf, param_grid=params, cv=2, verbose=1)\n",
        "grid_cv.fit(X_train, y_train)\n",
        "print('최적 하이퍼 파라미터:\\n', grid_cv.best_params_)\n",
        "print('최고 예측 정확도: {0:.4f}'.format(grid_cv.best_score_))"
      ],
      "metadata": {
        "id": "zBMbikcmRF4q"
      },
      "execution_count": null,
      "outputs": []
    },
    {
      "cell_type": "code",
      "source": [
        "# GridSearchCV를 이용하여 최적으로 학습된 estimator로 predict 수행\n",
        "gb_pred = grid_cv.best_estimator_.predict(X_test)\n",
        "gb_accuracy = accuracy_score(y_test, gb_pred)\n",
        "print('GBM 정확도: {0:.4f}'.format(gb_accuracy))"
      ],
      "metadata": {
        "id": "VNVmRaK9RoCf"
      },
      "execution_count": null,
      "outputs": []
    },
    {
      "cell_type": "markdown",
      "source": [
        "## 4.6 XGBoost\n",
        "* 장점\n",
        "  1. 뛰어난 예측 성능\n",
        "  2. GBM 대비 빠른 수행시간\n",
        "  3. 과적합 규제 (GBM은 없음)\n",
        "  4. Tree pruning(나무 가지치기): 긍정 이득이 없는 분할을 가지치기 해서 분할 수를 더 줄임\n",
        "  5. 자체 내장된 교차 검증: 반복 수행 시마다 교차 검증 수행해 최적화된 반복 수행 횟수 가짐. 조기 중단 기능도 있음\n",
        "  6. 결손값 자체 처리"
      ],
      "metadata": {
        "id": "QrQEudTjTEfy"
      }
    },
    {
      "cell_type": "markdown",
      "source": [
        "### 위스콘신 유방암 예측"
      ],
      "metadata": {
        "id": "ICbIK3FWUUb5"
      }
    },
    {
      "cell_type": "code",
      "source": [
        "import xgboost as xgb\n",
        "from xgboost import plot_importance\n",
        "import pandas as pd\n",
        "import numpy as np\n",
        "from sklearn.datasets import load_breast_cancer\n",
        "from sklearn.model_selection import train_test_split\n",
        "import warnings\n",
        "warnings.filterwarnings('ignore')\n",
        "\n",
        "dataset = load_breast_cancer()\n",
        "X_features = dataset.data\n",
        "y_label = dataset.target\n",
        "\n",
        "cancer_df = pd.DataFrame(data=X_features, columns=dataset.feature_names)\n",
        "cancer_df['target'] = y_label\n",
        "cancer_df.head(3)"
      ],
      "metadata": {
        "colab": {
          "base_uri": "https://localhost:8080/",
          "height": 271
        },
        "id": "tKQ3nEqmTwzW",
        "outputId": "f69760e2-e57b-42af-faea-b61c8eeb888c"
      },
      "execution_count": 18,
      "outputs": [
        {
          "output_type": "execute_result",
          "data": {
            "text/plain": [
              "   mean radius  mean texture  mean perimeter  mean area  mean smoothness  \\\n",
              "0        17.99         10.38           122.8     1001.0          0.11840   \n",
              "1        20.57         17.77           132.9     1326.0          0.08474   \n",
              "2        19.69         21.25           130.0     1203.0          0.10960   \n",
              "\n",
              "   mean compactness  mean concavity  mean concave points  mean symmetry  \\\n",
              "0           0.27760          0.3001              0.14710         0.2419   \n",
              "1           0.07864          0.0869              0.07017         0.1812   \n",
              "2           0.15990          0.1974              0.12790         0.2069   \n",
              "\n",
              "   mean fractal dimension  ...  worst texture  worst perimeter  worst area  \\\n",
              "0                 0.07871  ...          17.33            184.6      2019.0   \n",
              "1                 0.05667  ...          23.41            158.8      1956.0   \n",
              "2                 0.05999  ...          25.53            152.5      1709.0   \n",
              "\n",
              "   worst smoothness  worst compactness  worst concavity  worst concave points  \\\n",
              "0            0.1622             0.6656           0.7119                0.2654   \n",
              "1            0.1238             0.1866           0.2416                0.1860   \n",
              "2            0.1444             0.4245           0.4504                0.2430   \n",
              "\n",
              "   worst symmetry  worst fractal dimension  target  \n",
              "0          0.4601                  0.11890       0  \n",
              "1          0.2750                  0.08902       0  \n",
              "2          0.3613                  0.08758       0  \n",
              "\n",
              "[3 rows x 31 columns]"
            ],
            "text/html": [
              "\n",
              "  <div id=\"df-11dfd108-b940-4714-8894-06b458e84a0f\">\n",
              "    <div class=\"colab-df-container\">\n",
              "      <div>\n",
              "<style scoped>\n",
              "    .dataframe tbody tr th:only-of-type {\n",
              "        vertical-align: middle;\n",
              "    }\n",
              "\n",
              "    .dataframe tbody tr th {\n",
              "        vertical-align: top;\n",
              "    }\n",
              "\n",
              "    .dataframe thead th {\n",
              "        text-align: right;\n",
              "    }\n",
              "</style>\n",
              "<table border=\"1\" class=\"dataframe\">\n",
              "  <thead>\n",
              "    <tr style=\"text-align: right;\">\n",
              "      <th></th>\n",
              "      <th>mean radius</th>\n",
              "      <th>mean texture</th>\n",
              "      <th>mean perimeter</th>\n",
              "      <th>mean area</th>\n",
              "      <th>mean smoothness</th>\n",
              "      <th>mean compactness</th>\n",
              "      <th>mean concavity</th>\n",
              "      <th>mean concave points</th>\n",
              "      <th>mean symmetry</th>\n",
              "      <th>mean fractal dimension</th>\n",
              "      <th>...</th>\n",
              "      <th>worst texture</th>\n",
              "      <th>worst perimeter</th>\n",
              "      <th>worst area</th>\n",
              "      <th>worst smoothness</th>\n",
              "      <th>worst compactness</th>\n",
              "      <th>worst concavity</th>\n",
              "      <th>worst concave points</th>\n",
              "      <th>worst symmetry</th>\n",
              "      <th>worst fractal dimension</th>\n",
              "      <th>target</th>\n",
              "    </tr>\n",
              "  </thead>\n",
              "  <tbody>\n",
              "    <tr>\n",
              "      <th>0</th>\n",
              "      <td>17.99</td>\n",
              "      <td>10.38</td>\n",
              "      <td>122.8</td>\n",
              "      <td>1001.0</td>\n",
              "      <td>0.11840</td>\n",
              "      <td>0.27760</td>\n",
              "      <td>0.3001</td>\n",
              "      <td>0.14710</td>\n",
              "      <td>0.2419</td>\n",
              "      <td>0.07871</td>\n",
              "      <td>...</td>\n",
              "      <td>17.33</td>\n",
              "      <td>184.6</td>\n",
              "      <td>2019.0</td>\n",
              "      <td>0.1622</td>\n",
              "      <td>0.6656</td>\n",
              "      <td>0.7119</td>\n",
              "      <td>0.2654</td>\n",
              "      <td>0.4601</td>\n",
              "      <td>0.11890</td>\n",
              "      <td>0</td>\n",
              "    </tr>\n",
              "    <tr>\n",
              "      <th>1</th>\n",
              "      <td>20.57</td>\n",
              "      <td>17.77</td>\n",
              "      <td>132.9</td>\n",
              "      <td>1326.0</td>\n",
              "      <td>0.08474</td>\n",
              "      <td>0.07864</td>\n",
              "      <td>0.0869</td>\n",
              "      <td>0.07017</td>\n",
              "      <td>0.1812</td>\n",
              "      <td>0.05667</td>\n",
              "      <td>...</td>\n",
              "      <td>23.41</td>\n",
              "      <td>158.8</td>\n",
              "      <td>1956.0</td>\n",
              "      <td>0.1238</td>\n",
              "      <td>0.1866</td>\n",
              "      <td>0.2416</td>\n",
              "      <td>0.1860</td>\n",
              "      <td>0.2750</td>\n",
              "      <td>0.08902</td>\n",
              "      <td>0</td>\n",
              "    </tr>\n",
              "    <tr>\n",
              "      <th>2</th>\n",
              "      <td>19.69</td>\n",
              "      <td>21.25</td>\n",
              "      <td>130.0</td>\n",
              "      <td>1203.0</td>\n",
              "      <td>0.10960</td>\n",
              "      <td>0.15990</td>\n",
              "      <td>0.1974</td>\n",
              "      <td>0.12790</td>\n",
              "      <td>0.2069</td>\n",
              "      <td>0.05999</td>\n",
              "      <td>...</td>\n",
              "      <td>25.53</td>\n",
              "      <td>152.5</td>\n",
              "      <td>1709.0</td>\n",
              "      <td>0.1444</td>\n",
              "      <td>0.4245</td>\n",
              "      <td>0.4504</td>\n",
              "      <td>0.2430</td>\n",
              "      <td>0.3613</td>\n",
              "      <td>0.08758</td>\n",
              "      <td>0</td>\n",
              "    </tr>\n",
              "  </tbody>\n",
              "</table>\n",
              "<p>3 rows × 31 columns</p>\n",
              "</div>\n",
              "      <button class=\"colab-df-convert\" onclick=\"convertToInteractive('df-11dfd108-b940-4714-8894-06b458e84a0f')\"\n",
              "              title=\"Convert this dataframe to an interactive table.\"\n",
              "              style=\"display:none;\">\n",
              "        \n",
              "  <svg xmlns=\"http://www.w3.org/2000/svg\" height=\"24px\"viewBox=\"0 0 24 24\"\n",
              "       width=\"24px\">\n",
              "    <path d=\"M0 0h24v24H0V0z\" fill=\"none\"/>\n",
              "    <path d=\"M18.56 5.44l.94 2.06.94-2.06 2.06-.94-2.06-.94-.94-2.06-.94 2.06-2.06.94zm-11 1L8.5 8.5l.94-2.06 2.06-.94-2.06-.94L8.5 2.5l-.94 2.06-2.06.94zm10 10l.94 2.06.94-2.06 2.06-.94-2.06-.94-.94-2.06-.94 2.06-2.06.94z\"/><path d=\"M17.41 7.96l-1.37-1.37c-.4-.4-.92-.59-1.43-.59-.52 0-1.04.2-1.43.59L10.3 9.45l-7.72 7.72c-.78.78-.78 2.05 0 2.83L4 21.41c.39.39.9.59 1.41.59.51 0 1.02-.2 1.41-.59l7.78-7.78 2.81-2.81c.8-.78.8-2.07 0-2.86zM5.41 20L4 18.59l7.72-7.72 1.47 1.35L5.41 20z\"/>\n",
              "  </svg>\n",
              "      </button>\n",
              "      \n",
              "  <style>\n",
              "    .colab-df-container {\n",
              "      display:flex;\n",
              "      flex-wrap:wrap;\n",
              "      gap: 12px;\n",
              "    }\n",
              "\n",
              "    .colab-df-convert {\n",
              "      background-color: #E8F0FE;\n",
              "      border: none;\n",
              "      border-radius: 50%;\n",
              "      cursor: pointer;\n",
              "      display: none;\n",
              "      fill: #1967D2;\n",
              "      height: 32px;\n",
              "      padding: 0 0 0 0;\n",
              "      width: 32px;\n",
              "    }\n",
              "\n",
              "    .colab-df-convert:hover {\n",
              "      background-color: #E2EBFA;\n",
              "      box-shadow: 0px 1px 2px rgba(60, 64, 67, 0.3), 0px 1px 3px 1px rgba(60, 64, 67, 0.15);\n",
              "      fill: #174EA6;\n",
              "    }\n",
              "\n",
              "    [theme=dark] .colab-df-convert {\n",
              "      background-color: #3B4455;\n",
              "      fill: #D2E3FC;\n",
              "    }\n",
              "\n",
              "    [theme=dark] .colab-df-convert:hover {\n",
              "      background-color: #434B5C;\n",
              "      box-shadow: 0px 1px 3px 1px rgba(0, 0, 0, 0.15);\n",
              "      filter: drop-shadow(0px 1px 2px rgba(0, 0, 0, 0.3));\n",
              "      fill: #FFFFFF;\n",
              "    }\n",
              "  </style>\n",
              "\n",
              "      <script>\n",
              "        const buttonEl =\n",
              "          document.querySelector('#df-11dfd108-b940-4714-8894-06b458e84a0f button.colab-df-convert');\n",
              "        buttonEl.style.display =\n",
              "          google.colab.kernel.accessAllowed ? 'block' : 'none';\n",
              "\n",
              "        async function convertToInteractive(key) {\n",
              "          const element = document.querySelector('#df-11dfd108-b940-4714-8894-06b458e84a0f');\n",
              "          const dataTable =\n",
              "            await google.colab.kernel.invokeFunction('convertToInteractive',\n",
              "                                                     [key], {});\n",
              "          if (!dataTable) return;\n",
              "\n",
              "          const docLinkHtml = 'Like what you see? Visit the ' +\n",
              "            '<a target=\"_blank\" href=https://colab.research.google.com/notebooks/data_table.ipynb>data table notebook</a>'\n",
              "            + ' to learn more about interactive tables.';\n",
              "          element.innerHTML = '';\n",
              "          dataTable['output_type'] = 'display_data';\n",
              "          await google.colab.output.renderOutput(dataTable, element);\n",
              "          const docLink = document.createElement('div');\n",
              "          docLink.innerHTML = docLinkHtml;\n",
              "          element.appendChild(docLink);\n",
              "        }\n",
              "      </script>\n",
              "    </div>\n",
              "  </div>\n",
              "  "
            ]
          },
          "metadata": {},
          "execution_count": 18
        }
      ]
    },
    {
      "cell_type": "code",
      "source": [
        "print(dataset.target_names)\n",
        "print(cancer_df['target'].value_counts())"
      ],
      "metadata": {
        "colab": {
          "base_uri": "https://localhost:8080/"
        },
        "id": "9NGsF-b2Uxf3",
        "outputId": "b80b4dfa-c445-46b3-9a01-6a1d42e15234"
      },
      "execution_count": 19,
      "outputs": [
        {
          "output_type": "stream",
          "name": "stdout",
          "text": [
            "['malignant' 'benign']\n",
            "1    357\n",
            "0    212\n",
            "Name: target, dtype: int64\n"
          ]
        }
      ]
    },
    {
      "cell_type": "code",
      "source": [
        "# cancer_df에서 feature용 DataFrame과 Label용 Series 객체 추출\n",
        "X_features = cancer_df.iloc[:, :-1]\n",
        "y_label = cancer_df.iloc[:, -1]\n",
        "\n",
        "# 전체 데이터 중 80%는 학습용 데이터, 20%는 테스트용 데이터 추출\n",
        "X_train, X_test, y_train, y_test = train_test_split(X_features, y_label,\n",
        "                                                    test_size=0.2, random_state=156)\n",
        "\n",
        "# 학습용 데이터를 다시 학습, 검증용 데이터로 분리\n",
        "X_tr, X_val, y_tr, y_val = train_test_split(X_train, y_train, test_size=0.1, random_state=156)\n",
        "print(X_train.shape, X_test.shape)\n",
        "print(X_tr.shape, X_val.shape)"
      ],
      "metadata": {
        "colab": {
          "base_uri": "https://localhost:8080/"
        },
        "id": "n8EAa-XVU10O",
        "outputId": "1a58c886-9be9-4e9c-b78f-49a079118c45"
      },
      "execution_count": 20,
      "outputs": [
        {
          "output_type": "stream",
          "name": "stdout",
          "text": [
            "(455, 30) (114, 30)\n",
            "(409, 30) (46, 30)\n"
          ]
        }
      ]
    },
    {
      "cell_type": "code",
      "source": [
        "# 학습, 검증, 테스트용 DMarix 생성\n",
        "dtr = xgb.DMatrix(data=X_tr, label=y_tr)\n",
        "dval = xgb.DMatrix(data=X_val, label=y_val)\n",
        "dtest = xgb.DMatrix(data=X_test, label=y_test)"
      ],
      "metadata": {
        "id": "I15DSMF-VLC4"
      },
      "execution_count": 21,
      "outputs": []
    },
    {
      "cell_type": "code",
      "source": [
        "params = {'max_depth':3,\n",
        "          'eta':0.05, # 학습률. XGBClassifier 사용하면 learning_rate\n",
        "          'objective':'binary:logistic', # 목적함수\n",
        "          'eval_metric':'logloss' # 오류 함수의 평가 성능 지표\n",
        "}\n",
        "num_rounds = 400 # 부스팅 반복 횟수"
      ],
      "metadata": {
        "id": "y654hUqKdS9I"
      },
      "execution_count": 22,
      "outputs": []
    },
    {
      "cell_type": "code",
      "source": [
        "# 학습 데이터 셋은 'train' 또는 평가 데이터 셋은 'eval'\n",
        "eval_list = [(dtr, 'train'), (dval, 'eval')]\n",
        "\n",
        "# 하이퍼 파라미터와 early stopping 파라미터 전달\n",
        "# early_stopping_rounds: 최고 성능에서 50번 더 확인하고 성능이 향상되지 않으면 stop\n",
        "xgb_model = xgb.train(params=params, dtrain=dtr, num_boost_round=num_rounds,\n",
        "                      early_stopping_rounds=50, evals=eval_list)"
      ],
      "metadata": {
        "colab": {
          "base_uri": "https://localhost:8080/"
        },
        "id": "iwH2aeWPdspE",
        "outputId": "c1732b91-1053-419d-fa0f-b95afdaa33d5"
      },
      "execution_count": 21,
      "outputs": [
        {
          "output_type": "stream",
          "name": "stdout",
          "text": [
            "[0]\ttrain-logloss:0.650163\teval-logloss:0.661831\n",
            "Multiple eval metrics have been passed: 'eval-logloss' will be used for early stopping.\n",
            "\n",
            "Will train until eval-logloss hasn't improved in 50 rounds.\n",
            "[1]\ttrain-logloss:0.611313\teval-logloss:0.636086\n",
            "[2]\ttrain-logloss:0.575629\teval-logloss:0.611436\n",
            "[3]\ttrain-logloss:0.543102\teval-logloss:0.592036\n",
            "[4]\ttrain-logloss:0.513233\teval-logloss:0.573291\n",
            "[5]\ttrain-logloss:0.484475\teval-logloss:0.550371\n",
            "[6]\ttrain-logloss:0.457959\teval-logloss:0.529295\n",
            "[7]\ttrain-logloss:0.434357\teval-logloss:0.51534\n",
            "[8]\ttrain-logloss:0.411503\teval-logloss:0.497179\n",
            "[9]\ttrain-logloss:0.390274\teval-logloss:0.481542\n",
            "[10]\ttrain-logloss:0.371284\teval-logloss:0.469904\n",
            "[11]\ttrain-logloss:0.352541\teval-logloss:0.45474\n",
            "[12]\ttrain-logloss:0.335277\teval-logloss:0.442294\n",
            "[13]\ttrain-logloss:0.318925\teval-logloss:0.429608\n",
            "[14]\ttrain-logloss:0.304394\teval-logloss:0.42065\n",
            "[15]\ttrain-logloss:0.289996\teval-logloss:0.409577\n",
            "[16]\ttrain-logloss:0.276514\teval-logloss:0.398867\n",
            "[17]\ttrain-logloss:0.263894\teval-logloss:0.390504\n",
            "[18]\ttrain-logloss:0.252102\teval-logloss:0.382539\n",
            "[19]\ttrain-logloss:0.24123\teval-logloss:0.373933\n",
            "[20]\ttrain-logloss:0.230763\teval-logloss:0.367887\n",
            "[21]\ttrain-logloss:0.220913\teval-logloss:0.360174\n",
            "[22]\ttrain-logloss:0.211554\teval-logloss:0.354212\n",
            "[23]\ttrain-logloss:0.20263\teval-logloss:0.346828\n",
            "[24]\ttrain-logloss:0.19434\teval-logloss:0.341107\n",
            "[25]\ttrain-logloss:0.186369\teval-logloss:0.336341\n",
            "[26]\ttrain-logloss:0.178749\teval-logloss:0.330823\n",
            "[27]\ttrain-logloss:0.171671\teval-logloss:0.326745\n",
            "[28]\ttrain-logloss:0.164815\teval-logloss:0.32099\n",
            "[29]\ttrain-logloss:0.158348\teval-logloss:0.316706\n",
            "[30]\ttrain-logloss:0.152249\teval-logloss:0.312766\n",
            "[31]\ttrain-logloss:0.146498\teval-logloss:0.308823\n",
            "[32]\ttrain-logloss:0.141022\teval-logloss:0.304374\n",
            "[33]\ttrain-logloss:0.135903\teval-logloss:0.301034\n",
            "[34]\ttrain-logloss:0.131089\teval-logloss:0.297937\n",
            "[35]\ttrain-logloss:0.126469\teval-logloss:0.294994\n",
            "[36]\ttrain-logloss:0.121972\teval-logloss:0.292951\n",
            "[37]\ttrain-logloss:0.117843\teval-logloss:0.290434\n",
            "[38]\ttrain-logloss:0.113793\teval-logloss:0.289272\n",
            "[39]\ttrain-logloss:0.109943\teval-logloss:0.285777\n",
            "[40]\ttrain-logloss:0.106376\teval-logloss:0.283644\n",
            "[41]\ttrain-logloss:0.103022\teval-logloss:0.281831\n",
            "[42]\ttrain-logloss:0.099625\teval-logloss:0.280047\n",
            "[43]\ttrain-logloss:0.096486\teval-logloss:0.279718\n",
            "[44]\ttrain-logloss:0.093594\teval-logloss:0.277438\n",
            "[45]\ttrain-logloss:0.090803\teval-logloss:0.275416\n",
            "[46]\ttrain-logloss:0.088072\teval-logloss:0.275038\n",
            "[47]\ttrain-logloss:0.085411\teval-logloss:0.274579\n",
            "[48]\ttrain-logloss:0.082988\teval-logloss:0.273483\n",
            "[49]\ttrain-logloss:0.080349\teval-logloss:0.272474\n",
            "[50]\ttrain-logloss:0.077858\teval-logloss:0.271628\n",
            "[51]\ttrain-logloss:0.075504\teval-logloss:0.270936\n",
            "[52]\ttrain-logloss:0.073438\teval-logloss:0.26967\n",
            "[53]\ttrain-logloss:0.071468\teval-logloss:0.270078\n",
            "[54]\ttrain-logloss:0.069642\teval-logloss:0.268902\n",
            "[55]\ttrain-logloss:0.067661\teval-logloss:0.268544\n",
            "[56]\ttrain-logloss:0.065915\teval-logloss:0.268998\n",
            "[57]\ttrain-logloss:0.064327\teval-logloss:0.267897\n",
            "[58]\ttrain-logloss:0.062588\teval-logloss:0.266633\n",
            "[59]\ttrain-logloss:0.061074\teval-logloss:0.267428\n",
            "[60]\ttrain-logloss:0.05957\teval-logloss:0.266097\n",
            "[61]\ttrain-logloss:0.058166\teval-logloss:0.266438\n",
            "[62]\ttrain-logloss:0.056912\teval-logloss:0.26673\n",
            "[63]\ttrain-logloss:0.055498\teval-logloss:0.265499\n",
            "[64]\ttrain-logloss:0.054219\teval-logloss:0.26443\n",
            "[65]\ttrain-logloss:0.053109\teval-logloss:0.265004\n",
            "[66]\ttrain-logloss:0.05207\teval-logloss:0.265905\n",
            "[67]\ttrain-logloss:0.050929\teval-logloss:0.265012\n",
            "[68]\ttrain-logloss:0.04976\teval-logloss:0.264348\n",
            "[69]\ttrain-logloss:0.048717\teval-logloss:0.263599\n",
            "[70]\ttrain-logloss:0.047764\teval-logloss:0.263186\n",
            "[71]\ttrain-logloss:0.046802\teval-logloss:0.262547\n",
            "[72]\ttrain-logloss:0.0458\teval-logloss:0.26204\n",
            "[73]\ttrain-logloss:0.044838\teval-logloss:0.262537\n",
            "[74]\ttrain-logloss:0.043883\teval-logloss:0.262887\n",
            "[75]\ttrain-logloss:0.043086\teval-logloss:0.262487\n",
            "[76]\ttrain-logloss:0.042236\teval-logloss:0.262175\n",
            "[77]\ttrain-logloss:0.04133\teval-logloss:0.261664\n",
            "[78]\ttrain-logloss:0.0405\teval-logloss:0.26179\n",
            "[79]\ttrain-logloss:0.039667\teval-logloss:0.261034\n",
            "[80]\ttrain-logloss:0.038765\teval-logloss:0.260937\n",
            "[81]\ttrain-logloss:0.038064\teval-logloss:0.261483\n",
            "[82]\ttrain-logloss:0.037396\teval-logloss:0.260539\n",
            "[83]\ttrain-logloss:0.036763\teval-logloss:0.259672\n",
            "[84]\ttrain-logloss:0.036052\teval-logloss:0.259053\n",
            "[85]\ttrain-logloss:0.035453\teval-logloss:0.260073\n",
            "[86]\ttrain-logloss:0.034885\teval-logloss:0.259836\n",
            "[87]\ttrain-logloss:0.03425\teval-logloss:0.259332\n",
            "[88]\ttrain-logloss:0.033608\teval-logloss:0.259319\n",
            "[89]\ttrain-logloss:0.033107\teval-logloss:0.260023\n",
            "[90]\ttrain-logloss:0.0326\teval-logloss:0.25936\n",
            "[91]\ttrain-logloss:0.032016\teval-logloss:0.258861\n",
            "[92]\ttrain-logloss:0.031522\teval-logloss:0.259177\n",
            "[93]\ttrain-logloss:0.031067\teval-logloss:0.258645\n",
            "[94]\ttrain-logloss:0.030485\teval-logloss:0.259511\n",
            "[95]\ttrain-logloss:0.030072\teval-logloss:0.260911\n",
            "[96]\ttrain-logloss:0.029626\teval-logloss:0.260142\n",
            "[97]\ttrain-logloss:0.029131\teval-logloss:0.25974\n",
            "[98]\ttrain-logloss:0.02866\teval-logloss:0.259371\n",
            "[99]\ttrain-logloss:0.028285\teval-logloss:0.258932\n",
            "[100]\ttrain-logloss:0.027886\teval-logloss:0.259282\n",
            "[101]\ttrain-logloss:0.027512\teval-logloss:0.259552\n",
            "[102]\ttrain-logloss:0.027137\teval-logloss:0.259006\n",
            "[103]\ttrain-logloss:0.026676\teval-logloss:0.259906\n",
            "[104]\ttrain-logloss:0.026343\teval-logloss:0.259499\n",
            "[105]\ttrain-logloss:0.025943\teval-logloss:0.25924\n",
            "[106]\ttrain-logloss:0.025561\teval-logloss:0.259006\n",
            "[107]\ttrain-logloss:0.025219\teval-logloss:0.257375\n",
            "[108]\ttrain-logloss:0.024916\teval-logloss:0.257017\n",
            "[109]\ttrain-logloss:0.024525\teval-logloss:0.257891\n",
            "[110]\ttrain-logloss:0.02418\teval-logloss:0.257703\n",
            "[111]\ttrain-logloss:0.023838\teval-logloss:0.25842\n",
            "[112]\ttrain-logloss:0.023563\teval-logloss:0.2581\n",
            "[113]\ttrain-logloss:0.023219\teval-logloss:0.258476\n",
            "[114]\ttrain-logloss:0.022903\teval-logloss:0.258327\n",
            "[115]\ttrain-logloss:0.022602\teval-logloss:0.258196\n",
            "[116]\ttrain-logloss:0.022286\teval-logloss:0.259054\n",
            "[117]\ttrain-logloss:0.022039\teval-logloss:0.258778\n",
            "[118]\ttrain-logloss:0.021756\teval-logloss:0.25728\n",
            "[119]\ttrain-logloss:0.021492\teval-logloss:0.257225\n",
            "[120]\ttrain-logloss:0.021194\teval-logloss:0.257639\n",
            "[121]\ttrain-logloss:0.020948\teval-logloss:0.25761\n",
            "[122]\ttrain-logloss:0.020666\teval-logloss:0.258319\n",
            "[123]\ttrain-logloss:0.020448\teval-logloss:0.25808\n",
            "[124]\ttrain-logloss:0.020231\teval-logloss:0.25855\n",
            "[125]\ttrain-logloss:0.019979\teval-logloss:0.257135\n",
            "[126]\ttrain-logloss:0.019728\teval-logloss:0.255869\n",
            "[127]\ttrain-logloss:0.019465\teval-logloss:0.256403\n",
            "[128]\ttrain-logloss:0.019271\teval-logloss:0.256846\n",
            "[129]\ttrain-logloss:0.019079\teval-logloss:0.256648\n",
            "[130]\ttrain-logloss:0.018855\teval-logloss:0.257117\n",
            "[131]\ttrain-logloss:0.018634\teval-logloss:0.256086\n",
            "[132]\ttrain-logloss:0.018388\teval-logloss:0.256486\n",
            "[133]\ttrain-logloss:0.018156\teval-logloss:0.257893\n",
            "[134]\ttrain-logloss:0.018016\teval-logloss:0.258114\n",
            "[135]\ttrain-logloss:0.017846\teval-logloss:0.257936\n",
            "[136]\ttrain-logloss:0.017628\teval-logloss:0.258756\n",
            "[137]\ttrain-logloss:0.01748\teval-logloss:0.258839\n",
            "[138]\ttrain-logloss:0.017322\teval-logloss:0.258673\n",
            "[139]\ttrain-logloss:0.017188\teval-logloss:0.258756\n",
            "[140]\ttrain-logloss:0.016962\teval-logloss:0.259871\n",
            "[141]\ttrain-logloss:0.016808\teval-logloss:0.259601\n",
            "[142]\ttrain-logloss:0.016689\teval-logloss:0.259824\n",
            "[143]\ttrain-logloss:0.016565\teval-logloss:0.259922\n",
            "[144]\ttrain-logloss:0.016383\teval-logloss:0.260348\n",
            "[145]\ttrain-logloss:0.016227\teval-logloss:0.260546\n",
            "[146]\ttrain-logloss:0.016061\teval-logloss:0.260917\n",
            "[147]\ttrain-logloss:0.015892\teval-logloss:0.26137\n",
            "[148]\ttrain-logloss:0.015719\teval-logloss:0.259991\n",
            "[149]\ttrain-logloss:0.015565\teval-logloss:0.260284\n",
            "[150]\ttrain-logloss:0.015457\teval-logloss:0.260479\n",
            "[151]\ttrain-logloss:0.015307\teval-logloss:0.261421\n",
            "[152]\ttrain-logloss:0.015151\teval-logloss:0.261877\n",
            "[153]\ttrain-logloss:0.015006\teval-logloss:0.262274\n",
            "[154]\ttrain-logloss:0.01486\teval-logloss:0.262866\n",
            "[155]\ttrain-logloss:0.014759\teval-logloss:0.262988\n",
            "[156]\ttrain-logloss:0.014615\teval-logloss:0.263459\n",
            "[157]\ttrain-logloss:0.014481\teval-logloss:0.263786\n",
            "[158]\ttrain-logloss:0.014336\teval-logloss:0.263057\n",
            "[159]\ttrain-logloss:0.014243\teval-logloss:0.262369\n",
            "[160]\ttrain-logloss:0.014103\teval-logloss:0.262511\n",
            "[161]\ttrain-logloss:0.014009\teval-logloss:0.262647\n",
            "[162]\ttrain-logloss:0.013918\teval-logloss:0.262639\n",
            "[163]\ttrain-logloss:0.013805\teval-logloss:0.262501\n",
            "[164]\ttrain-logloss:0.013717\teval-logloss:0.262639\n",
            "[165]\ttrain-logloss:0.013587\teval-logloss:0.262551\n",
            "[166]\ttrain-logloss:0.013503\teval-logloss:0.261884\n",
            "[167]\ttrain-logloss:0.013417\teval-logloss:0.262026\n",
            "[168]\ttrain-logloss:0.013312\teval-logloss:0.261898\n",
            "[169]\ttrain-logloss:0.013192\teval-logloss:0.26184\n",
            "[170]\ttrain-logloss:0.013124\teval-logloss:0.261331\n",
            "[171]\ttrain-logloss:0.013044\teval-logloss:0.261479\n",
            "[172]\ttrain-logloss:0.01297\teval-logloss:0.26157\n",
            "[173]\ttrain-logloss:0.012846\teval-logloss:0.262534\n",
            "[174]\ttrain-logloss:0.012777\teval-logloss:0.26229\n",
            "[175]\ttrain-logloss:0.012668\teval-logloss:0.260863\n",
            "[176]\ttrain-logloss:0.012581\teval-logloss:0.261032\n",
            "Stopping. Best iteration:\n",
            "[126]\ttrain-logloss:0.019728\teval-logloss:0.255869\n",
            "\n"
          ]
        }
      ]
    },
    {
      "cell_type": "code",
      "source": [
        "pred_probs = xgb_model.predict(dtest)\n",
        "print('predict() 수행 결과값을 10개만 표시, 예측 확률 값으로 표시됨')\n",
        "print(np.round(pred_probs[:10], 3))\n",
        "\n",
        "# 예측 확률이 0.5보다 크면 1, 그렇지 않으면 0으로 예측값 결정\n",
        "preds = [1 if x>0.5 else 0 for x in pred_probs]\n",
        "print('예측값 10개만 표시:', preds[:10])"
      ],
      "metadata": {
        "colab": {
          "base_uri": "https://localhost:8080/"
        },
        "id": "bxW79-NGf0xo",
        "outputId": "d8743e27-ad46-4631-d015-2dc02984e3ee"
      },
      "execution_count": 22,
      "outputs": [
        {
          "output_type": "stream",
          "name": "stdout",
          "text": [
            "predict() 수행 결과값을 10개만 표시, 예측 확률 값으로 표시됨\n",
            "[0.845 0.008 0.68  0.081 0.975 0.999 0.998 0.998 0.996 0.001]\n",
            "예측값 10개만 표시: [1, 0, 1, 0, 1, 1, 1, 1, 1, 0]\n"
          ]
        }
      ]
    },
    {
      "cell_type": "code",
      "source": [
        "from sklearn.metrics import confusion_matrix, accuracy_score\n",
        "from sklearn.metrics import precision_score, recall_score\n",
        "from sklearn.metrics import f1_score, roc_auc_score\n",
        "\n",
        "def get_clf_eval(y_test, pred=None, pred_proba=None):\n",
        "    confusion = confusion_matrix( y_test, pred)\n",
        "    accuracy = accuracy_score(y_test , pred)\n",
        "    precision = precision_score(y_test , pred)\n",
        "    recall = recall_score(y_test , pred)\n",
        "    f1 = f1_score(y_test,pred)\n",
        "    # ROC-AUC 추가 \n",
        "    roc_auc = roc_auc_score(y_test, pred_proba)\n",
        "    print('오차 행렬')\n",
        "    print(confusion)\n",
        "    # ROC-AUC print 추가\n",
        "    print('정확도: {0:.4f}, 정밀도: {1:.4f}, 재현율: {2:.4f},\\\n",
        "    F1: {3:.4f}, AUC:{4:.4f}'.format(accuracy, precision, recall, f1, roc_auc))"
      ],
      "metadata": {
        "id": "Tjdh-p51gMDm"
      },
      "execution_count": 23,
      "outputs": []
    },
    {
      "cell_type": "code",
      "source": [
        "get_clf_eval(y_test, preds, pred_probs)"
      ],
      "metadata": {
        "colab": {
          "base_uri": "https://localhost:8080/"
        },
        "id": "mlqYP9iEhpnZ",
        "outputId": "671250d6-c801-4611-860f-4c725435a9ff"
      },
      "execution_count": 24,
      "outputs": [
        {
          "output_type": "stream",
          "name": "stdout",
          "text": [
            "오차 행렬\n",
            "[[34  3]\n",
            " [ 2 75]]\n",
            "정확도: 0.9561, 정밀도: 0.9615, 재현율: 0.9740,    F1: 0.9677, AUC:0.9937\n"
          ]
        }
      ]
    },
    {
      "cell_type": "code",
      "source": [
        "import matplotlib.pyplot as plt\n",
        "%matplotlib inline\n",
        "\n",
        "fig, ax = plt.subplots(figsize=(10, 12))\n",
        "plot_importance(xgb_model, ax=ax)\n",
        "plt.savefig('p239_xgb_feature_mportance.tif', format='tif', dpi=300, bbox_inches='tight')"
      ],
      "metadata": {
        "colab": {
          "base_uri": "https://localhost:8080/",
          "height": 730
        },
        "id": "ajcyK1kkhtQV",
        "outputId": "0a66c977-648d-42eb-ad8c-8482cd1d7d29"
      },
      "execution_count": 26,
      "outputs": [
        {
          "output_type": "display_data",
          "data": {
            "text/plain": [
              "<Figure size 720x864 with 1 Axes>"
            ],
            "image/png": "[encoded data removed]"
          },
          "metadata": {
            "needs_background": "light"
          }
        }
      ]
    },
    {
      "cell_type": "code",
      "source": [
        "# 사이킷런 래퍼\n",
        "from xgboost import XGBClassifier\n",
        "\n",
        "evals = [(X_test, y_test)]\n",
        "xgb_wrapper = XGBClassifier(n_estimators=400, learning_rate=0.1, max_depth=3)\n",
        "xgb_wrapper.fit(X_train, y_train, early_stopping_rounds=100, eval_set=evals,\n",
        "                eval_metric='logloss', verbose=True)\n",
        "# 조기중단 관련 파라미터: early_stopping_rounds, eval_metric, eval_set\n",
        "# eval_metric: 조기 중단을 위한 평가 지표\n",
        "ws100_preds = xgb_wrapper.predict(X_test)\n",
        "ws100_pred_proba = xgb_wrapper.predict_proba(X_test)[:, 1]"
      ],
      "metadata": {
        "colab": {
          "base_uri": "https://localhost:8080/"
        },
        "id": "L88OCpd4h9nB",
        "outputId": "07058f76-863c-4b10-e12c-6a66a9e5b2f2"
      },
      "execution_count": 28,
      "outputs": [
        {
          "output_type": "stream",
          "name": "stdout",
          "text": [
            "[0]\tvalidation_0-logloss:0.61352\n",
            "Will train until validation_0-logloss hasn't improved in 100 rounds.\n",
            "[1]\tvalidation_0-logloss:0.547842\n",
            "[2]\tvalidation_0-logloss:0.494247\n",
            "[3]\tvalidation_0-logloss:0.447986\n",
            "[4]\tvalidation_0-logloss:0.409109\n",
            "[5]\tvalidation_0-logloss:0.374977\n",
            "[6]\tvalidation_0-logloss:0.345714\n",
            "[7]\tvalidation_0-logloss:0.320529\n",
            "[8]\tvalidation_0-logloss:0.29721\n",
            "[9]\tvalidation_0-logloss:0.277991\n",
            "[10]\tvalidation_0-logloss:0.260302\n",
            "[11]\tvalidation_0-logloss:0.246037\n",
            "[12]\tvalidation_0-logloss:0.231556\n",
            "[13]\tvalidation_0-logloss:0.22005\n",
            "[14]\tvalidation_0-logloss:0.208572\n",
            "[15]\tvalidation_0-logloss:0.199993\n",
            "[16]\tvalidation_0-logloss:0.190118\n",
            "[17]\tvalidation_0-logloss:0.181818\n",
            "[18]\tvalidation_0-logloss:0.174729\n",
            "[19]\tvalidation_0-logloss:0.167657\n",
            "[20]\tvalidation_0-logloss:0.158202\n",
            "[21]\tvalidation_0-logloss:0.154725\n",
            "[22]\tvalidation_0-logloss:0.148947\n",
            "[23]\tvalidation_0-logloss:0.143308\n",
            "[24]\tvalidation_0-logloss:0.136344\n",
            "[25]\tvalidation_0-logloss:0.132778\n",
            "[26]\tvalidation_0-logloss:0.127912\n",
            "[27]\tvalidation_0-logloss:0.125263\n",
            "[28]\tvalidation_0-logloss:0.119978\n",
            "[29]\tvalidation_0-logloss:0.116412\n",
            "[30]\tvalidation_0-logloss:0.114502\n",
            "[31]\tvalidation_0-logloss:0.112572\n",
            "[32]\tvalidation_0-logloss:0.11154\n",
            "[33]\tvalidation_0-logloss:0.108681\n",
            "[34]\tvalidation_0-logloss:0.106681\n",
            "[35]\tvalidation_0-logloss:0.104207\n",
            "[36]\tvalidation_0-logloss:0.102962\n",
            "[37]\tvalidation_0-logloss:0.100576\n",
            "[38]\tvalidation_0-logloss:0.098683\n",
            "[39]\tvalidation_0-logloss:0.096444\n",
            "[40]\tvalidation_0-logloss:0.095869\n",
            "[41]\tvalidation_0-logloss:0.094242\n",
            "[42]\tvalidation_0-logloss:0.094715\n",
            "[43]\tvalidation_0-logloss:0.094272\n",
            "[44]\tvalidation_0-logloss:0.093894\n",
            "[45]\tvalidation_0-logloss:0.094184\n",
            "[46]\tvalidation_0-logloss:0.09402\n",
            "[47]\tvalidation_0-logloss:0.09236\n",
            "[48]\tvalidation_0-logloss:0.093012\n",
            "[49]\tvalidation_0-logloss:0.091272\n",
            "[50]\tvalidation_0-logloss:0.090051\n",
            "[51]\tvalidation_0-logloss:0.089605\n",
            "[52]\tvalidation_0-logloss:0.089577\n",
            "[53]\tvalidation_0-logloss:0.090703\n",
            "[54]\tvalidation_0-logloss:0.089579\n",
            "[55]\tvalidation_0-logloss:0.090357\n",
            "[56]\tvalidation_0-logloss:0.091587\n",
            "[57]\tvalidation_0-logloss:0.091527\n",
            "[58]\tvalidation_0-logloss:0.091986\n",
            "[59]\tvalidation_0-logloss:0.091951\n",
            "[60]\tvalidation_0-logloss:0.091939\n",
            "[61]\tvalidation_0-logloss:0.091461\n",
            "[62]\tvalidation_0-logloss:0.090311\n",
            "[63]\tvalidation_0-logloss:0.089407\n",
            "[64]\tvalidation_0-logloss:0.089719\n",
            "[65]\tvalidation_0-logloss:0.089743\n",
            "[66]\tvalidation_0-logloss:0.089622\n",
            "[67]\tvalidation_0-logloss:0.088734\n",
            "[68]\tvalidation_0-logloss:0.088621\n",
            "[69]\tvalidation_0-logloss:0.089739\n",
            "[70]\tvalidation_0-logloss:0.089981\n",
            "[71]\tvalidation_0-logloss:0.089782\n",
            "[72]\tvalidation_0-logloss:0.089584\n",
            "[73]\tvalidation_0-logloss:0.089533\n",
            "[74]\tvalidation_0-logloss:0.088748\n",
            "[75]\tvalidation_0-logloss:0.088597\n",
            "[76]\tvalidation_0-logloss:0.08812\n",
            "[77]\tvalidation_0-logloss:0.088396\n",
            "[78]\tvalidation_0-logloss:0.088736\n",
            "[79]\tvalidation_0-logloss:0.088153\n",
            "[80]\tvalidation_0-logloss:0.087577\n",
            "[81]\tvalidation_0-logloss:0.087412\n",
            "[82]\tvalidation_0-logloss:0.08849\n",
            "[83]\tvalidation_0-logloss:0.088575\n",
            "[84]\tvalidation_0-logloss:0.08807\n",
            "[85]\tvalidation_0-logloss:0.087641\n",
            "[86]\tvalidation_0-logloss:0.087416\n",
            "[87]\tvalidation_0-logloss:0.087611\n",
            "[88]\tvalidation_0-logloss:0.087065\n",
            "[89]\tvalidation_0-logloss:0.08727\n",
            "[90]\tvalidation_0-logloss:0.087161\n",
            "[91]\tvalidation_0-logloss:0.086962\n",
            "[92]\tvalidation_0-logloss:0.087166\n",
            "[93]\tvalidation_0-logloss:0.087067\n",
            "[94]\tvalidation_0-logloss:0.086592\n",
            "[95]\tvalidation_0-logloss:0.086116\n",
            "[96]\tvalidation_0-logloss:0.087139\n",
            "[97]\tvalidation_0-logloss:0.086768\n",
            "[98]\tvalidation_0-logloss:0.086694\n",
            "[99]\tvalidation_0-logloss:0.086547\n",
            "[100]\tvalidation_0-logloss:0.086498\n",
            "[101]\tvalidation_0-logloss:0.08641\n",
            "[102]\tvalidation_0-logloss:0.086288\n",
            "[103]\tvalidation_0-logloss:0.086258\n",
            "[104]\tvalidation_0-logloss:0.086835\n",
            "[105]\tvalidation_0-logloss:0.086767\n",
            "[106]\tvalidation_0-logloss:0.087321\n",
            "[107]\tvalidation_0-logloss:0.087304\n",
            "[108]\tvalidation_0-logloss:0.08728\n",
            "[109]\tvalidation_0-logloss:0.087298\n",
            "[110]\tvalidation_0-logloss:0.087289\n",
            "[111]\tvalidation_0-logloss:0.088002\n",
            "[112]\tvalidation_0-logloss:0.087936\n",
            "[113]\tvalidation_0-logloss:0.087843\n",
            "[114]\tvalidation_0-logloss:0.088066\n",
            "[115]\tvalidation_0-logloss:0.087649\n",
            "[116]\tvalidation_0-logloss:0.087298\n",
            "[117]\tvalidation_0-logloss:0.087799\n",
            "[118]\tvalidation_0-logloss:0.087751\n",
            "[119]\tvalidation_0-logloss:0.08768\n",
            "[120]\tvalidation_0-logloss:0.087626\n",
            "[121]\tvalidation_0-logloss:0.08757\n",
            "[122]\tvalidation_0-logloss:0.087547\n",
            "[123]\tvalidation_0-logloss:0.087156\n",
            "[124]\tvalidation_0-logloss:0.08767\n",
            "[125]\tvalidation_0-logloss:0.087737\n",
            "[126]\tvalidation_0-logloss:0.088275\n",
            "[127]\tvalidation_0-logloss:0.088309\n",
            "[128]\tvalidation_0-logloss:0.088266\n",
            "[129]\tvalidation_0-logloss:0.087886\n",
            "[130]\tvalidation_0-logloss:0.088861\n",
            "[131]\tvalidation_0-logloss:0.088675\n",
            "[132]\tvalidation_0-logloss:0.088743\n",
            "[133]\tvalidation_0-logloss:0.089218\n",
            "[134]\tvalidation_0-logloss:0.089179\n",
            "[135]\tvalidation_0-logloss:0.088821\n",
            "[136]\tvalidation_0-logloss:0.088512\n",
            "[137]\tvalidation_0-logloss:0.08848\n",
            "[138]\tvalidation_0-logloss:0.088386\n",
            "[139]\tvalidation_0-logloss:0.089145\n",
            "[140]\tvalidation_0-logloss:0.08911\n",
            "[141]\tvalidation_0-logloss:0.088765\n",
            "[142]\tvalidation_0-logloss:0.088678\n",
            "[143]\tvalidation_0-logloss:0.088389\n",
            "[144]\tvalidation_0-logloss:0.089271\n",
            "[145]\tvalidation_0-logloss:0.089238\n",
            "[146]\tvalidation_0-logloss:0.089139\n",
            "[147]\tvalidation_0-logloss:0.088907\n",
            "[148]\tvalidation_0-logloss:0.089416\n",
            "[149]\tvalidation_0-logloss:0.089388\n",
            "[150]\tvalidation_0-logloss:0.089108\n",
            "[151]\tvalidation_0-logloss:0.088735\n",
            "[152]\tvalidation_0-logloss:0.088717\n",
            "[153]\tvalidation_0-logloss:0.088484\n",
            "[154]\tvalidation_0-logloss:0.088471\n",
            "[155]\tvalidation_0-logloss:0.088545\n",
            "[156]\tvalidation_0-logloss:0.088521\n",
            "[157]\tvalidation_0-logloss:0.088547\n",
            "[158]\tvalidation_0-logloss:0.088275\n",
            "[159]\tvalidation_0-logloss:0.0883\n",
            "[160]\tvalidation_0-logloss:0.08828\n",
            "[161]\tvalidation_0-logloss:0.088013\n",
            "[162]\tvalidation_0-logloss:0.087758\n",
            "[163]\tvalidation_0-logloss:0.087784\n",
            "[164]\tvalidation_0-logloss:0.087777\n",
            "[165]\tvalidation_0-logloss:0.087517\n",
            "[166]\tvalidation_0-logloss:0.087542\n",
            "[167]\tvalidation_0-logloss:0.087642\n",
            "[168]\tvalidation_0-logloss:0.08739\n",
            "[169]\tvalidation_0-logloss:0.087377\n",
            "[170]\tvalidation_0-logloss:0.087298\n",
            "[171]\tvalidation_0-logloss:0.087368\n",
            "[172]\tvalidation_0-logloss:0.087395\n",
            "[173]\tvalidation_0-logloss:0.087385\n",
            "[174]\tvalidation_0-logloss:0.087132\n",
            "[175]\tvalidation_0-logloss:0.087159\n",
            "[176]\tvalidation_0-logloss:0.086955\n",
            "[177]\tvalidation_0-logloss:0.087053\n",
            "[178]\tvalidation_0-logloss:0.08697\n",
            "[179]\tvalidation_0-logloss:0.086973\n",
            "[180]\tvalidation_0-logloss:0.087038\n",
            "[181]\tvalidation_0-logloss:0.086799\n",
            "[182]\tvalidation_0-logloss:0.086826\n",
            "[183]\tvalidation_0-logloss:0.086582\n",
            "[184]\tvalidation_0-logloss:0.086588\n",
            "[185]\tvalidation_0-logloss:0.086614\n",
            "[186]\tvalidation_0-logloss:0.086372\n",
            "[187]\tvalidation_0-logloss:0.086369\n",
            "[188]\tvalidation_0-logloss:0.086297\n",
            "[189]\tvalidation_0-logloss:0.086104\n",
            "[190]\tvalidation_0-logloss:0.086023\n",
            "[191]\tvalidation_0-logloss:0.08605\n",
            "[192]\tvalidation_0-logloss:0.086149\n",
            "[193]\tvalidation_0-logloss:0.085916\n",
            "[194]\tvalidation_0-logloss:0.085915\n",
            "[195]\tvalidation_0-logloss:0.085984\n",
            "[196]\tvalidation_0-logloss:0.086012\n",
            "[197]\tvalidation_0-logloss:0.085922\n",
            "[198]\tvalidation_0-logloss:0.085853\n",
            "[199]\tvalidation_0-logloss:0.085874\n",
            "[200]\tvalidation_0-logloss:0.085888\n",
            "[201]\tvalidation_0-logloss:0.08595\n",
            "[202]\tvalidation_0-logloss:0.08573\n",
            "[203]\tvalidation_0-logloss:0.08573\n",
            "[204]\tvalidation_0-logloss:0.085753\n",
            "[205]\tvalidation_0-logloss:0.085821\n",
            "[206]\tvalidation_0-logloss:0.08584\n",
            "[207]\tvalidation_0-logloss:0.085776\n",
            "[208]\tvalidation_0-logloss:0.085686\n",
            "[209]\tvalidation_0-logloss:0.08571\n",
            "[210]\tvalidation_0-logloss:0.085806\n",
            "[211]\tvalidation_0-logloss:0.085593\n",
            "[212]\tvalidation_0-logloss:0.085801\n",
            "[213]\tvalidation_0-logloss:0.085806\n",
            "[214]\tvalidation_0-logloss:0.085744\n",
            "[215]\tvalidation_0-logloss:0.085658\n",
            "[216]\tvalidation_0-logloss:0.085843\n",
            "[217]\tvalidation_0-logloss:0.085632\n",
            "[218]\tvalidation_0-logloss:0.085726\n",
            "[219]\tvalidation_0-logloss:0.085783\n",
            "[220]\tvalidation_0-logloss:0.085791\n",
            "[221]\tvalidation_0-logloss:0.085817\n",
            "[222]\tvalidation_0-logloss:0.085757\n",
            "[223]\tvalidation_0-logloss:0.085674\n",
            "[224]\tvalidation_0-logloss:0.08586\n",
            "[225]\tvalidation_0-logloss:0.085871\n",
            "[226]\tvalidation_0-logloss:0.085927\n",
            "[227]\tvalidation_0-logloss:0.085954\n",
            "[228]\tvalidation_0-logloss:0.085874\n",
            "[229]\tvalidation_0-logloss:0.086057\n",
            "[230]\tvalidation_0-logloss:0.086002\n",
            "[231]\tvalidation_0-logloss:0.085922\n",
            "[232]\tvalidation_0-logloss:0.086102\n",
            "[233]\tvalidation_0-logloss:0.086115\n",
            "[234]\tvalidation_0-logloss:0.086169\n",
            "[235]\tvalidation_0-logloss:0.086263\n",
            "[236]\tvalidation_0-logloss:0.086292\n",
            "[237]\tvalidation_0-logloss:0.086217\n",
            "[238]\tvalidation_0-logloss:0.086395\n",
            "[239]\tvalidation_0-logloss:0.086342\n",
            "[240]\tvalidation_0-logloss:0.08618\n",
            "[241]\tvalidation_0-logloss:0.086195\n",
            "[242]\tvalidation_0-logloss:0.086248\n",
            "[243]\tvalidation_0-logloss:0.086263\n",
            "[244]\tvalidation_0-logloss:0.086293\n",
            "[245]\tvalidation_0-logloss:0.086222\n",
            "[246]\tvalidation_0-logloss:0.086398\n",
            "[247]\tvalidation_0-logloss:0.086347\n",
            "[248]\tvalidation_0-logloss:0.086276\n",
            "[249]\tvalidation_0-logloss:0.086448\n",
            "[250]\tvalidation_0-logloss:0.086294\n",
            "[251]\tvalidation_0-logloss:0.086312\n",
            "[252]\tvalidation_0-logloss:0.086364\n",
            "[253]\tvalidation_0-logloss:0.086394\n",
            "[254]\tvalidation_0-logloss:0.08649\n",
            "[255]\tvalidation_0-logloss:0.086441\n",
            "[256]\tvalidation_0-logloss:0.08629\n",
            "[257]\tvalidation_0-logloss:0.08646\n",
            "[258]\tvalidation_0-logloss:0.086391\n",
            "[259]\tvalidation_0-logloss:0.086441\n",
            "[260]\tvalidation_0-logloss:0.086461\n",
            "[261]\tvalidation_0-logloss:0.086491\n",
            "[262]\tvalidation_0-logloss:0.086445\n",
            "[263]\tvalidation_0-logloss:0.086466\n",
            "[264]\tvalidation_0-logloss:0.086319\n",
            "[265]\tvalidation_0-logloss:0.086488\n",
            "[266]\tvalidation_0-logloss:0.086538\n",
            "[267]\tvalidation_0-logloss:0.086471\n",
            "[268]\tvalidation_0-logloss:0.086501\n",
            "[269]\tvalidation_0-logloss:0.086522\n",
            "[270]\tvalidation_0-logloss:0.086689\n",
            "[271]\tvalidation_0-logloss:0.086738\n",
            "[272]\tvalidation_0-logloss:0.08683\n",
            "[273]\tvalidation_0-logloss:0.086684\n",
            "[274]\tvalidation_0-logloss:0.08664\n",
            "[275]\tvalidation_0-logloss:0.086496\n",
            "[276]\tvalidation_0-logloss:0.086355\n",
            "[277]\tvalidation_0-logloss:0.086519\n",
            "[278]\tvalidation_0-logloss:0.086567\n",
            "[279]\tvalidation_0-logloss:0.08659\n",
            "[280]\tvalidation_0-logloss:0.086679\n",
            "[281]\tvalidation_0-logloss:0.086637\n",
            "[282]\tvalidation_0-logloss:0.086499\n",
            "[283]\tvalidation_0-logloss:0.086356\n",
            "[284]\tvalidation_0-logloss:0.086405\n",
            "[285]\tvalidation_0-logloss:0.086429\n",
            "[286]\tvalidation_0-logloss:0.086456\n",
            "[287]\tvalidation_0-logloss:0.086504\n",
            "[288]\tvalidation_0-logloss:0.08637\n",
            "[289]\tvalidation_0-logloss:0.086457\n",
            "[290]\tvalidation_0-logloss:0.086453\n",
            "[291]\tvalidation_0-logloss:0.086322\n",
            "[292]\tvalidation_0-logloss:0.086284\n",
            "[293]\tvalidation_0-logloss:0.086148\n",
            "[294]\tvalidation_0-logloss:0.086196\n",
            "[295]\tvalidation_0-logloss:0.086221\n",
            "[296]\tvalidation_0-logloss:0.086308\n",
            "[297]\tvalidation_0-logloss:0.086178\n",
            "[298]\tvalidation_0-logloss:0.086263\n",
            "[299]\tvalidation_0-logloss:0.086131\n",
            "[300]\tvalidation_0-logloss:0.086179\n",
            "[301]\tvalidation_0-logloss:0.086052\n",
            "[302]\tvalidation_0-logloss:0.086016\n",
            "[303]\tvalidation_0-logloss:0.086101\n",
            "[304]\tvalidation_0-logloss:0.085977\n",
            "[305]\tvalidation_0-logloss:0.086059\n",
            "[306]\tvalidation_0-logloss:0.085971\n",
            "[307]\tvalidation_0-logloss:0.085998\n",
            "[308]\tvalidation_0-logloss:0.085999\n",
            "[309]\tvalidation_0-logloss:0.085877\n",
            "[310]\tvalidation_0-logloss:0.085923\n",
            "[311]\tvalidation_0-logloss:0.085948\n",
            "Stopping. Best iteration:\n",
            "[211]\tvalidation_0-logloss:0.085593\n",
            "\n"
          ]
        }
      ]
    },
    {
      "cell_type": "code",
      "source": [
        "get_clf_eval(y_test, ws100_preds, ws100_pred_proba)"
      ],
      "metadata": {
        "colab": {
          "base_uri": "https://localhost:8080/"
        },
        "id": "xu3H5IKtkO8k",
        "outputId": "81b5a906-fd99-4ae8-ade8-a01039df8cb9"
      },
      "execution_count": 29,
      "outputs": [
        {
          "output_type": "stream",
          "name": "stdout",
          "text": [
            "오차 행렬\n",
            "[[34  3]\n",
            " [ 1 76]]\n",
            "정확도: 0.9649, 정밀도: 0.9620, 재현율: 0.9870,    F1: 0.9744, AUC:0.9954\n"
          ]
        }
      ]
    },
    {
      "cell_type": "code",
      "source": [
        "# early_stopping_rounds를 10으로 설정하고 재학습\n",
        "xgb_wrapper.fit(X_train, y_train, early_stopping_rounds=10,\n",
        "                eval_metric='logloss', eval_set=evals, verbose=True)\n",
        "\n",
        "ws10_preds = xgb_wrapper.predict(X_test)\n",
        "ws10_pred_proba = xgb_wrapper.predict_proba(X_test)[:, 1]\n",
        "get_clf_eval(y_test, ws10_preds, ws10_pred_proba)"
      ],
      "metadata": {
        "colab": {
          "base_uri": "https://localhost:8080/"
        },
        "id": "vOMyVBW0kWdk",
        "outputId": "38f33e33-8a31-4a86-bd14-589de7de857b"
      },
      "execution_count": 30,
      "outputs": [
        {
          "output_type": "stream",
          "name": "stdout",
          "text": [
            "[0]\tvalidation_0-logloss:0.61352\n",
            "Will train until validation_0-logloss hasn't improved in 10 rounds.\n",
            "[1]\tvalidation_0-logloss:0.547842\n",
            "[2]\tvalidation_0-logloss:0.494247\n",
            "[3]\tvalidation_0-logloss:0.447986\n",
            "[4]\tvalidation_0-logloss:0.409109\n",
            "[5]\tvalidation_0-logloss:0.374977\n",
            "[6]\tvalidation_0-logloss:0.345714\n",
            "[7]\tvalidation_0-logloss:0.320529\n",
            "[8]\tvalidation_0-logloss:0.29721\n",
            "[9]\tvalidation_0-logloss:0.277991\n",
            "[10]\tvalidation_0-logloss:0.260302\n",
            "[11]\tvalidation_0-logloss:0.246037\n",
            "[12]\tvalidation_0-logloss:0.231556\n",
            "[13]\tvalidation_0-logloss:0.22005\n",
            "[14]\tvalidation_0-logloss:0.208572\n",
            "[15]\tvalidation_0-logloss:0.199993\n",
            "[16]\tvalidation_0-logloss:0.190118\n",
            "[17]\tvalidation_0-logloss:0.181818\n",
            "[18]\tvalidation_0-logloss:0.174729\n",
            "[19]\tvalidation_0-logloss:0.167657\n",
            "[20]\tvalidation_0-logloss:0.158202\n",
            "[21]\tvalidation_0-logloss:0.154725\n",
            "[22]\tvalidation_0-logloss:0.148947\n",
            "[23]\tvalidation_0-logloss:0.143308\n",
            "[24]\tvalidation_0-logloss:0.136344\n",
            "[25]\tvalidation_0-logloss:0.132778\n",
            "[26]\tvalidation_0-logloss:0.127912\n",
            "[27]\tvalidation_0-logloss:0.125263\n",
            "[28]\tvalidation_0-logloss:0.119978\n",
            "[29]\tvalidation_0-logloss:0.116412\n",
            "[30]\tvalidation_0-logloss:0.114502\n",
            "[31]\tvalidation_0-logloss:0.112572\n",
            "[32]\tvalidation_0-logloss:0.11154\n",
            "[33]\tvalidation_0-logloss:0.108681\n",
            "[34]\tvalidation_0-logloss:0.106681\n",
            "[35]\tvalidation_0-logloss:0.104207\n",
            "[36]\tvalidation_0-logloss:0.102962\n",
            "[37]\tvalidation_0-logloss:0.100576\n",
            "[38]\tvalidation_0-logloss:0.098683\n",
            "[39]\tvalidation_0-logloss:0.096444\n",
            "[40]\tvalidation_0-logloss:0.095869\n",
            "[41]\tvalidation_0-logloss:0.094242\n",
            "[42]\tvalidation_0-logloss:0.094715\n",
            "[43]\tvalidation_0-logloss:0.094272\n",
            "[44]\tvalidation_0-logloss:0.093894\n",
            "[45]\tvalidation_0-logloss:0.094184\n",
            "[46]\tvalidation_0-logloss:0.09402\n",
            "[47]\tvalidation_0-logloss:0.09236\n",
            "[48]\tvalidation_0-logloss:0.093012\n",
            "[49]\tvalidation_0-logloss:0.091272\n",
            "[50]\tvalidation_0-logloss:0.090051\n",
            "[51]\tvalidation_0-logloss:0.089605\n",
            "[52]\tvalidation_0-logloss:0.089577\n",
            "[53]\tvalidation_0-logloss:0.090703\n",
            "[54]\tvalidation_0-logloss:0.089579\n",
            "[55]\tvalidation_0-logloss:0.090357\n",
            "[56]\tvalidation_0-logloss:0.091587\n",
            "[57]\tvalidation_0-logloss:0.091527\n",
            "[58]\tvalidation_0-logloss:0.091986\n",
            "[59]\tvalidation_0-logloss:0.091951\n",
            "[60]\tvalidation_0-logloss:0.091939\n",
            "[61]\tvalidation_0-logloss:0.091461\n",
            "[62]\tvalidation_0-logloss:0.090311\n",
            "Stopping. Best iteration:\n",
            "[52]\tvalidation_0-logloss:0.089577\n",
            "\n",
            "오차 행렬\n",
            "[[34  3]\n",
            " [ 2 75]]\n",
            "정확도: 0.9561, 정밀도: 0.9615, 재현율: 0.9740,    F1: 0.9677, AUC:0.9947\n"
          ]
        }
      ]
    },
    {
      "cell_type": "code",
      "source": [
        "from xgboost import plot_importance\n",
        "import matplotlib.pyplot as plt\n",
        "%matplotlib inline\n",
        "\n",
        "fig, ax = plt.subplots(figsize=(10, 12))\n",
        "# 사이킷런 래퍼 클래스를 입력해도 무방. \n",
        "plot_importance(xgb_wrapper, ax=ax)"
      ],
      "metadata": {
        "colab": {
          "base_uri": "https://localhost:8080/",
          "height": 749
        },
        "id": "oZ-bKJgOksJc",
        "outputId": "2f3d5996-1c73-417b-b395-bfd710038bac"
      },
      "execution_count": 31,
      "outputs": [
        {
          "output_type": "execute_result",
          "data": {
            "text/plain": [
              "<matplotlib.axes._subplots.AxesSubplot at 0x7f7caca06ad0>"
            ]
          },
          "metadata": {},
          "execution_count": 31
        },
        {
          "output_type": "display_data",
          "data": {
            "text/plain": [
              "<Figure size 720x864 with 1 Axes>"
            ],
            "image/png": "[encoded data removed]"
          },
          "metadata": {
            "needs_background": "light"
          }
        }
      ]
    },
    {
      "cell_type": "markdown",
      "source": [
        "## 4.7 LightGBM\n",
        "* 장점: XGBoost와 비슷한 성능을 가지면서 수행 시간이 훨씬 적음. 카테고리형 변수의 자동 변환, 최적 분할\n",
        "* 단점: 적은 데이터에서 과적합 발생 쉬움(10,000건 이하)\n",
        "* 특징: 일반 GBM 계열의 트리 분할 방법과 다르게 리프 중심 트리 분할 방식 사용.\n",
        "  - 기존 알고리즘: 균형 트리 분할 방식(Level Wise). 트리 깊이 최소화. 오버피팅에 강한 구조. 균형 맞추기 위한 시간 필요.\n",
        "  - LightGBM: 리프 중심 트리 분할 방식(Leaf Wise). 최대 손실 값을 가지는 리프 노드를 지속적으로 분할. 트리 깊어지고 비대칭적 규칙 트리 생성. 학습을 반복할수록 예측 오류 손실을 최소화할 수 있다는 생각."
      ],
      "metadata": {
        "id": "Wtxe7eApmvQF"
      }
    },
    {
      "cell_type": "code",
      "source": [
        "import lightgbm\n",
        "print(lightgbm.__version__)"
      ],
      "metadata": {
        "colab": {
          "base_uri": "https://localhost:8080/"
        },
        "id": "12YV0rDHmx3q",
        "outputId": "a70cafe4-9163-40b6-93ae-074add848194"
      },
      "execution_count": 2,
      "outputs": [
        {
          "output_type": "stream",
          "name": "stdout",
          "text": [
            "2.2.3\n"
          ]
        }
      ]
    },
    {
      "cell_type": "code",
      "source": [
        "from lightgbm import LGBMClassifier\n",
        "\n",
        "import pandas as pd\n",
        "import numpy as np\n",
        "from sklearn.datasets import load_breast_cancer\n",
        "from sklearn.model_selection import train_test_split\n",
        "dataset = load_breast_cancer()\n",
        "\n",
        "cancer_df = pd.DataFrame(data=dataset.data, columns=dataset.feature_names)\n",
        "cancer_df['target'] = dataset.target\n",
        "X_features = cancer_df.iloc[:, :-1]\n",
        "y_label = cancer_df.iloc[:, -1]\n",
        "\n",
        "# 전체 데이터 중 80%는 학습용 데이터, 20%는 테스트용 데이터 추출\n",
        "X_train, X_Test, y_train, y_test=train_test_split(X_features, y_label, test_size=0.2,random_state=156)\n",
        "\n",
        "# 위에서 만든 X_train, y_train을 다시 쪼개서 90%는 학습과 10%는 검증용 데이터로 분리\n",
        "X_tr, X_val, y_tr, y_val = train_test_split(X_train, y_train, test_size=0.1, random_state=156)\n",
        "\n",
        "# 앞서 XGBoost와 동일하게 n_estimators는 400 설정.\n",
        "lgbm_wrapper = LGBMClassifier(n_estimators=400, learning_rate=0.05)\n",
        "\n",
        "# LightGBM도 XGBoost와 동일하게 조기 중단 수행 가능.\n",
        "evals = [(X_tr, y_tr), (X_val, y_val)]\n",
        "lgbm_wrapper.fit(X_tr, y_tr, early_stopping_rounds=50, eval_metric='logloss',\n",
        "                 eval_set=evals, verbose=True)\n",
        "preds = lgbm_wrapper.predict(X_test)\n",
        "pred_proba = lgbm_wrapper.predict_proba(X_test)[:, 1]"
      ],
      "metadata": {
        "colab": {
          "base_uri": "https://localhost:8080/"
        },
        "id": "Ty9zMiwKoRJp",
        "outputId": "ce46cfea-9e19-4071-fb2d-ac101b75b01b"
      },
      "execution_count": 24,
      "outputs": [
        {
          "output_type": "stream",
          "name": "stdout",
          "text": [
            "[1]\ttraining's binary_logloss: 0.625671\ttraining's binary_logloss: 0.625671\tvalid_1's binary_logloss: 0.628248\tvalid_1's binary_logloss: 0.628248\n",
            "Training until validation scores don't improve for 50 rounds.\n",
            "[2]\ttraining's binary_logloss: 0.588173\ttraining's binary_logloss: 0.588173\tvalid_1's binary_logloss: 0.601106\tvalid_1's binary_logloss: 0.601106\n",
            "[3]\ttraining's binary_logloss: 0.554518\ttraining's binary_logloss: 0.554518\tvalid_1's binary_logloss: 0.577587\tvalid_1's binary_logloss: 0.577587\n",
            "[4]\ttraining's binary_logloss: 0.523972\ttraining's binary_logloss: 0.523972\tvalid_1's binary_logloss: 0.556324\tvalid_1's binary_logloss: 0.556324\n",
            "[5]\ttraining's binary_logloss: 0.49615\ttraining's binary_logloss: 0.49615\tvalid_1's binary_logloss: 0.537407\tvalid_1's binary_logloss: 0.537407\n",
            "[6]\ttraining's binary_logloss: 0.470108\ttraining's binary_logloss: 0.470108\tvalid_1's binary_logloss: 0.519401\tvalid_1's binary_logloss: 0.519401\n",
            "[7]\ttraining's binary_logloss: 0.446647\ttraining's binary_logloss: 0.446647\tvalid_1's binary_logloss: 0.502637\tvalid_1's binary_logloss: 0.502637\n",
            "[8]\ttraining's binary_logloss: 0.425055\ttraining's binary_logloss: 0.425055\tvalid_1's binary_logloss: 0.488311\tvalid_1's binary_logloss: 0.488311\n",
            "[9]\ttraining's binary_logloss: 0.405125\ttraining's binary_logloss: 0.405125\tvalid_1's binary_logloss: 0.474664\tvalid_1's binary_logloss: 0.474664\n",
            "[10]\ttraining's binary_logloss: 0.386692\ttraining's binary_logloss: 0.386692\tvalid_1's binary_logloss: 0.462832\tvalid_1's binary_logloss: 0.462832\n",
            "[11]\ttraining's binary_logloss: 0.368104\ttraining's binary_logloss: 0.368104\tvalid_1's binary_logloss: 0.449734\tvalid_1's binary_logloss: 0.449734\n",
            "[12]\ttraining's binary_logloss: 0.351335\ttraining's binary_logloss: 0.351335\tvalid_1's binary_logloss: 0.439108\tvalid_1's binary_logloss: 0.439108\n",
            "[13]\ttraining's binary_logloss: 0.336106\ttraining's binary_logloss: 0.336106\tvalid_1's binary_logloss: 0.428432\tvalid_1's binary_logloss: 0.428432\n",
            "[14]\ttraining's binary_logloss: 0.320995\ttraining's binary_logloss: 0.320995\tvalid_1's binary_logloss: 0.417674\tvalid_1's binary_logloss: 0.417674\n",
            "[15]\ttraining's binary_logloss: 0.30764\ttraining's binary_logloss: 0.30764\tvalid_1's binary_logloss: 0.408427\tvalid_1's binary_logloss: 0.408427\n",
            "[16]\ttraining's binary_logloss: 0.29427\ttraining's binary_logloss: 0.29427\tvalid_1's binary_logloss: 0.399502\tvalid_1's binary_logloss: 0.399502\n",
            "[17]\ttraining's binary_logloss: 0.282032\ttraining's binary_logloss: 0.282032\tvalid_1's binary_logloss: 0.390328\tvalid_1's binary_logloss: 0.390328\n",
            "[18]\ttraining's binary_logloss: 0.270264\ttraining's binary_logloss: 0.270264\tvalid_1's binary_logloss: 0.382869\tvalid_1's binary_logloss: 0.382869\n",
            "[19]\ttraining's binary_logloss: 0.259865\ttraining's binary_logloss: 0.259865\tvalid_1's binary_logloss: 0.376094\tvalid_1's binary_logloss: 0.376094\n",
            "[20]\ttraining's binary_logloss: 0.249393\ttraining's binary_logloss: 0.249393\tvalid_1's binary_logloss: 0.368958\tvalid_1's binary_logloss: 0.368958\n",
            "[21]\ttraining's binary_logloss: 0.239551\ttraining's binary_logloss: 0.239551\tvalid_1's binary_logloss: 0.362996\tvalid_1's binary_logloss: 0.362996\n",
            "[22]\ttraining's binary_logloss: 0.230561\ttraining's binary_logloss: 0.230561\tvalid_1's binary_logloss: 0.356303\tvalid_1's binary_logloss: 0.356303\n",
            "[23]\ttraining's binary_logloss: 0.221717\ttraining's binary_logloss: 0.221717\tvalid_1's binary_logloss: 0.350425\tvalid_1's binary_logloss: 0.350425\n",
            "[24]\ttraining's binary_logloss: 0.212816\ttraining's binary_logloss: 0.212816\tvalid_1's binary_logloss: 0.344838\tvalid_1's binary_logloss: 0.344838\n",
            "[25]\ttraining's binary_logloss: 0.204907\ttraining's binary_logloss: 0.204907\tvalid_1's binary_logloss: 0.339484\tvalid_1's binary_logloss: 0.339484\n",
            "[26]\ttraining's binary_logloss: 0.197838\ttraining's binary_logloss: 0.197838\tvalid_1's binary_logloss: 0.334541\tvalid_1's binary_logloss: 0.334541\n",
            "[27]\ttraining's binary_logloss: 0.190576\ttraining's binary_logloss: 0.190576\tvalid_1's binary_logloss: 0.330859\tvalid_1's binary_logloss: 0.330859\n",
            "[28]\ttraining's binary_logloss: 0.183529\ttraining's binary_logloss: 0.183529\tvalid_1's binary_logloss: 0.326574\tvalid_1's binary_logloss: 0.326574\n",
            "[29]\ttraining's binary_logloss: 0.177072\ttraining's binary_logloss: 0.177072\tvalid_1's binary_logloss: 0.323247\tvalid_1's binary_logloss: 0.323247\n",
            "[30]\ttraining's binary_logloss: 0.170475\ttraining's binary_logloss: 0.170475\tvalid_1's binary_logloss: 0.318499\tvalid_1's binary_logloss: 0.318499\n",
            "[31]\ttraining's binary_logloss: 0.164027\ttraining's binary_logloss: 0.164027\tvalid_1's binary_logloss: 0.314283\tvalid_1's binary_logloss: 0.314283\n",
            "[32]\ttraining's binary_logloss: 0.157348\ttraining's binary_logloss: 0.157348\tvalid_1's binary_logloss: 0.308474\tvalid_1's binary_logloss: 0.308474\n",
            "[33]\ttraining's binary_logloss: 0.151619\ttraining's binary_logloss: 0.151619\tvalid_1's binary_logloss: 0.305302\tvalid_1's binary_logloss: 0.305302\n",
            "[34]\ttraining's binary_logloss: 0.146629\ttraining's binary_logloss: 0.146629\tvalid_1's binary_logloss: 0.300947\tvalid_1's binary_logloss: 0.300947\n",
            "[35]\ttraining's binary_logloss: 0.140405\ttraining's binary_logloss: 0.140405\tvalid_1's binary_logloss: 0.295637\tvalid_1's binary_logloss: 0.295637\n",
            "[36]\ttraining's binary_logloss: 0.135479\ttraining's binary_logloss: 0.135479\tvalid_1's binary_logloss: 0.292359\tvalid_1's binary_logloss: 0.292359\n",
            "[37]\ttraining's binary_logloss: 0.130699\ttraining's binary_logloss: 0.130699\tvalid_1's binary_logloss: 0.290556\tvalid_1's binary_logloss: 0.290556\n",
            "[38]\ttraining's binary_logloss: 0.125331\ttraining's binary_logloss: 0.125331\tvalid_1's binary_logloss: 0.286204\tvalid_1's binary_logloss: 0.286204\n",
            "[39]\ttraining's binary_logloss: 0.120528\ttraining's binary_logloss: 0.120528\tvalid_1's binary_logloss: 0.283481\tvalid_1's binary_logloss: 0.283481\n",
            "[40]\ttraining's binary_logloss: 0.116025\ttraining's binary_logloss: 0.116025\tvalid_1's binary_logloss: 0.28006\tvalid_1's binary_logloss: 0.28006\n",
            "[41]\ttraining's binary_logloss: 0.111562\ttraining's binary_logloss: 0.111562\tvalid_1's binary_logloss: 0.277637\tvalid_1's binary_logloss: 0.277637\n",
            "[42]\ttraining's binary_logloss: 0.1079\ttraining's binary_logloss: 0.1079\tvalid_1's binary_logloss: 0.274847\tvalid_1's binary_logloss: 0.274847\n",
            "[43]\ttraining's binary_logloss: 0.103859\ttraining's binary_logloss: 0.103859\tvalid_1's binary_logloss: 0.272859\tvalid_1's binary_logloss: 0.272859\n",
            "[44]\ttraining's binary_logloss: 0.100138\ttraining's binary_logloss: 0.100138\tvalid_1's binary_logloss: 0.270262\tvalid_1's binary_logloss: 0.270262\n",
            "[45]\ttraining's binary_logloss: 0.0963746\ttraining's binary_logloss: 0.0963746\tvalid_1's binary_logloss: 0.268073\tvalid_1's binary_logloss: 0.268073\n",
            "[46]\ttraining's binary_logloss: 0.0929572\ttraining's binary_logloss: 0.0929572\tvalid_1's binary_logloss: 0.26671\tvalid_1's binary_logloss: 0.26671\n",
            "[47]\ttraining's binary_logloss: 0.0899324\ttraining's binary_logloss: 0.0899324\tvalid_1's binary_logloss: 0.263785\tvalid_1's binary_logloss: 0.263785\n",
            "[48]\ttraining's binary_logloss: 0.0873289\ttraining's binary_logloss: 0.0873289\tvalid_1's binary_logloss: 0.263664\tvalid_1's binary_logloss: 0.263664\n",
            "[49]\ttraining's binary_logloss: 0.0840183\ttraining's binary_logloss: 0.0840183\tvalid_1's binary_logloss: 0.262173\tvalid_1's binary_logloss: 0.262173\n",
            "[50]\ttraining's binary_logloss: 0.080903\ttraining's binary_logloss: 0.080903\tvalid_1's binary_logloss: 0.260928\tvalid_1's binary_logloss: 0.260928\n",
            "[51]\ttraining's binary_logloss: 0.0783652\ttraining's binary_logloss: 0.0783652\tvalid_1's binary_logloss: 0.258393\tvalid_1's binary_logloss: 0.258393\n",
            "[52]\ttraining's binary_logloss: 0.075536\ttraining's binary_logloss: 0.075536\tvalid_1's binary_logloss: 0.257425\tvalid_1's binary_logloss: 0.257425\n",
            "[53]\ttraining's binary_logloss: 0.0728163\ttraining's binary_logloss: 0.0728163\tvalid_1's binary_logloss: 0.259037\tvalid_1's binary_logloss: 0.259037\n",
            "[54]\ttraining's binary_logloss: 0.0702634\ttraining's binary_logloss: 0.0702634\tvalid_1's binary_logloss: 0.258369\tvalid_1's binary_logloss: 0.258369\n",
            "[55]\ttraining's binary_logloss: 0.0676698\ttraining's binary_logloss: 0.0676698\tvalid_1's binary_logloss: 0.258996\tvalid_1's binary_logloss: 0.258996\n",
            "[56]\ttraining's binary_logloss: 0.0654293\ttraining's binary_logloss: 0.0654293\tvalid_1's binary_logloss: 0.259331\tvalid_1's binary_logloss: 0.259331\n",
            "[57]\ttraining's binary_logloss: 0.0632096\ttraining's binary_logloss: 0.0632096\tvalid_1's binary_logloss: 0.259006\tvalid_1's binary_logloss: 0.259006\n",
            "[58]\ttraining's binary_logloss: 0.0612077\ttraining's binary_logloss: 0.0612077\tvalid_1's binary_logloss: 0.259286\tvalid_1's binary_logloss: 0.259286\n",
            "[59]\ttraining's binary_logloss: 0.0591513\ttraining's binary_logloss: 0.0591513\tvalid_1's binary_logloss: 0.257202\tvalid_1's binary_logloss: 0.257202\n",
            "[60]\ttraining's binary_logloss: 0.0572088\ttraining's binary_logloss: 0.0572088\tvalid_1's binary_logloss: 0.257168\tvalid_1's binary_logloss: 0.257168\n",
            "[61]\ttraining's binary_logloss: 0.0551987\ttraining's binary_logloss: 0.0551987\tvalid_1's binary_logloss: 0.258305\tvalid_1's binary_logloss: 0.258305\n",
            "[62]\ttraining's binary_logloss: 0.0534423\ttraining's binary_logloss: 0.0534423\tvalid_1's binary_logloss: 0.258397\tvalid_1's binary_logloss: 0.258397\n",
            "[63]\ttraining's binary_logloss: 0.0516793\ttraining's binary_logloss: 0.0516793\tvalid_1's binary_logloss: 0.2596\tvalid_1's binary_logloss: 0.2596\n",
            "[64]\ttraining's binary_logloss: 0.0500622\ttraining's binary_logloss: 0.0500622\tvalid_1's binary_logloss: 0.26049\tvalid_1's binary_logloss: 0.26049\n",
            "[65]\ttraining's binary_logloss: 0.0485234\ttraining's binary_logloss: 0.0485234\tvalid_1's binary_logloss: 0.260826\tvalid_1's binary_logloss: 0.260826\n",
            "[66]\ttraining's binary_logloss: 0.0470319\ttraining's binary_logloss: 0.0470319\tvalid_1's binary_logloss: 0.260881\tvalid_1's binary_logloss: 0.260881\n",
            "[67]\ttraining's binary_logloss: 0.0456247\ttraining's binary_logloss: 0.0456247\tvalid_1's binary_logloss: 0.260966\tvalid_1's binary_logloss: 0.260966\n",
            "[68]\ttraining's binary_logloss: 0.0441293\ttraining's binary_logloss: 0.0441293\tvalid_1's binary_logloss: 0.262592\tvalid_1's binary_logloss: 0.262592\n",
            "[69]\ttraining's binary_logloss: 0.0428474\ttraining's binary_logloss: 0.0428474\tvalid_1's binary_logloss: 0.262805\tvalid_1's binary_logloss: 0.262805\n",
            "[70]\ttraining's binary_logloss: 0.0413116\ttraining's binary_logloss: 0.0413116\tvalid_1's binary_logloss: 0.265159\tvalid_1's binary_logloss: 0.265159\n",
            "[71]\ttraining's binary_logloss: 0.0398938\ttraining's binary_logloss: 0.0398938\tvalid_1's binary_logloss: 0.263591\tvalid_1's binary_logloss: 0.263591\n",
            "[72]\ttraining's binary_logloss: 0.0385006\ttraining's binary_logloss: 0.0385006\tvalid_1's binary_logloss: 0.266054\tvalid_1's binary_logloss: 0.266054\n",
            "[73]\ttraining's binary_logloss: 0.0373165\ttraining's binary_logloss: 0.0373165\tvalid_1's binary_logloss: 0.264878\tvalid_1's binary_logloss: 0.264878\n",
            "[74]\ttraining's binary_logloss: 0.0360691\ttraining's binary_logloss: 0.0360691\tvalid_1's binary_logloss: 0.263518\tvalid_1's binary_logloss: 0.263518\n",
            "[75]\ttraining's binary_logloss: 0.0347598\ttraining's binary_logloss: 0.0347598\tvalid_1's binary_logloss: 0.263714\tvalid_1's binary_logloss: 0.263714\n",
            "[76]\ttraining's binary_logloss: 0.0334923\ttraining's binary_logloss: 0.0334923\tvalid_1's binary_logloss: 0.261344\tvalid_1's binary_logloss: 0.261344\n",
            "[77]\ttraining's binary_logloss: 0.0323656\ttraining's binary_logloss: 0.0323656\tvalid_1's binary_logloss: 0.263967\tvalid_1's binary_logloss: 0.263967\n",
            "[78]\ttraining's binary_logloss: 0.0312561\ttraining's binary_logloss: 0.0312561\tvalid_1's binary_logloss: 0.26418\tvalid_1's binary_logloss: 0.26418\n",
            "[79]\ttraining's binary_logloss: 0.0302011\ttraining's binary_logloss: 0.0302011\tvalid_1's binary_logloss: 0.266129\tvalid_1's binary_logloss: 0.266129\n",
            "[80]\ttraining's binary_logloss: 0.0291182\ttraining's binary_logloss: 0.0291182\tvalid_1's binary_logloss: 0.263931\tvalid_1's binary_logloss: 0.263931\n",
            "[81]\ttraining's binary_logloss: 0.0281474\ttraining's binary_logloss: 0.0281474\tvalid_1's binary_logloss: 0.264391\tvalid_1's binary_logloss: 0.264391\n",
            "[82]\ttraining's binary_logloss: 0.0272388\ttraining's binary_logloss: 0.0272388\tvalid_1's binary_logloss: 0.267166\tvalid_1's binary_logloss: 0.267166\n",
            "[83]\ttraining's binary_logloss: 0.0262836\ttraining's binary_logloss: 0.0262836\tvalid_1's binary_logloss: 0.265115\tvalid_1's binary_logloss: 0.265115\n",
            "[84]\ttraining's binary_logloss: 0.0254321\ttraining's binary_logloss: 0.0254321\tvalid_1's binary_logloss: 0.267202\tvalid_1's binary_logloss: 0.267202\n",
            "[85]\ttraining's binary_logloss: 0.0245613\ttraining's binary_logloss: 0.0245613\tvalid_1's binary_logloss: 0.265271\tvalid_1's binary_logloss: 0.265271\n",
            "[86]\ttraining's binary_logloss: 0.0237611\ttraining's binary_logloss: 0.0237611\tvalid_1's binary_logloss: 0.265977\tvalid_1's binary_logloss: 0.265977\n",
            "[87]\ttraining's binary_logloss: 0.0230229\ttraining's binary_logloss: 0.0230229\tvalid_1's binary_logloss: 0.268838\tvalid_1's binary_logloss: 0.268838\n",
            "[88]\ttraining's binary_logloss: 0.022253\ttraining's binary_logloss: 0.022253\tvalid_1's binary_logloss: 0.267025\tvalid_1's binary_logloss: 0.267025\n",
            "[89]\ttraining's binary_logloss: 0.0215231\ttraining's binary_logloss: 0.0215231\tvalid_1's binary_logloss: 0.265913\tvalid_1's binary_logloss: 0.265913\n",
            "[90]\ttraining's binary_logloss: 0.0208833\ttraining's binary_logloss: 0.0208833\tvalid_1's binary_logloss: 0.265612\tvalid_1's binary_logloss: 0.265612\n",
            "[91]\ttraining's binary_logloss: 0.0202353\ttraining's binary_logloss: 0.0202353\tvalid_1's binary_logloss: 0.267831\tvalid_1's binary_logloss: 0.267831\n",
            "[92]\ttraining's binary_logloss: 0.0195726\ttraining's binary_logloss: 0.0195726\tvalid_1's binary_logloss: 0.266689\tvalid_1's binary_logloss: 0.266689\n",
            "[93]\ttraining's binary_logloss: 0.0189295\ttraining's binary_logloss: 0.0189295\tvalid_1's binary_logloss: 0.267654\tvalid_1's binary_logloss: 0.267654\n",
            "[94]\ttraining's binary_logloss: 0.0182642\ttraining's binary_logloss: 0.0182642\tvalid_1's binary_logloss: 0.268718\tvalid_1's binary_logloss: 0.268718\n",
            "[95]\ttraining's binary_logloss: 0.0176871\ttraining's binary_logloss: 0.0176871\tvalid_1's binary_logloss: 0.270958\tvalid_1's binary_logloss: 0.270958\n",
            "[96]\ttraining's binary_logloss: 0.0171794\ttraining's binary_logloss: 0.0171794\tvalid_1's binary_logloss: 0.27016\tvalid_1's binary_logloss: 0.27016\n",
            "[97]\ttraining's binary_logloss: 0.016589\ttraining's binary_logloss: 0.016589\tvalid_1's binary_logloss: 0.271488\tvalid_1's binary_logloss: 0.271488\n",
            "[98]\ttraining's binary_logloss: 0.0160635\ttraining's binary_logloss: 0.0160635\tvalid_1's binary_logloss: 0.269985\tvalid_1's binary_logloss: 0.269985\n",
            "[99]\ttraining's binary_logloss: 0.0155631\ttraining's binary_logloss: 0.0155631\tvalid_1's binary_logloss: 0.271251\tvalid_1's binary_logloss: 0.271251\n",
            "[100]\ttraining's binary_logloss: 0.0150636\ttraining's binary_logloss: 0.0150636\tvalid_1's binary_logloss: 0.271782\tvalid_1's binary_logloss: 0.271782\n",
            "[101]\ttraining's binary_logloss: 0.0145839\ttraining's binary_logloss: 0.0145839\tvalid_1's binary_logloss: 0.271016\tvalid_1's binary_logloss: 0.271016\n",
            "[102]\ttraining's binary_logloss: 0.0141803\ttraining's binary_logloss: 0.0141803\tvalid_1's binary_logloss: 0.271182\tvalid_1's binary_logloss: 0.271182\n",
            "[103]\ttraining's binary_logloss: 0.0136586\ttraining's binary_logloss: 0.0136586\tvalid_1's binary_logloss: 0.271901\tvalid_1's binary_logloss: 0.271901\n",
            "[104]\ttraining's binary_logloss: 0.0131463\ttraining's binary_logloss: 0.0131463\tvalid_1's binary_logloss: 0.271226\tvalid_1's binary_logloss: 0.271226\n",
            "[105]\ttraining's binary_logloss: 0.0127756\ttraining's binary_logloss: 0.0127756\tvalid_1's binary_logloss: 0.271724\tvalid_1's binary_logloss: 0.271724\n",
            "[106]\ttraining's binary_logloss: 0.0123527\ttraining's binary_logloss: 0.0123527\tvalid_1's binary_logloss: 0.272895\tvalid_1's binary_logloss: 0.272895\n",
            "[107]\ttraining's binary_logloss: 0.0119772\ttraining's binary_logloss: 0.0119772\tvalid_1's binary_logloss: 0.271722\tvalid_1's binary_logloss: 0.271722\n",
            "[108]\ttraining's binary_logloss: 0.0115223\ttraining's binary_logloss: 0.0115223\tvalid_1's binary_logloss: 0.272213\tvalid_1's binary_logloss: 0.272213\n",
            "[109]\ttraining's binary_logloss: 0.0111636\ttraining's binary_logloss: 0.0111636\tvalid_1's binary_logloss: 0.273245\tvalid_1's binary_logloss: 0.273245\n",
            "[110]\ttraining's binary_logloss: 0.0108692\ttraining's binary_logloss: 0.0108692\tvalid_1's binary_logloss: 0.273132\tvalid_1's binary_logloss: 0.273132\n",
            "Early stopping, best iteration is:\n",
            "[60]\ttraining's binary_logloss: 0.0572088\ttraining's binary_logloss: 0.0572088\tvalid_1's binary_logloss: 0.257168\tvalid_1's binary_logloss: 0.257168\n"
          ]
        }
      ]
    },
    {
      "cell_type": "code",
      "source": [
        "get_clf_eval(y_test, preds, pred_proba)"
      ],
      "metadata": {
        "colab": {
          "base_uri": "https://localhost:8080/"
        },
        "id": "qOw5eOQFp1go",
        "outputId": "3e3fbfa8-b995-48e6-babb-03e6dcbfde15"
      },
      "execution_count": 25,
      "outputs": [
        {
          "output_type": "stream",
          "name": "stdout",
          "text": [
            "오차 행렬\n",
            "[[34  3]\n",
            " [ 2 75]]\n",
            "정확도: 0.9561, 정밀도: 0.9615, 재현율: 0.9740,    F1: 0.9677, AUC:0.9888\n"
          ]
        }
      ]
    },
    {
      "cell_type": "code",
      "source": [
        "from lightgbm import plot_importance\n",
        "import matplotlib.pyplot as plt\n",
        "%matplotlib inline\n",
        "\n",
        "fig, ax = plt.subplots(figsize=(10,12))\n",
        "plot_importance(lgbm_wrapper, ax=ax)\n",
        "plt.savefig('lightgbm_feature_importance.tif', format='tif', dpi=300, bbox_inches='tight')"
      ],
      "metadata": {
        "colab": {
          "base_uri": "https://localhost:8080/",
          "height": 730
        },
        "id": "HQxB2g2Np7Sq",
        "outputId": "c202832e-5171-4236-8448-51431a444080"
      },
      "execution_count": 26,
      "outputs": [
        {
          "output_type": "display_data",
          "data": {
            "text/plain": [
              "<Figure size 720x864 with 1 Axes>"
            ],
            "image/png": "[encoded data removed]"
          },
          "metadata": {
            "needs_background": "light"
          }
        }
      ]
    },
    {
      "cell_type": "markdown",
      "source": [
        "## 4.8 베이지안 최적화 기반 HyperOpt 이용한 하이퍼 파라미터 튜닝\n",
        "* 베이지안 최적화: 목적 함수 식을 제대로 알 수 없는 경우 최적 입력값을 찾아주는 방식.\n",
        "  - 새로운 데이터를 입력받았을 때 최적 함수를 예측하는 사후 모델을 개선해 나가면서 최적 함수 모델 만듬.\n",
        "  - 대체 모델: 획득 함수로부터 최적 함수를 예측할 수 있는 입력값 추천받아 이를 기반으로 최적 함수 모델 개선.\n",
        "  - 획득 함수: 개선된 대체 모델을 기반으로 최적 입력값 을 계산.\n",
        "\n",
        "* 베이지안 최적화를 머신러닝 모델의 하이퍼 파라미터 튜닝에 적용.\n"
      ],
      "metadata": {
        "id": "x_kS9qsjqiEA"
      }
    },
    {
      "cell_type": "code",
      "source": [
        "import hyperopt\n",
        "print(hyperopt.__version__)"
      ],
      "metadata": {
        "colab": {
          "base_uri": "https://localhost:8080/"
        },
        "id": "CWyjPSr-skvx",
        "outputId": "8b9addad-603a-47f6-842e-930012582f44"
      },
      "execution_count": 11,
      "outputs": [
        {
          "output_type": "stream",
          "name": "stdout",
          "text": [
            "0.2\n"
          ]
        }
      ]
    },
    {
      "cell_type": "code",
      "source": [
        "from hyperopt import hp\n",
        "\n",
        "# -10 ~ 10까지 1간격을 가지는 입력 변수 x와 -15 ~ 15까지 1간격으로 입력분수 y 설정\n",
        "search_space = {'x':hp.quniform('x', -10, 10, 1), \n",
        "                'y':hp.quniform('y', -15, 15, 1)}"
      ],
      "metadata": {
        "id": "ewbD-WTOxpB2"
      },
      "execution_count": 12,
      "outputs": []
    },
    {
      "cell_type": "code",
      "source": [
        "from hyperopt import STATUS_OK\n",
        "\n",
        "# 목적 함수를 생성.\n",
        "def objective_func(search_space):\n",
        "  x = search_space['x']\n",
        "  y = search_space['y']\n",
        "  retval = x**2 - 20*y\n",
        "  return retval"
      ],
      "metadata": {
        "id": "-SmZGjBbx-OC"
      },
      "execution_count": 13,
      "outputs": []
    },
    {
      "cell_type": "code",
      "source": [
        "from hyperopt import fmin, tpe, Trials\n",
        "import numpy as np\n",
        "\n",
        "# 입력 결괏값을 저장한 Trials 객체값 생성.\n",
        "trial_val = Trials()\n",
        "\n",
        "# 목적 함수의 최솟값을 반환하는 최적 입력 변숫값을 5번의 입력값 시도(max_evals=5)로 찾아냄.\n",
        "best_01 = fmin(fn=objective_func, space=search_space, algo=tpe.suggest, max_evals=5\n",
        "               , trials=trial_val, rstate=np.random.RandomState(seed=0))\n",
        "print('best:', best_01)\n",
        "# 목적함수와 설정한 x, y 범위에 따르면 x는 0, y는 15에 가까울 수록 반환값 최고가 됨"
      ],
      "metadata": {
        "colab": {
          "base_uri": "https://localhost:8080/"
        },
        "id": "DOV6kFmnySLm",
        "outputId": "a086ff98-8cd1-48c7-c514-bc76baf682e0"
      },
      "execution_count": 14,
      "outputs": [
        {
          "output_type": "stream",
          "name": "stdout",
          "text": [
            "100%|██████████| 5/5 [00:00<00:00, 406.74it/s, best loss: -4.0]\n",
            "best: {'x': 4.0, 'y': 1.0}\n"
          ]
        }
      ]
    },
    {
      "cell_type": "code",
      "source": [
        "trial_val = Trials()\n",
        "\n",
        "# max_evals를 20로 늘려서 재테스트\n",
        "best_02 = fmin(fn=objective_func, space=search_space, algo=tpe.suggest, max_evals=20\n",
        "               , trials=trial_val, rstate=np.random.RandomState(seed=0))\n",
        "print('best:', best_02)"
      ],
      "metadata": {
        "colab": {
          "base_uri": "https://localhost:8080/"
        },
        "id": "dKJh7uVByqsf",
        "outputId": "0e180342-5377-428e-f43f-4d8c5b0aef8e"
      },
      "execution_count": 15,
      "outputs": [
        {
          "output_type": "stream",
          "name": "stdout",
          "text": [
            "100%|██████████| 20/20 [00:00<00:00, 581.37it/s, best loss: -264.0]\n",
            "best: {'x': 6.0, 'y': 15.0}\n"
          ]
        }
      ]
    },
    {
      "cell_type": "code",
      "source": [
        "# fmin()에 인자로 들어가는 Trials 객체의 result 속성에 목적 함수 반환값 저장\n",
        "# 리스트 내부의 개별 원소는 {'loss':함수 반환값, 'status':반환상태값} 같은 딕셔너리\n",
        "print(trial_val.results)"
      ],
      "metadata": {
        "colab": {
          "base_uri": "https://localhost:8080/"
        },
        "id": "MIvtu0Iq1Kix",
        "outputId": "51d0b1c7-0779-49ee-d775-ebfcd173deed"
      },
      "execution_count": 27,
      "outputs": [
        {
          "output_type": "stream",
          "name": "stdout",
          "text": [
            "[{'loss': 16.0, 'status': 'ok'}, {'loss': -4.0, 'status': 'ok'}, {'loss': 240.0, 'status': 'ok'}, {'loss': 61.0, 'status': 'ok'}, {'loss': 256.0, 'status': 'ok'}, {'loss': 185.0, 'status': 'ok'}, {'loss': -100.0, 'status': 'ok'}, {'loss': -255.0, 'status': 'ok'}, {'loss': 1.0, 'status': 'ok'}, {'loss': 304.0, 'status': 'ok'}, {'loss': 81.0, 'status': 'ok'}, {'loss': -19.0, 'status': 'ok'}, {'loss': 60.0, 'status': 'ok'}, {'loss': 109.0, 'status': 'ok'}, {'loss': 1.0, 'status': 'ok'}, {'loss': 240.0, 'status': 'ok'}, {'loss': -264.0, 'status': 'ok'}, {'loss': -124.0, 'status': 'ok'}, {'loss': 169.0, 'status': 'ok'}, {'loss': 4.0, 'status': 'ok'}]\n"
          ]
        }
      ]
    },
    {
      "cell_type": "code",
      "source": [
        "print(trial_val.vals)"
      ],
      "metadata": {
        "colab": {
          "base_uri": "https://localhost:8080/"
        },
        "id": "VhajY3bAXjqb",
        "outputId": "9d1b2c87-20f0-4ea7-e6bf-9271885455ff"
      },
      "execution_count": 28,
      "outputs": [
        {
          "output_type": "stream",
          "name": "stdout",
          "text": [
            "{'x': [4.0, 4.0, 10.0, -9.0, 6.0, -5.0, 10.0, 5.0, 1.0, 8.0, -1.0, 1.0, -10.0, -7.0, -9.0, 0.0, 6.0, 4.0, -7.0, 2.0], 'y': [-0.0, 1.0, -7.0, 1.0, -11.0, -8.0, 10.0, 14.0, 0.0, -12.0, -4.0, 1.0, 2.0, -3.0, 4.0, -12.0, 15.0, 7.0, -6.0, -0.0]}\n"
          ]
        }
      ]
    },
    {
      "cell_type": "code",
      "source": [
        "import pandas as pd\n",
        "\n",
        "# results에서 loss 키값에 해당하는 밸류들을 추출하여 list로 생성\n",
        "losses = [loss_dict['loss'] for loss_dict in trial_val.results]\n",
        "\n",
        "result_df = pd.DataFrame({'x':trial_val.vals['x'],\n",
        "                          'y':trial_val.vals['y'],\n",
        "                          'losses':losses})\n",
        "result_df"
      ],
      "metadata": {
        "colab": {
          "base_uri": "https://localhost:8080/",
          "height": 676
        },
        "id": "0Kck1on8XuOS",
        "outputId": "3bddc854-762f-46d0-e09b-53a2d2ad7964"
      },
      "execution_count": 29,
      "outputs": [
        {
          "output_type": "execute_result",
          "data": {
            "text/plain": [
              "       x     y  losses\n",
              "0    4.0  -0.0    16.0\n",
              "1    4.0   1.0    -4.0\n",
              "2   10.0  -7.0   240.0\n",
              "3   -9.0   1.0    61.0\n",
              "4    6.0 -11.0   256.0\n",
              "5   -5.0  -8.0   185.0\n",
              "6   10.0  10.0  -100.0\n",
              "7    5.0  14.0  -255.0\n",
              "8    1.0   0.0     1.0\n",
              "9    8.0 -12.0   304.0\n",
              "10  -1.0  -4.0    81.0\n",
              "11   1.0   1.0   -19.0\n",
              "12 -10.0   2.0    60.0\n",
              "13  -7.0  -3.0   109.0\n",
              "14  -9.0   4.0     1.0\n",
              "15   0.0 -12.0   240.0\n",
              "16   6.0  15.0  -264.0\n",
              "17   4.0   7.0  -124.0\n",
              "18  -7.0  -6.0   169.0\n",
              "19   2.0  -0.0     4.0"
            ],
            "text/html": [
              "\n",
              "  <div id=\"df-257a7e67-0565-41a9-a3c3-595fe571e410\">\n",
              "    <div class=\"colab-df-container\">\n",
              "      <div>\n",
              "<style scoped>\n",
              "    .dataframe tbody tr th:only-of-type {\n",
              "        vertical-align: middle;\n",
              "    }\n",
              "\n",
              "    .dataframe tbody tr th {\n",
              "        vertical-align: top;\n",
              "    }\n",
              "\n",
              "    .dataframe thead th {\n",
              "        text-align: right;\n",
              "    }\n",
              "</style>\n",
              "<table border=\"1\" class=\"dataframe\">\n",
              "  <thead>\n",
              "    <tr style=\"text-align: right;\">\n",
              "      <th></th>\n",
              "      <th>x</th>\n",
              "      <th>y</th>\n",
              "      <th>losses</th>\n",
              "    </tr>\n",
              "  </thead>\n",
              "  <tbody>\n",
              "    <tr>\n",
              "      <th>0</th>\n",
              "      <td>4.0</td>\n",
              "      <td>-0.0</td>\n",
              "      <td>16.0</td>\n",
              "    </tr>\n",
              "    <tr>\n",
              "      <th>1</th>\n",
              "      <td>4.0</td>\n",
              "      <td>1.0</td>\n",
              "      <td>-4.0</td>\n",
              "    </tr>\n",
              "    <tr>\n",
              "      <th>2</th>\n",
              "      <td>10.0</td>\n",
              "      <td>-7.0</td>\n",
              "      <td>240.0</td>\n",
              "    </tr>\n",
              "    <tr>\n",
              "      <th>3</th>\n",
              "      <td>-9.0</td>\n",
              "      <td>1.0</td>\n",
              "      <td>61.0</td>\n",
              "    </tr>\n",
              "    <tr>\n",
              "      <th>4</th>\n",
              "      <td>6.0</td>\n",
              "      <td>-11.0</td>\n",
              "      <td>256.0</td>\n",
              "    </tr>\n",
              "    <tr>\n",
              "      <th>5</th>\n",
              "      <td>-5.0</td>\n",
              "      <td>-8.0</td>\n",
              "      <td>185.0</td>\n",
              "    </tr>\n",
              "    <tr>\n",
              "      <th>6</th>\n",
              "      <td>10.0</td>\n",
              "      <td>10.0</td>\n",
              "      <td>-100.0</td>\n",
              "    </tr>\n",
              "    <tr>\n",
              "      <th>7</th>\n",
              "      <td>5.0</td>\n",
              "      <td>14.0</td>\n",
              "      <td>-255.0</td>\n",
              "    </tr>\n",
              "    <tr>\n",
              "      <th>8</th>\n",
              "      <td>1.0</td>\n",
              "      <td>0.0</td>\n",
              "      <td>1.0</td>\n",
              "    </tr>\n",
              "    <tr>\n",
              "      <th>9</th>\n",
              "      <td>8.0</td>\n",
              "      <td>-12.0</td>\n",
              "      <td>304.0</td>\n",
              "    </tr>\n",
              "    <tr>\n",
              "      <th>10</th>\n",
              "      <td>-1.0</td>\n",
              "      <td>-4.0</td>\n",
              "      <td>81.0</td>\n",
              "    </tr>\n",
              "    <tr>\n",
              "      <th>11</th>\n",
              "      <td>1.0</td>\n",
              "      <td>1.0</td>\n",
              "      <td>-19.0</td>\n",
              "    </tr>\n",
              "    <tr>\n",
              "      <th>12</th>\n",
              "      <td>-10.0</td>\n",
              "      <td>2.0</td>\n",
              "      <td>60.0</td>\n",
              "    </tr>\n",
              "    <tr>\n",
              "      <th>13</th>\n",
              "      <td>-7.0</td>\n",
              "      <td>-3.0</td>\n",
              "      <td>109.0</td>\n",
              "    </tr>\n",
              "    <tr>\n",
              "      <th>14</th>\n",
              "      <td>-9.0</td>\n",
              "      <td>4.0</td>\n",
              "      <td>1.0</td>\n",
              "    </tr>\n",
              "    <tr>\n",
              "      <th>15</th>\n",
              "      <td>0.0</td>\n",
              "      <td>-12.0</td>\n",
              "      <td>240.0</td>\n",
              "    </tr>\n",
              "    <tr>\n",
              "      <th>16</th>\n",
              "      <td>6.0</td>\n",
              "      <td>15.0</td>\n",
              "      <td>-264.0</td>\n",
              "    </tr>\n",
              "    <tr>\n",
              "      <th>17</th>\n",
              "      <td>4.0</td>\n",
              "      <td>7.0</td>\n",
              "      <td>-124.0</td>\n",
              "    </tr>\n",
              "    <tr>\n",
              "      <th>18</th>\n",
              "      <td>-7.0</td>\n",
              "      <td>-6.0</td>\n",
              "      <td>169.0</td>\n",
              "    </tr>\n",
              "    <tr>\n",
              "      <th>19</th>\n",
              "      <td>2.0</td>\n",
              "      <td>-0.0</td>\n",
              "      <td>4.0</td>\n",
              "    </tr>\n",
              "  </tbody>\n",
              "</table>\n",
              "</div>\n",
              "      <button class=\"colab-df-convert\" onclick=\"convertToInteractive('df-257a7e67-0565-41a9-a3c3-595fe571e410')\"\n",
              "              title=\"Convert this dataframe to an interactive table.\"\n",
              "              style=\"display:none;\">\n",
              "        \n",
              "  <svg xmlns=\"http://www.w3.org/2000/svg\" height=\"24px\"viewBox=\"0 0 24 24\"\n",
              "       width=\"24px\">\n",
              "    <path d=\"M0 0h24v24H0V0z\" fill=\"none\"/>\n",
              "    <path d=\"M18.56 5.44l.94 2.06.94-2.06 2.06-.94-2.06-.94-.94-2.06-.94 2.06-2.06.94zm-11 1L8.5 8.5l.94-2.06 2.06-.94-2.06-.94L8.5 2.5l-.94 2.06-2.06.94zm10 10l.94 2.06.94-2.06 2.06-.94-2.06-.94-.94-2.06-.94 2.06-2.06.94z\"/><path d=\"M17.41 7.96l-1.37-1.37c-.4-.4-.92-.59-1.43-.59-.52 0-1.04.2-1.43.59L10.3 9.45l-7.72 7.72c-.78.78-.78 2.05 0 2.83L4 21.41c.39.39.9.59 1.41.59.51 0 1.02-.2 1.41-.59l7.78-7.78 2.81-2.81c.8-.78.8-2.07 0-2.86zM5.41 20L4 18.59l7.72-7.72 1.47 1.35L5.41 20z\"/>\n",
              "  </svg>\n",
              "      </button>\n",
              "      \n",
              "  <style>\n",
              "    .colab-df-container {\n",
              "      display:flex;\n",
              "      flex-wrap:wrap;\n",
              "      gap: 12px;\n",
              "    }\n",
              "\n",
              "    .colab-df-convert {\n",
              "      background-color: #E8F0FE;\n",
              "      border: none;\n",
              "      border-radius: 50%;\n",
              "      cursor: pointer;\n",
              "      display: none;\n",
              "      fill: #1967D2;\n",
              "      height: 32px;\n",
              "      padding: 0 0 0 0;\n",
              "      width: 32px;\n",
              "    }\n",
              "\n",
              "    .colab-df-convert:hover {\n",
              "      background-color: #E2EBFA;\n",
              "      box-shadow: 0px 1px 2px rgba(60, 64, 67, 0.3), 0px 1px 3px 1px rgba(60, 64, 67, 0.15);\n",
              "      fill: #174EA6;\n",
              "    }\n",
              "\n",
              "    [theme=dark] .colab-df-convert {\n",
              "      background-color: #3B4455;\n",
              "      fill: #D2E3FC;\n",
              "    }\n",
              "\n",
              "    [theme=dark] .colab-df-convert:hover {\n",
              "      background-color: #434B5C;\n",
              "      box-shadow: 0px 1px 3px 1px rgba(0, 0, 0, 0.15);\n",
              "      filter: drop-shadow(0px 1px 2px rgba(0, 0, 0, 0.3));\n",
              "      fill: #FFFFFF;\n",
              "    }\n",
              "  </style>\n",
              "\n",
              "      <script>\n",
              "        const buttonEl =\n",
              "          document.querySelector('#df-257a7e67-0565-41a9-a3c3-595fe571e410 button.colab-df-convert');\n",
              "        buttonEl.style.display =\n",
              "          google.colab.kernel.accessAllowed ? 'block' : 'none';\n",
              "\n",
              "        async function convertToInteractive(key) {\n",
              "          const element = document.querySelector('#df-257a7e67-0565-41a9-a3c3-595fe571e410');\n",
              "          const dataTable =\n",
              "            await google.colab.kernel.invokeFunction('convertToInteractive',\n",
              "                                                     [key], {});\n",
              "          if (!dataTable) return;\n",
              "\n",
              "          const docLinkHtml = 'Like what you see? Visit the ' +\n",
              "            '<a target=\"_blank\" href=https://colab.research.google.com/notebooks/data_table.ipynb>data table notebook</a>'\n",
              "            + ' to learn more about interactive tables.';\n",
              "          element.innerHTML = '';\n",
              "          dataTable['output_type'] = 'display_data';\n",
              "          await google.colab.output.renderOutput(dataTable, element);\n",
              "          const docLink = document.createElement('div');\n",
              "          docLink.innerHTML = docLinkHtml;\n",
              "          element.appendChild(docLink);\n",
              "        }\n",
              "      </script>\n",
              "    </div>\n",
              "  </div>\n",
              "  "
            ]
          },
          "metadata": {},
          "execution_count": 29
        }
      ]
    },
    {
      "cell_type": "markdown",
      "source": [
        "### HyperOpt를 이용한 XGBoost 하이퍼 파라미터 최적화"
      ],
      "metadata": {
        "id": "1i1ZUoXwYPis"
      }
    },
    {
      "cell_type": "code",
      "source": [
        "from hyperopt import hp\n",
        "\n",
        "# max_depth는 5에서 20까지 1간격으로, min_child_weight는 1에서 2까지 1간격으로\n",
        "# colsample_bytree는 0.5에서 1사이, learning_rate는 0.01에서 0.2 사이 정규 분포된 값으로 검색\n",
        "xgb_search_space = {'max_depth':hp.quniform('max_depth', 5, 20, 1),\n",
        "                    'min_child_weight':hp.quniform('min_child_weight', 1, 2, 1),\n",
        "                    'learning_rate':hp.uniform('learning_rate', 0.01, 0.2),\n",
        "                    'colsample_bytree':hp.uniform('colsample_bytree', 0.5, 1)\n",
        "                    }"
      ],
      "metadata": {
        "id": "4eB_ldRnYek9"
      },
      "execution_count": 30,
      "outputs": []
    },
    {
      "cell_type": "code",
      "source": [
        "from sklearn.model_selection import cross_val_score\n",
        "from xgboost import XGBClassifier\n",
        "from hyperopt import STATUS_OK\n",
        "\n",
        "# fmin()에서 입력된 search_space 값으로 입력된 모든 값은 실수형임.\n",
        "# XGBClassifier의 정수형 하이퍼 파라미터는 정수형 변환을 해줘야 함.\n",
        "# 정확도는 높을수록 더 좋은 수치임. -1 * 정확도를 곱해서 큰 정확도 값일수록 최소가 되도록 변환\n",
        "def objective_func(search_space):\n",
        "  # 수행 시간 절약을 위해 nestimators는 100으로 축소\n",
        "  xgb_clf = XGBClassifier(n_estimators=100, max_depth=int(search_space['max_depth']),\n",
        "                          min_child_weight=int(search_space['min_child_weight']),\n",
        "                          learning_rate=search_space['learning_rate'],\n",
        "                          colsample_bytree=search_space['colsample_bytree'],\n",
        "                          eval_metric='logloss')\n",
        "  accuracy = cross_val_score(xgb_clf, X_train, y_train, scoring='accuracy', cv=3)\n",
        "  \n",
        "  # accuracy는 cv=3 개수만큼 roc-auc 결과를 리스트로 가짐. 이를 평균해서 반환하되 -1을 곱함.\n",
        "  return {'loss':-1 * np.mean(accuracy), 'status': STATUS_OK}"
      ],
      "metadata": {
        "id": "hIlDkARgZOLC"
      },
      "execution_count": 38,
      "outputs": []
    },
    {
      "cell_type": "code",
      "source": [
        "from hyperopt import fmin, tpe, Trials\n",
        "\n",
        "trial_val = Trials()\n",
        "best = fmin(fn=objective_func, space=xgb_search_space, \n",
        "            algo=tpe.suggest,\n",
        "            max_evals=50, # 최대 반복 횟수\n",
        "            trials=trial_val, \n",
        "            rstate=np.random.RandomState(seed=9))\n",
        "print('best:',best)"
      ],
      "metadata": {
        "colab": {
          "base_uri": "https://localhost:8080/"
        },
        "id": "ChThTPT2aUGZ",
        "outputId": "92cf0e7f-9e8a-493f-e82f-a0042e127e55"
      },
      "execution_count": 39,
      "outputs": [
        {
          "output_type": "stream",
          "name": "stdout",
          "text": [
            "100%|██████████| 50/50 [00:09<00:00,  5.29it/s, best loss: -0.9670762170326479]\n",
            "best: {'colsample_bytree': 0.5811103711796605, 'learning_rate': 0.15180675941399624, 'max_depth': 8.0, 'min_child_weight': 1.0}\n"
          ]
        }
      ]
    },
    {
      "cell_type": "code",
      "source": [
        "print('colsample_bytree:{0}, learning_rate:{1}, max_depth:{2}, min_child_weight:{3}'.format(\n",
        "    round(best['colsample_bytree'], 5), round(best['learning_rate'], 5),\n",
        "    int(best['max_depth']), int(best['min_child_weight'])))"
      ],
      "metadata": {
        "colab": {
          "base_uri": "https://localhost:8080/"
        },
        "id": "cEWV9h9gapp5",
        "outputId": "727f0cc1-179b-4c1a-c839-25aa6c5a5a67"
      },
      "execution_count": 40,
      "outputs": [
        {
          "output_type": "stream",
          "name": "stdout",
          "text": [
            "colsample_bytree:0.58111, learning_rate:0.15181, max_depth:8, min_child_weight:1\n"
          ]
        }
      ]
    },
    {
      "cell_type": "code",
      "source": [
        "xgb_wrapper = XGBClassifier(n_estimators=400,\n",
        "                            learning_rate=round(best['learning_rate'], 5),\n",
        "                            max_depth=int(best['max_depth']),\n",
        "                            min_child_weight=int(best['min_child_weight']),\n",
        "                            colsample_bytree=round(best['colsample_bytree'], 5)\n",
        "                           )\n",
        "\n",
        "evals = [(X_tr, y_tr), (X_val, y_val)]\n",
        "xgb_wrapper.fit(X_tr, y_tr, early_stopping_rounds=50, eval_metric='logloss',\n",
        "                eval_set=evals, verbose=True)\n",
        "\n",
        "preds = xgb_wrapper.predict(X_test)\n",
        "pred_proba = xgb_wrapper.predict_proba(X_test)[:, 1]\n",
        "\n",
        "get_clf_eval(y_test, preds, pred_proba)"
      ],
      "metadata": {
        "colab": {
          "base_uri": "https://localhost:8080/"
        },
        "id": "2e1zyVKZcQ0t",
        "outputId": "3b332fe6-a7cf-436f-d5e4-bcde315ca3f0"
      },
      "execution_count": 41,
      "outputs": [
        {
          "output_type": "stream",
          "name": "stdout",
          "text": [
            "[0]\tvalidation_0-logloss:0.567035\tvalidation_1-logloss:0.609603\n",
            "Multiple eval metrics have been passed: 'validation_1-logloss' will be used for early stopping.\n",
            "\n",
            "Will train until validation_1-logloss hasn't improved in 50 rounds.\n",
            "[1]\tvalidation_0-logloss:0.475038\tvalidation_1-logloss:0.557426\n",
            "[2]\tvalidation_0-logloss:0.40161\tvalidation_1-logloss:0.496224\n",
            "[3]\tvalidation_0-logloss:0.341595\tvalidation_1-logloss:0.44826\n",
            "[4]\tvalidation_0-logloss:0.292806\tvalidation_1-logloss:0.422711\n",
            "[5]\tvalidation_0-logloss:0.251729\tvalidation_1-logloss:0.392976\n",
            "[6]\tvalidation_0-logloss:0.217972\tvalidation_1-logloss:0.364036\n",
            "[7]\tvalidation_0-logloss:0.190997\tvalidation_1-logloss:0.342218\n",
            "[8]\tvalidation_0-logloss:0.168602\tvalidation_1-logloss:0.322349\n",
            "[9]\tvalidation_0-logloss:0.147799\tvalidation_1-logloss:0.305646\n",
            "[10]\tvalidation_0-logloss:0.130454\tvalidation_1-logloss:0.29242\n",
            "[11]\tvalidation_0-logloss:0.116911\tvalidation_1-logloss:0.283735\n",
            "[12]\tvalidation_0-logloss:0.104324\tvalidation_1-logloss:0.273077\n",
            "[13]\tvalidation_0-logloss:0.093764\tvalidation_1-logloss:0.265712\n",
            "[14]\tvalidation_0-logloss:0.085005\tvalidation_1-logloss:0.262386\n",
            "[15]\tvalidation_0-logloss:0.077202\tvalidation_1-logloss:0.256857\n",
            "[16]\tvalidation_0-logloss:0.070336\tvalidation_1-logloss:0.255019\n",
            "[17]\tvalidation_0-logloss:0.06433\tvalidation_1-logloss:0.252832\n",
            "[18]\tvalidation_0-logloss:0.058799\tvalidation_1-logloss:0.251607\n",
            "[19]\tvalidation_0-logloss:0.054276\tvalidation_1-logloss:0.252091\n",
            "[20]\tvalidation_0-logloss:0.050159\tvalidation_1-logloss:0.25361\n",
            "[21]\tvalidation_0-logloss:0.046673\tvalidation_1-logloss:0.25231\n",
            "[22]\tvalidation_0-logloss:0.042683\tvalidation_1-logloss:0.255805\n",
            "[23]\tvalidation_0-logloss:0.039802\tvalidation_1-logloss:0.258561\n",
            "[24]\tvalidation_0-logloss:0.037006\tvalidation_1-logloss:0.258828\n",
            "[25]\tvalidation_0-logloss:0.034469\tvalidation_1-logloss:0.259344\n",
            "[26]\tvalidation_0-logloss:0.032303\tvalidation_1-logloss:0.262316\n",
            "[27]\tvalidation_0-logloss:0.03028\tvalidation_1-logloss:0.260124\n",
            "[28]\tvalidation_0-logloss:0.028496\tvalidation_1-logloss:0.262267\n",
            "[29]\tvalidation_0-logloss:0.02725\tvalidation_1-logloss:0.264347\n",
            "[30]\tvalidation_0-logloss:0.025811\tvalidation_1-logloss:0.261862\n",
            "[31]\tvalidation_0-logloss:0.024615\tvalidation_1-logloss:0.263943\n",
            "[32]\tvalidation_0-logloss:0.023401\tvalidation_1-logloss:0.265581\n",
            "[33]\tvalidation_0-logloss:0.022337\tvalidation_1-logloss:0.262378\n",
            "[34]\tvalidation_0-logloss:0.021178\tvalidation_1-logloss:0.258465\n",
            "[35]\tvalidation_0-logloss:0.020487\tvalidation_1-logloss:0.258481\n",
            "[36]\tvalidation_0-logloss:0.019509\tvalidation_1-logloss:0.258325\n",
            "[37]\tvalidation_0-logloss:0.018689\tvalidation_1-logloss:0.260294\n",
            "[38]\tvalidation_0-logloss:0.017969\tvalidation_1-logloss:0.26349\n",
            "[39]\tvalidation_0-logloss:0.017357\tvalidation_1-logloss:0.267242\n",
            "[40]\tvalidation_0-logloss:0.016598\tvalidation_1-logloss:0.266114\n",
            "[41]\tvalidation_0-logloss:0.016046\tvalidation_1-logloss:0.268\n",
            "[42]\tvalidation_0-logloss:0.015657\tvalidation_1-logloss:0.26497\n",
            "[43]\tvalidation_0-logloss:0.015156\tvalidation_1-logloss:0.25987\n",
            "[44]\tvalidation_0-logloss:0.014794\tvalidation_1-logloss:0.260907\n",
            "[45]\tvalidation_0-logloss:0.014365\tvalidation_1-logloss:0.260708\n",
            "[46]\tvalidation_0-logloss:0.013927\tvalidation_1-logloss:0.261218\n",
            "[47]\tvalidation_0-logloss:0.013665\tvalidation_1-logloss:0.261542\n",
            "[48]\tvalidation_0-logloss:0.013287\tvalidation_1-logloss:0.26216\n",
            "[49]\tvalidation_0-logloss:0.013017\tvalidation_1-logloss:0.260241\n",
            "[50]\tvalidation_0-logloss:0.012742\tvalidation_1-logloss:0.260679\n",
            "[51]\tvalidation_0-logloss:0.012531\tvalidation_1-logloss:0.259676\n",
            "[52]\tvalidation_0-logloss:0.012317\tvalidation_1-logloss:0.259801\n",
            "[53]\tvalidation_0-logloss:0.012065\tvalidation_1-logloss:0.26084\n",
            "[54]\tvalidation_0-logloss:0.011809\tvalidation_1-logloss:0.257593\n",
            "[55]\tvalidation_0-logloss:0.011608\tvalidation_1-logloss:0.255859\n",
            "[56]\tvalidation_0-logloss:0.01144\tvalidation_1-logloss:0.25657\n",
            "[57]\tvalidation_0-logloss:0.011187\tvalidation_1-logloss:0.254264\n",
            "[58]\tvalidation_0-logloss:0.011033\tvalidation_1-logloss:0.256683\n",
            "[59]\tvalidation_0-logloss:0.010843\tvalidation_1-logloss:0.257083\n",
            "[60]\tvalidation_0-logloss:0.01064\tvalidation_1-logloss:0.257917\n",
            "[61]\tvalidation_0-logloss:0.010558\tvalidation_1-logloss:0.256835\n",
            "[62]\tvalidation_0-logloss:0.010381\tvalidation_1-logloss:0.25731\n",
            "[63]\tvalidation_0-logloss:0.010251\tvalidation_1-logloss:0.258047\n",
            "[64]\tvalidation_0-logloss:0.010074\tvalidation_1-logloss:0.256043\n",
            "[65]\tvalidation_0-logloss:0.009957\tvalidation_1-logloss:0.256118\n",
            "[66]\tvalidation_0-logloss:0.009823\tvalidation_1-logloss:0.256389\n",
            "[67]\tvalidation_0-logloss:0.009706\tvalidation_1-logloss:0.258379\n",
            "[68]\tvalidation_0-logloss:0.009644\tvalidation_1-logloss:0.260238\n",
            "Stopping. Best iteration:\n",
            "[18]\tvalidation_0-logloss:0.058799\tvalidation_1-logloss:0.251607\n",
            "\n",
            "오차 행렬\n",
            "[[34  3]\n",
            " [ 2 75]]\n",
            "정확도: 0.9561, 정밀도: 0.9615, 재현율: 0.9740,    F1: 0.9677, AUC:0.9923\n"
          ]
        }
      ]
    },
    {
      "cell_type": "code",
      "source": [],
      "metadata": {
        "id": "02IwJhewcWst"
      },
      "execution_count": null,
      "outputs": []
    }
  ]
}