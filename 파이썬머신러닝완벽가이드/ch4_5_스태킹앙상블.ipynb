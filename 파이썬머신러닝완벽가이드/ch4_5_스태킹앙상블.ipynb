{
  "nbformat": 4,
  "nbformat_minor": 0,
  "metadata": {
    "colab": {
      "provenance": [],
      "authorship_tag": "ABX9TyO6coW6rkqyBeWScyTkOPcg",
      "include_colab_link": true
    },
    "kernelspec": {
      "name": "python3",
      "display_name": "Python 3"
    },
    "language_info": {
      "name": "python"
    }
  },
  "cells": [
    {
      "cell_type": "markdown",
      "metadata": {
        "id": "view-in-github",
        "colab_type": "text"
      },
      "source": [
        "<a href=\"https://colab.research.google.com/github/joyfulspace/Books/blob/main/%ED%8C%8C%EC%9D%B4%EC%8D%AC%EB%A8%B8%EC%8B%A0%EB%9F%AC%EB%8B%9D%EC%99%84%EB%B2%BD%EA%B0%80%EC%9D%B4%EB%93%9C/ch4_5_%EC%8A%A4%ED%83%9C%ED%82%B9%EC%95%99%EC%83%81%EB%B8%94.ipynb\" target=\"_parent\"><img src=\"https://colab.research.google.com/assets/colab-badge.svg\" alt=\"Open In Colab\"/></a>"
      ]
    },
    {
      "cell_type": "code",
      "execution_count": 1,
      "metadata": {
        "id": "8Yz6pT2EFnQ8"
      },
      "outputs": [],
      "source": [
        "import numpy as np\n",
        "\n",
        "from sklearn.neighbors import KNeighborsClassifier\n",
        "from sklearn.ensemble import RandomForestClassifier\n",
        "from sklearn.ensemble import AdaBoostClassifier\n",
        "from sklearn.tree import DecisionTreeClassifier\n",
        "from sklearn.linear_model import LogisticRegression\n",
        "\n",
        "from sklearn.datasets import load_breast_cancer\n",
        "from sklearn.model_selection import train_test_split\n",
        "from sklearn.metrics import accuracy_score\n",
        "\n",
        "cancer_data = load_breast_cancer()\n",
        "\n",
        "X_data = cancer_data.data\n",
        "y_label = cancer_data.target\n",
        "\n",
        "X_train , X_test , y_train , y_test = train_test_split(X_data , y_label , test_size=0.2 , random_state=0)"
      ]
    },
    {
      "cell_type": "code",
      "source": [
        "# 개별 ML 모델을 위한 Classifier 생성.\n",
        "knn_clf  = KNeighborsClassifier(n_neighbors=4)\n",
        "rf_clf = RandomForestClassifier(n_estimators=100, random_state=0)\n",
        "dt_clf = DecisionTreeClassifier()\n",
        "ada_clf = AdaBoostClassifier(n_estimators=100)\n",
        "\n",
        "# 최종 Stacking 모델을 위한 Classifier생성. \n",
        "lr_final = LogisticRegression(C=10)"
      ],
      "metadata": {
        "id": "QPolAoIFGNXp"
      },
      "execution_count": 2,
      "outputs": []
    },
    {
      "cell_type": "code",
      "source": [
        "# 개별 모델들을 학습. \n",
        "knn_clf.fit(X_train, y_train)\n",
        "rf_clf.fit(X_train , y_train)\n",
        "dt_clf.fit(X_train , y_train)\n",
        "ada_clf.fit(X_train, y_train)"
      ],
      "metadata": {
        "colab": {
          "base_uri": "https://localhost:8080/"
        },
        "id": "mhdRiP4ZGQVH",
        "outputId": "27eb1ca8-25e3-4cb5-f73b-fc57545485c6"
      },
      "execution_count": 3,
      "outputs": [
        {
          "output_type": "execute_result",
          "data": {
            "text/plain": [
              "AdaBoostClassifier(n_estimators=100)"
            ]
          },
          "metadata": {},
          "execution_count": 3
        }
      ]
    },
    {
      "cell_type": "code",
      "source": [
        "# 학습된 개별 모델들이 각자 반환하는 예측 데이터 셋을 생성하고 개별 모델의 정확도 측정. \n",
        "knn_pred = knn_clf.predict(X_test)\n",
        "rf_pred = rf_clf.predict(X_test)\n",
        "dt_pred = dt_clf.predict(X_test)\n",
        "ada_pred = ada_clf.predict(X_test)\n",
        "\n",
        "print('KNN 정확도: {0:.4f}'.format(accuracy_score(y_test, knn_pred)))\n",
        "print('랜덤 포레스트 정확도: {0:.4f}'.format(accuracy_score(y_test, rf_pred)))\n",
        "print('결정 트리 정확도: {0:.4f}'.format(accuracy_score(y_test, dt_pred)))\n",
        "print('에이다부스트 정확도: {0:.4f} :'.format(accuracy_score(y_test, ada_pred)))"
      ],
      "metadata": {
        "colab": {
          "base_uri": "https://localhost:8080/"
        },
        "id": "7LiphKArGVK2",
        "outputId": "07ac1cd5-8e55-4042-b15d-ca7ea7327572"
      },
      "execution_count": 4,
      "outputs": [
        {
          "output_type": "stream",
          "name": "stdout",
          "text": [
            "KNN 정확도: 0.9211\n",
            "랜덤 포레스트 정확도: 0.9649\n",
            "결정 트리 정확도: 0.9123\n",
            "에이다부스트 정확도: 0.9561 :\n"
          ]
        }
      ]
    },
    {
      "cell_type": "code",
      "source": [
        "pred = np.array([knn_pred, rf_pred, dt_pred, ada_pred])\n",
        "print(pred.shape)\n",
        "\n",
        "# transpose를 이용해 행과 열의 위치 교환. 컬럼 레벨로 각 알고리즘의 예측 결과를 피처로 만듦. \n",
        "pred = np.transpose(pred)\n",
        "print(pred.shape)"
      ],
      "metadata": {
        "colab": {
          "base_uri": "https://localhost:8080/"
        },
        "id": "VGKb7PJkGW31",
        "outputId": "9faf29a5-e72b-4a11-997f-44980ce7eb27"
      },
      "execution_count": 5,
      "outputs": [
        {
          "output_type": "stream",
          "name": "stdout",
          "text": [
            "(4, 114)\n",
            "(114, 4)\n"
          ]
        }
      ]
    },
    {
      "cell_type": "code",
      "source": [
        "lr_final.fit(pred, y_test)\n",
        "final = lr_final.predict(pred)\n",
        "\n",
        "print('최종 메타 모델의 예측 정확도: {0:.4f}'.format(accuracy_score(y_test , final)))"
      ],
      "metadata": {
        "colab": {
          "base_uri": "https://localhost:8080/"
        },
        "id": "b3zuXlZLGZTk",
        "outputId": "c2d0265d-5b18-432c-c22b-237ab60f6de6"
      },
      "execution_count": 6,
      "outputs": [
        {
          "output_type": "stream",
          "name": "stdout",
          "text": [
            "최종 메타 모델의 예측 정확도: 0.9649\n"
          ]
        }
      ]
    },
    {
      "cell_type": "markdown",
      "source": [
        "### CV세트 기반의 스태킹\n",
        "* 레이블 데이터 세트로 학습 데이터가 아닌 테스트용 레이블 데이터 세트를 기반으로 학습해서 과적합 발생 가능"
      ],
      "metadata": {
        "id": "qVpEmDzjGbCT"
      }
    },
    {
      "cell_type": "code",
      "source": [
        "from sklearn.model_selection import KFold\n",
        "from sklearn.metrics import mean_absolute_error\n",
        "\n",
        "# 개별 기반 모델에서 최종 메타 모델이 사용할 학습 및 테스트용 데이터를 생성하기 위한 함수. \n",
        "def get_stacking_base_datasets(model, X_train_n, y_train_n, X_test_n, n_folds ):\n",
        "  # 지정된 n_folds값으로 KFold 생성.\n",
        "  kf = KFold(n_splits=n_folds, shuffle=False)\n",
        "  #추후에 메타 모델이 사용할 학습 데이터 반환을 위한 넘파이 배열 초기화 \n",
        "  train_fold_pred = np.zeros((X_train_n.shape[0] ,1 ))\n",
        "  test_pred = np.zeros((X_test_n.shape[0],n_folds))\n",
        "  print(model.__class__.__name__ , ' model 시작 ')\n",
        "\n",
        "  for folder_counter, (train_index, valid_index) in enumerate(kf.split(X_train_n)):\n",
        "    # 입력된 학습 데이터에서 기반 모델이 학습/예측할 폴드 데이터 셋 추출\n",
        "    print('\\t 폴드세트:', folder_counter, '시작')\n",
        "    X_tr = X_train_n[train_index]\n",
        "    y_tr = y_train_n[train_index]\n",
        "    X_te = X_train_n[valid_index]\n",
        "\n",
        "    # 폴드 세트 내부에서 다시 만들어진 학습 데이터로 기반 모델의 학습 수행\n",
        "    model.fit(X_tr, y_tr)\n",
        "    # 폴드 세트 내부에서 다시 만들어진 검증 데이터로 기반 모델 예측 후 저장\n",
        "    train_fold_pred[valid_index, :] = model.predict(X_te).reshape(-1, 1)\n",
        "    # 입력된 원본 테스트 데이터를 폴드 세트 내 학습된 기반 모델에서 예측 후 저장\n",
        "    test_pred[:, folder_counter] = model.predict(X_test_n)\n",
        "\n",
        "  # 폴드 세트 내에서 원본 테스트 데이터를 예측한 데이터를 평균하여 테스트 데이터로 생성\n",
        "  test_pred_mean = np.mean(test_pred, axis=1).reshape(-1, 1)  \n",
        "\n",
        "  return train_fold_pred, test_pred_mean"
      ],
      "metadata": {
        "id": "5PXN4OUEIN_Q"
      },
      "execution_count": 10,
      "outputs": []
    },
    {
      "cell_type": "code",
      "source": [
        "knn_train, knn_test = get_stacking_base_datasets(knn_clf, X_train, y_train, X_test, 7)\n",
        "rf_train, rf_test = get_stacking_base_datasets(rf_clf, X_train, y_train, X_test, 7)\n",
        "dt_train, dt_test = get_stacking_base_datasets(dt_clf, X_train, y_train, X_test,  7)    \n",
        "ada_train, ada_test = get_stacking_base_datasets(ada_clf, X_train, y_train, X_test, 7)"
      ],
      "metadata": {
        "colab": {
          "base_uri": "https://localhost:8080/"
        },
        "id": "zi4h2lpvIOis",
        "outputId": "9b9c2422-9606-4f46-f445-1e1788c45cb5"
      },
      "execution_count": 11,
      "outputs": [
        {
          "output_type": "stream",
          "name": "stdout",
          "text": [
            "KNeighborsClassifier  model 시작 \n",
            "\t 폴드세트: 0 시작\n",
            "\t 폴드세트: 1 시작\n",
            "\t 폴드세트: 2 시작\n",
            "\t 폴드세트: 3 시작\n",
            "\t 폴드세트: 4 시작\n",
            "\t 폴드세트: 5 시작\n",
            "\t 폴드세트: 6 시작\n",
            "RandomForestClassifier  model 시작 \n",
            "\t 폴드세트: 0 시작\n",
            "\t 폴드세트: 1 시작\n",
            "\t 폴드세트: 2 시작\n",
            "\t 폴드세트: 3 시작\n",
            "\t 폴드세트: 4 시작\n",
            "\t 폴드세트: 5 시작\n",
            "\t 폴드세트: 6 시작\n",
            "DecisionTreeClassifier  model 시작 \n",
            "\t 폴드세트: 0 시작\n",
            "\t 폴드세트: 1 시작\n",
            "\t 폴드세트: 2 시작\n",
            "\t 폴드세트: 3 시작\n",
            "\t 폴드세트: 4 시작\n",
            "\t 폴드세트: 5 시작\n",
            "\t 폴드세트: 6 시작\n",
            "AdaBoostClassifier  model 시작 \n",
            "\t 폴드세트: 0 시작\n",
            "\t 폴드세트: 1 시작\n",
            "\t 폴드세트: 2 시작\n",
            "\t 폴드세트: 3 시작\n",
            "\t 폴드세트: 4 시작\n",
            "\t 폴드세트: 5 시작\n",
            "\t 폴드세트: 6 시작\n"
          ]
        }
      ]
    },
    {
      "cell_type": "code",
      "source": [
        "Stack_final_X_train = np.concatenate((knn_train, rf_train, dt_train, ada_train), axis=1)\n",
        "Stack_final_X_test = np.concatenate((knn_test, rf_test, dt_test, ada_test), axis=1)\n",
        "print('원본 학습 피처 데이터 Shape:',X_train.shape, '원본 테스트 피처 Shape:',X_test.shape)\n",
        "print('스태킹 학습 피처 데이터 Shape:', Stack_final_X_train.shape,\n",
        "      '스태킹 테스트 피처 데이터 Shape:',Stack_final_X_test.shape)"
      ],
      "metadata": {
        "colab": {
          "base_uri": "https://localhost:8080/"
        },
        "id": "7xBSTAufJgUe",
        "outputId": "6d643904-ad68-4527-db6e-bc3e6eeb89ba"
      },
      "execution_count": 12,
      "outputs": [
        {
          "output_type": "stream",
          "name": "stdout",
          "text": [
            "원본 학습 피처 데이터 Shape: (455, 30) 원본 테스트 피처 Shape: (114, 30)\n",
            "스태킹 학습 피처 데이터 Shape: (455, 4) 스태킹 테스트 피처 데이터 Shape: (114, 4)\n"
          ]
        }
      ]
    },
    {
      "cell_type": "code",
      "source": [
        "lr_final.fit(Stack_final_X_train, y_train)\n",
        "stack_final = lr_final.predict(Stack_final_X_test)\n",
        "\n",
        "print('최종 메타 모델의 예측 정확도: {0:.4f}'.format(accuracy_score(y_test, stack_final)))"
      ],
      "metadata": {
        "colab": {
          "base_uri": "https://localhost:8080/"
        },
        "id": "geEh7nqTJmeO",
        "outputId": "8528873c-a589-41f1-be2c-bccc8aae5c5b"
      },
      "execution_count": 13,
      "outputs": [
        {
          "output_type": "stream",
          "name": "stdout",
          "text": [
            "최종 메타 모델의 예측 정확도: 0.9737\n"
          ]
        }
      ]
    },
    {
      "cell_type": "code",
      "source": [],
      "metadata": {
        "id": "U_887RM6JrFi"
      },
      "execution_count": null,
      "outputs": []
    }
  ]
}