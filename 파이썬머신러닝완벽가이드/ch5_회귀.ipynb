{
  "nbformat": 4,
  "nbformat_minor": 0,
  "metadata": {
    "colab": {
      "provenance": [],
      "authorship_tag": "ABX9TyMexVkCcH+L1ppGOwFNi2pm",
      "include_colab_link": true
    },
    "kernelspec": {
      "name": "python3",
      "display_name": "Python 3"
    },
    "language_info": {
      "name": "python"
    }
  },
  "cells": [
    {
      "cell_type": "markdown",
      "metadata": {
        "id": "view-in-github",
        "colab_type": "text"
      },
      "source": [
        "<a href=\"https://colab.research.google.com/github/joyfulspace/Books/blob/main/%ED%8C%8C%EC%9D%B4%EC%8D%AC%EB%A8%B8%EC%8B%A0%EB%9F%AC%EB%8B%9D%EC%99%84%EB%B2%BD%EA%B0%80%EC%9D%B4%EB%93%9C/ch5_%ED%9A%8C%EA%B7%80.ipynb\" target=\"_parent\"><img src=\"https://colab.research.google.com/assets/colab-badge.svg\" alt=\"Open In Colab\"/></a>"
      ]
    },
    {
      "cell_type": "markdown",
      "source": [
        "# Ch4. 회귀분석\n",
        "* 독립변수 개수\n",
        "  - 1개: 단일회귀\n",
        "  - 여러 개: 다중회귀\n",
        "* 회귀계수 결합\n",
        "  - 선형회귀\n",
        "  - 비선형회귀\n",
        "* 규제\n",
        "  - 릿지: L2규제. 큰 회귀계수 값의 예측영향도 줄이기 위해 회귀계수 값을 줄임\n",
        "  - 라쏘: L1규제. 예측영향력 작은 피처의 회귀계수 값을 0으로 만듬(회귀 계수 개수가 줄어듬)\n",
        "  - 엘라스틱넷: L2, L1 함께. 피처 많을 때 주로 적용\n",
        "  - 로지스틱회귀: 분류 모델\n",
        "* 비용함수: RSS\n",
        "  - 비용함수 최소화: 경사하강법"
      ],
      "metadata": {
        "id": "j4HL_P90xZeY"
      }
    },
    {
      "cell_type": "code",
      "source": [
        "!git clone https://github.com/joyfulspace/Books.git"
      ],
      "metadata": {
        "colab": {
          "base_uri": "https://localhost:8080/"
        },
        "id": "rykTNvdm336T",
        "outputId": "dd1ea4b3-3856-41db-a97a-5a403334b886"
      },
      "execution_count": 2,
      "outputs": [
        {
          "output_type": "stream",
          "name": "stdout",
          "text": [
            "Cloning into 'Books'...\n",
            "remote: Enumerating objects: 167, done.\u001b[K\n",
            "remote: Counting objects: 100% (45/45), done.\u001b[K\n",
            "remote: Compressing objects: 100% (32/32), done.\u001b[K\n",
            "remote: Total 167 (delta 25), reused 23 (delta 12), pack-reused 122\u001b[K\n",
            "Receiving objects: 100% (167/167), 63.09 MiB | 15.66 MiB/s, done.\n",
            "Resolving deltas: 100% (58/58), done.\n",
            "Checking out files: 100% (49/49), done.\n"
          ]
        }
      ]
    },
    {
      "cell_type": "code",
      "source": [
        "Path = '/content/Books/파이썬머신러닝완벽가이드/data'"
      ],
      "metadata": {
        "id": "3QYaObc-42s1"
      },
      "execution_count": 3,
      "outputs": []
    },
    {
      "cell_type": "markdown",
      "source": [
        "### 보스턴 주택 가격 예측"
      ],
      "metadata": {
        "id": "Jt6Qj_zAFYRx"
      }
    },
    {
      "cell_type": "code",
      "source": [
        "import numpy as np\n",
        "import matplotlib.pyplot as plt\n",
        "import pandas as pd\n",
        "import seaborn as sns\n",
        "from scipy import stats\n",
        "from sklearn.datasets import load_boston\n",
        "import warnings\n",
        "warnings.filterwarnings('ignore')\n",
        "%matplotlib inline\n",
        "\n",
        "# boston 데이터 로드\n",
        "boston = load_boston()\n",
        "bostonDF = pd.DataFrame(boston.data, columns=boston.feature_names)\n",
        "\n",
        "# boston dataset의 target array는 주택 가격.\n",
        "bostonDF['PRICE'] = boston.target\n",
        "print('Boston 데이터 크기:', bostonDF.shape)\n",
        "bostonDF.head()"
      ],
      "metadata": {
        "colab": {
          "base_uri": "https://localhost:8080/",
          "height": 225
        },
        "id": "h6P953Zk45Pm",
        "outputId": "f10c9ca0-a897-47b3-8a2b-d3daa5f1c31b"
      },
      "execution_count": 4,
      "outputs": [
        {
          "output_type": "stream",
          "name": "stdout",
          "text": [
            "Boston 데이터 크기: (506, 14)\n"
          ]
        },
        {
          "output_type": "execute_result",
          "data": {
            "text/plain": [
              "      CRIM    ZN  INDUS  CHAS    NOX     RM   AGE     DIS  RAD    TAX  \\\n",
              "0  0.00632  18.0   2.31   0.0  0.538  6.575  65.2  4.0900  1.0  296.0   \n",
              "1  0.02731   0.0   7.07   0.0  0.469  6.421  78.9  4.9671  2.0  242.0   \n",
              "2  0.02729   0.0   7.07   0.0  0.469  7.185  61.1  4.9671  2.0  242.0   \n",
              "3  0.03237   0.0   2.18   0.0  0.458  6.998  45.8  6.0622  3.0  222.0   \n",
              "4  0.06905   0.0   2.18   0.0  0.458  7.147  54.2  6.0622  3.0  222.0   \n",
              "\n",
              "   PTRATIO       B  LSTAT  PRICE  \n",
              "0     15.3  396.90   4.98   24.0  \n",
              "1     17.8  396.90   9.14   21.6  \n",
              "2     17.8  392.83   4.03   34.7  \n",
              "3     18.7  394.63   2.94   33.4  \n",
              "4     18.7  396.90   5.33   36.2  "
            ],
            "text/html": [
              "\n",
              "  <div id=\"df-c421d676-85f5-4dc6-a55f-0a71ddff5a86\">\n",
              "    <div class=\"colab-df-container\">\n",
              "      <div>\n",
              "<style scoped>\n",
              "    .dataframe tbody tr th:only-of-type {\n",
              "        vertical-align: middle;\n",
              "    }\n",
              "\n",
              "    .dataframe tbody tr th {\n",
              "        vertical-align: top;\n",
              "    }\n",
              "\n",
              "    .dataframe thead th {\n",
              "        text-align: right;\n",
              "    }\n",
              "</style>\n",
              "<table border=\"1\" class=\"dataframe\">\n",
              "  <thead>\n",
              "    <tr style=\"text-align: right;\">\n",
              "      <th></th>\n",
              "      <th>CRIM</th>\n",
              "      <th>ZN</th>\n",
              "      <th>INDUS</th>\n",
              "      <th>CHAS</th>\n",
              "      <th>NOX</th>\n",
              "      <th>RM</th>\n",
              "      <th>AGE</th>\n",
              "      <th>DIS</th>\n",
              "      <th>RAD</th>\n",
              "      <th>TAX</th>\n",
              "      <th>PTRATIO</th>\n",
              "      <th>B</th>\n",
              "      <th>LSTAT</th>\n",
              "      <th>PRICE</th>\n",
              "    </tr>\n",
              "  </thead>\n",
              "  <tbody>\n",
              "    <tr>\n",
              "      <th>0</th>\n",
              "      <td>0.00632</td>\n",
              "      <td>18.0</td>\n",
              "      <td>2.31</td>\n",
              "      <td>0.0</td>\n",
              "      <td>0.538</td>\n",
              "      <td>6.575</td>\n",
              "      <td>65.2</td>\n",
              "      <td>4.0900</td>\n",
              "      <td>1.0</td>\n",
              "      <td>296.0</td>\n",
              "      <td>15.3</td>\n",
              "      <td>396.90</td>\n",
              "      <td>4.98</td>\n",
              "      <td>24.0</td>\n",
              "    </tr>\n",
              "    <tr>\n",
              "      <th>1</th>\n",
              "      <td>0.02731</td>\n",
              "      <td>0.0</td>\n",
              "      <td>7.07</td>\n",
              "      <td>0.0</td>\n",
              "      <td>0.469</td>\n",
              "      <td>6.421</td>\n",
              "      <td>78.9</td>\n",
              "      <td>4.9671</td>\n",
              "      <td>2.0</td>\n",
              "      <td>242.0</td>\n",
              "      <td>17.8</td>\n",
              "      <td>396.90</td>\n",
              "      <td>9.14</td>\n",
              "      <td>21.6</td>\n",
              "    </tr>\n",
              "    <tr>\n",
              "      <th>2</th>\n",
              "      <td>0.02729</td>\n",
              "      <td>0.0</td>\n",
              "      <td>7.07</td>\n",
              "      <td>0.0</td>\n",
              "      <td>0.469</td>\n",
              "      <td>7.185</td>\n",
              "      <td>61.1</td>\n",
              "      <td>4.9671</td>\n",
              "      <td>2.0</td>\n",
              "      <td>242.0</td>\n",
              "      <td>17.8</td>\n",
              "      <td>392.83</td>\n",
              "      <td>4.03</td>\n",
              "      <td>34.7</td>\n",
              "    </tr>\n",
              "    <tr>\n",
              "      <th>3</th>\n",
              "      <td>0.03237</td>\n",
              "      <td>0.0</td>\n",
              "      <td>2.18</td>\n",
              "      <td>0.0</td>\n",
              "      <td>0.458</td>\n",
              "      <td>6.998</td>\n",
              "      <td>45.8</td>\n",
              "      <td>6.0622</td>\n",
              "      <td>3.0</td>\n",
              "      <td>222.0</td>\n",
              "      <td>18.7</td>\n",
              "      <td>394.63</td>\n",
              "      <td>2.94</td>\n",
              "      <td>33.4</td>\n",
              "    </tr>\n",
              "    <tr>\n",
              "      <th>4</th>\n",
              "      <td>0.06905</td>\n",
              "      <td>0.0</td>\n",
              "      <td>2.18</td>\n",
              "      <td>0.0</td>\n",
              "      <td>0.458</td>\n",
              "      <td>7.147</td>\n",
              "      <td>54.2</td>\n",
              "      <td>6.0622</td>\n",
              "      <td>3.0</td>\n",
              "      <td>222.0</td>\n",
              "      <td>18.7</td>\n",
              "      <td>396.90</td>\n",
              "      <td>5.33</td>\n",
              "      <td>36.2</td>\n",
              "    </tr>\n",
              "  </tbody>\n",
              "</table>\n",
              "</div>\n",
              "      <button class=\"colab-df-convert\" onclick=\"convertToInteractive('df-c421d676-85f5-4dc6-a55f-0a71ddff5a86')\"\n",
              "              title=\"Convert this dataframe to an interactive table.\"\n",
              "              style=\"display:none;\">\n",
              "        \n",
              "  <svg xmlns=\"http://www.w3.org/2000/svg\" height=\"24px\"viewBox=\"0 0 24 24\"\n",
              "       width=\"24px\">\n",
              "    <path d=\"M0 0h24v24H0V0z\" fill=\"none\"/>\n",
              "    <path d=\"M18.56 5.44l.94 2.06.94-2.06 2.06-.94-2.06-.94-.94-2.06-.94 2.06-2.06.94zm-11 1L8.5 8.5l.94-2.06 2.06-.94-2.06-.94L8.5 2.5l-.94 2.06-2.06.94zm10 10l.94 2.06.94-2.06 2.06-.94-2.06-.94-.94-2.06-.94 2.06-2.06.94z\"/><path d=\"M17.41 7.96l-1.37-1.37c-.4-.4-.92-.59-1.43-.59-.52 0-1.04.2-1.43.59L10.3 9.45l-7.72 7.72c-.78.78-.78 2.05 0 2.83L4 21.41c.39.39.9.59 1.41.59.51 0 1.02-.2 1.41-.59l7.78-7.78 2.81-2.81c.8-.78.8-2.07 0-2.86zM5.41 20L4 18.59l7.72-7.72 1.47 1.35L5.41 20z\"/>\n",
              "  </svg>\n",
              "      </button>\n",
              "      \n",
              "  <style>\n",
              "    .colab-df-container {\n",
              "      display:flex;\n",
              "      flex-wrap:wrap;\n",
              "      gap: 12px;\n",
              "    }\n",
              "\n",
              "    .colab-df-convert {\n",
              "      background-color: #E8F0FE;\n",
              "      border: none;\n",
              "      border-radius: 50%;\n",
              "      cursor: pointer;\n",
              "      display: none;\n",
              "      fill: #1967D2;\n",
              "      height: 32px;\n",
              "      padding: 0 0 0 0;\n",
              "      width: 32px;\n",
              "    }\n",
              "\n",
              "    .colab-df-convert:hover {\n",
              "      background-color: #E2EBFA;\n",
              "      box-shadow: 0px 1px 2px rgba(60, 64, 67, 0.3), 0px 1px 3px 1px rgba(60, 64, 67, 0.15);\n",
              "      fill: #174EA6;\n",
              "    }\n",
              "\n",
              "    [theme=dark] .colab-df-convert {\n",
              "      background-color: #3B4455;\n",
              "      fill: #D2E3FC;\n",
              "    }\n",
              "\n",
              "    [theme=dark] .colab-df-convert:hover {\n",
              "      background-color: #434B5C;\n",
              "      box-shadow: 0px 1px 3px 1px rgba(0, 0, 0, 0.15);\n",
              "      filter: drop-shadow(0px 1px 2px rgba(0, 0, 0, 0.3));\n",
              "      fill: #FFFFFF;\n",
              "    }\n",
              "  </style>\n",
              "\n",
              "      <script>\n",
              "        const buttonEl =\n",
              "          document.querySelector('#df-c421d676-85f5-4dc6-a55f-0a71ddff5a86 button.colab-df-convert');\n",
              "        buttonEl.style.display =\n",
              "          google.colab.kernel.accessAllowed ? 'block' : 'none';\n",
              "\n",
              "        async function convertToInteractive(key) {\n",
              "          const element = document.querySelector('#df-c421d676-85f5-4dc6-a55f-0a71ddff5a86');\n",
              "          const dataTable =\n",
              "            await google.colab.kernel.invokeFunction('convertToInteractive',\n",
              "                                                     [key], {});\n",
              "          if (!dataTable) return;\n",
              "\n",
              "          const docLinkHtml = 'Like what you see? Visit the ' +\n",
              "            '<a target=\"_blank\" href=https://colab.research.google.com/notebooks/data_table.ipynb>data table notebook</a>'\n",
              "            + ' to learn more about interactive tables.';\n",
              "          element.innerHTML = '';\n",
              "          dataTable['output_type'] = 'display_data';\n",
              "          await google.colab.output.renderOutput(dataTable, element);\n",
              "          const docLink = document.createElement('div');\n",
              "          docLink.innerHTML = docLinkHtml;\n",
              "          element.appendChild(docLink);\n",
              "        }\n",
              "      </script>\n",
              "    </div>\n",
              "  </div>\n",
              "  "
            ]
          },
          "metadata": {},
          "execution_count": 4
        }
      ]
    },
    {
      "cell_type": "code",
      "source": [
        "# 각 칼럼별로 주택가격에 미치는 영향도\n",
        "fig, axs = plt.subplots(figsize=(16, 8), ncols=4, nrows=2)\n",
        "im_features = ['RM', 'ZN', 'INDUS', 'NOX', 'AGE', 'PTRATIO', 'LSTAT', 'RAD']\n",
        "for i, feature in enumerate(im_features):\n",
        "  row = int(i/4)\n",
        "  col = i%4\n",
        "  sns.regplot(x=feature, y='PRICE', data=bostonDF, ax=axs[row][col])\n",
        "\n",
        "fig1 = plt.gcf()\n",
        "fig1.savefig('p322_boston.tif', format='tif', dpi=300, bbox_inches='tight')"
      ],
      "metadata": {
        "colab": {
          "base_uri": "https://localhost:8080/",
          "height": 497
        },
        "id": "z3CMoe45Fg_9",
        "outputId": "40a5c173-7000-42e4-da31-c6d65673ecee"
      },
      "execution_count": 5,
      "outputs": [
        {
          "output_type": "display_data",
          "data": {
            "text/plain": [
              "<Figure size 1152x576 with 8 Axes>"
            ],
            "image/png": "[encoded data removed]"
          },
          "metadata": {
            "needs_background": "light"
          }
        }
      ]
    },
    {
      "cell_type": "code",
      "source": [
        "# 학습과 테스트 데이터 세트로 분리하고 학습/예측/평가 수행\n",
        "from sklearn.model_selection import train_test_split\n",
        "from sklearn.linear_model import LinearRegression\n",
        "from sklearn.metrics import mean_squared_error, r2_score\n",
        "\n",
        "y_target = bostonDF['PRICE']\n",
        "X_data = bostonDF.drop(['PRICE'], axis=1, inplace=False)\n",
        "\n",
        "X_train, X_test, y_train, y_test = train_test_split(X_data, y_target, test_size=0.3,\n",
        "                                                    random_state=156)\n",
        "\n",
        "# 선형 회귀 OLS로 학습/예측/평가 수행.\n",
        "lr = LinearRegression()\n",
        "lr.fit(X_train, y_train)\n",
        "y_preds = lr.predict(X_test)\n",
        "mse = mean_squared_error(y_test, y_preds)\n",
        "rmse = np.sqrt(mse)\n",
        "\n",
        "print('MSE : {0:.3f} , RMSE : {1:.3F}'.format(mse , rmse))\n",
        "print('Variance score : {0:.3f}'.format(r2_score(y_test, y_preds)))"
      ],
      "metadata": {
        "colab": {
          "base_uri": "https://localhost:8080/"
        },
        "id": "NbE2AJAUE_vL",
        "outputId": "f5b2e15a-336f-4e78-9669-5ebaedfef8bf"
      },
      "execution_count": 6,
      "outputs": [
        {
          "output_type": "stream",
          "name": "stdout",
          "text": [
            "MSE : 17.297 , RMSE : 4.159\n",
            "Variance score : 0.757\n"
          ]
        }
      ]
    },
    {
      "cell_type": "code",
      "source": [
        "print('절편 값:',lr.intercept_)\n",
        "print('회귀 계수값:', np.round(lr.coef_, 1))"
      ],
      "metadata": {
        "colab": {
          "base_uri": "https://localhost:8080/"
        },
        "id": "c10V0fYXHRVx",
        "outputId": "3331adc3-75e8-4ccb-ebf5-cdee3d77957a"
      },
      "execution_count": 7,
      "outputs": [
        {
          "output_type": "stream",
          "name": "stdout",
          "text": [
            "절편 값: 40.99559517216477\n",
            "회귀 계수값: [ -0.1   0.1   0.    3.  -19.8   3.4   0.   -1.7   0.4  -0.   -0.9   0.\n",
            "  -0.6]\n"
          ]
        }
      ]
    },
    {
      "cell_type": "code",
      "source": [
        "# 회귀 계수를 큰 값 순으로 정렬하기 위해 Series로 생성. index가 칼럼명에 유의\n",
        "coeff = pd.Series(data=np.round(lr.coef_, 1), index=X_data.columns )\n",
        "coeff.sort_values(ascending=False)"
      ],
      "metadata": {
        "colab": {
          "base_uri": "https://localhost:8080/"
        },
        "id": "kF7OuouzHXyf",
        "outputId": "ff818f35-4a68-4e58-be7d-11d8999bbd6e"
      },
      "execution_count": 8,
      "outputs": [
        {
          "output_type": "execute_result",
          "data": {
            "text/plain": [
              "RM          3.4\n",
              "CHAS        3.0\n",
              "RAD         0.4\n",
              "ZN          0.1\n",
              "INDUS       0.0\n",
              "AGE         0.0\n",
              "TAX        -0.0\n",
              "B           0.0\n",
              "CRIM       -0.1\n",
              "LSTAT      -0.6\n",
              "PTRATIO    -0.9\n",
              "DIS        -1.7\n",
              "NOX       -19.8\n",
              "dtype: float64"
            ]
          },
          "metadata": {},
          "execution_count": 8
        }
      ]
    },
    {
      "cell_type": "code",
      "source": [
        "from sklearn.model_selection import cross_val_score\n",
        "\n",
        "y_target = bostonDF['PRICE']\n",
        "X_data = bostonDF.drop(['PRICE'],axis=1,inplace=False)\n",
        "lr = LinearRegression()\n",
        "\n",
        "# cross_val_score( )로 5 Fold 셋으로 MSE 를 구한 뒤 이를 기반으로 다시  RMSE 구함. \n",
        "neg_mse_scores = cross_val_score(lr, X_data, y_target, scoring=\"neg_mean_squared_error\", cv = 5)\n",
        "rmse_scores  = np.sqrt(-1 * neg_mse_scores)\n",
        "avg_rmse = np.mean(rmse_scores)\n",
        "\n",
        "# cross_val_score(scoring=\"neg_mean_squared_error\")로 반환된 값은 모두 음수 \n",
        "print(' 5 folds 의 개별 Negative MSE scores: ', np.round(neg_mse_scores, 2))\n",
        "print(' 5 folds 의 개별 RMSE scores : ', np.round(rmse_scores, 2))\n",
        "print(' 5 folds 의 평균 RMSE : {0:.3f} '.format(avg_rmse))"
      ],
      "metadata": {
        "colab": {
          "base_uri": "https://localhost:8080/"
        },
        "id": "E6G5Er3QHbSF",
        "outputId": "9742254d-9b9d-44de-c83d-a695752dbf56"
      },
      "execution_count": 9,
      "outputs": [
        {
          "output_type": "stream",
          "name": "stdout",
          "text": [
            " 5 folds 의 개별 Negative MSE scores:  [-12.46 -26.05 -33.07 -80.76 -33.31]\n",
            " 5 folds 의 개별 RMSE scores :  [3.53 5.1  5.75 8.99 5.77]\n",
            " 5 folds 의 평균 RMSE : 5.829 \n"
          ]
        }
      ]
    },
    {
      "cell_type": "markdown",
      "source": [
        "## 5-5. Polynomial Regression과 오버피팅/언더피팅 이해"
      ],
      "metadata": {
        "id": "yKOdIavAOzdE"
      }
    },
    {
      "cell_type": "code",
      "source": [
        "from sklearn.preprocessing import PolynomialFeatures\n",
        "import numpy as np\n",
        "\n",
        "# 다항식으로 변환한 단항식 생성, [[0,1],[2,3]]의 2X2 행렬 생성\n",
        "X = np.arange(4).reshape(2,2)\n",
        "print('일차 단항식 계수 feature:\\n',X )\n",
        "\n",
        "# degree = 2 인 2차 다항식으로 변환하기 위해 PolynomialFeatures를 이용하여 변환\n",
        "poly = PolynomialFeatures(degree=2)\n",
        "poly.fit(X)\n",
        "poly_ftr = poly.transform(X)\n",
        "print('변환된 2차 다항식 계수 feature:\\n', poly_ftr)"
      ],
      "metadata": {
        "colab": {
          "base_uri": "https://localhost:8080/"
        },
        "id": "wkHe5sHKHgvj",
        "outputId": "a93f66fe-61b6-4876-e084-c6f98325bd4c"
      },
      "execution_count": 10,
      "outputs": [
        {
          "output_type": "stream",
          "name": "stdout",
          "text": [
            "일차 단항식 계수 feature:\n",
            " [[0 1]\n",
            " [2 3]]\n",
            "변환된 2차 다항식 계수 feature:\n",
            " [[1. 0. 1. 0. 0. 1.]\n",
            " [1. 2. 3. 4. 6. 9.]]\n"
          ]
        }
      ]
    },
    {
      "cell_type": "code",
      "source": [
        "def polynomial_func(X):\n",
        "    y = 1 + 2*X[:,0] + 3*X[:,0]**2 + 4*X[:,1]**3\n",
        "    print(X[:, 0])\n",
        "    print(X[:, 1])\n",
        "    return y\n",
        "\n",
        "X = np.arange(0,4).reshape(2,2)\n",
        "\n",
        "print('일차 단항식 계수 feature: \\n' ,X)\n",
        "y = polynomial_func(X)\n",
        "print('삼차 다항식 결정값: \\n', y)"
      ],
      "metadata": {
        "colab": {
          "base_uri": "https://localhost:8080/"
        },
        "id": "C3o8GFa2QO9W",
        "outputId": "9313ac9f-1b38-4f5d-b73f-50158d7cb7c8"
      },
      "execution_count": 11,
      "outputs": [
        {
          "output_type": "stream",
          "name": "stdout",
          "text": [
            "일차 단항식 계수 feature: \n",
            " [[0 1]\n",
            " [2 3]]\n",
            "[0 2]\n",
            "[1 3]\n",
            "삼차 다항식 결정값: \n",
            " [  5 125]\n"
          ]
        }
      ]
    },
    {
      "cell_type": "code",
      "source": [
        "# 3차 다항식 변환\n",
        "poly_ftr = PolynomialFeatures(degree=3).fit_transform(X)\n",
        "print('3차 다항식 계수 feature: \\n', poly_ftr)\n",
        "\n",
        "# Linear Regression에 3차 다항식 계수 feature와 3차 다항식 결정값으로 학습 후 회귀 계수 확인\n",
        "model = LinearRegression()\n",
        "model.fit(poly_ftr, y)\n",
        "print('Polynomial 회귀 계수\\n', np.round(model.coef_, 2))\n",
        "print('Polynomial 회귀 Shape:', model.coef_.shape)"
      ],
      "metadata": {
        "colab": {
          "base_uri": "https://localhost:8080/"
        },
        "id": "asxzfHsBQoZk",
        "outputId": "9a3b70bf-7da8-424b-ea0e-9b92b3599e37"
      },
      "execution_count": 12,
      "outputs": [
        {
          "output_type": "stream",
          "name": "stdout",
          "text": [
            "3차 다항식 계수 feature: \n",
            " [[ 1.  0.  1.  0.  0.  1.  0.  0.  0.  1.]\n",
            " [ 1.  2.  3.  4.  6.  9.  8. 12. 18. 27.]]\n",
            "Polynomial 회귀 계수\n",
            " [0.   0.18 0.18 0.36 0.54 0.72 0.72 1.08 1.62 2.34]\n",
            "Polynomial 회귀 Shape: (10,)\n"
          ]
        }
      ]
    },
    {
      "cell_type": "markdown",
      "source": [
        "### 사이킷런 파이프라인으로 3차 다항회귀 학습\n",
        "Feature 엔지니어링 변환과 모델 학습/예측을 순차적으로 결합."
      ],
      "metadata": {
        "id": "2wTxIz7zU-ay"
      }
    },
    {
      "cell_type": "code",
      "source": [
        "from sklearn.preprocessing import PolynomialFeatures\n",
        "from sklearn.linear_model import LinearRegression\n",
        "from sklearn.pipeline import Pipeline\n",
        "import numpy as np\n",
        "\n",
        "def polynomial_func(X):\n",
        "  y = 1 + 2*X[:,0] + 3*X[:,0]**2 + 4*X[:,1]**3\n",
        "  return y\n",
        "\n",
        "# Pipeline 객체로 Streaming하게 Polynomial Feature변환과 Linear Regression을 연결\n",
        "model = Pipeline([('poly', PolynomialFeatures(degree=3)),\n",
        "                  ('linear', LinearRegression())])\n",
        "X = np.arange(4).reshape(2,2)\n",
        "y = polynomial_func(X)\n",
        "\n",
        "model = model.fit(X, y)\n",
        "print('Polynomial 회귀 계수\\n', np.round(model.named_steps['linear'].coef_, 2))"
      ],
      "metadata": {
        "colab": {
          "base_uri": "https://localhost:8080/"
        },
        "id": "Y6VXDLOPRev2",
        "outputId": "bf963f1f-d79c-4c48-b652-416ffc71ca5b"
      },
      "execution_count": 13,
      "outputs": [
        {
          "output_type": "stream",
          "name": "stdout",
          "text": [
            "Polynomial 회귀 계수\n",
            " [0.   0.18 0.18 0.36 0.54 0.72 0.72 1.08 1.62 2.34]\n"
          ]
        }
      ]
    },
    {
      "cell_type": "markdown",
      "source": [
        "### 다항 회귀를 이용한 과소적합 및 과적합 이해\n",
        "cosine 곡선에 약간의 Noise 변동값을 더하여 실제값 곡선을 만듬  \n",
        "다항식의 차수가 높아질수록 과적합 문제가 발생"
      ],
      "metadata": {
        "id": "hw0kWZRBWozC"
      }
    },
    {
      "cell_type": "code",
      "source": [
        "import numpy as np\n",
        "import matplotlib.pyplot as plt\n",
        "from sklearn.pipeline import Pipeline\n",
        "from sklearn.preprocessing import PolynomialFeatures\n",
        "from sklearn.linear_model import LinearRegression\n",
        "from sklearn.model_selection import cross_val_score\n",
        "%matplotlib inline\n",
        "\n",
        "# 임의의 값으로 구성된 X값에 대해 코사인 변환 값을 반환\n",
        "def true_fun(X):\n",
        "  return np.cos(1.5*np.pi*X)\n",
        "\n",
        "# X는 0부터 1까지 30개의 임의의 값을 순서대로 샘플링한 데이터\n",
        "np.random.seed(0)\n",
        "n_samples = 30\n",
        "X = np.sort(np.random.rand(n_samples))\n",
        "\n",
        "# y 값은 코사인 기반의 true_fun()에서 약간의 노이즈 변동값을 더한 값\n",
        "y = true_fun(X) + np.random.randn(n_samples) * 0.1"
      ],
      "metadata": {
        "id": "9xgIdrGVWJcz"
      },
      "execution_count": 14,
      "outputs": []
    },
    {
      "cell_type": "code",
      "source": [
        "  plt.scatter(X, y)"
      ],
      "metadata": {
        "colab": {
          "base_uri": "https://localhost:8080/",
          "height": 284
        },
        "id": "Jeiv3jPBdQ4g",
        "outputId": "314bd584-d302-461d-a4d5-549e4e2c44d8"
      },
      "execution_count": 15,
      "outputs": [
        {
          "output_type": "execute_result",
          "data": {
            "text/plain": [
              "<matplotlib.collections.PathCollection at 0x7ff080eff310>"
            ]
          },
          "metadata": {},
          "execution_count": 15
        },
        {
          "output_type": "display_data",
          "data": {
            "text/plain": [
              "<Figure size 432x288 with 1 Axes>"
            ],
            "image/png": "[encoded data removed]"
          },
          "metadata": {
            "needs_background": "light"
          }
        }
      ]
    },
    {
      "cell_type": "code",
      "source": [
        "plt.figure(figsize=(14,5))\n",
        "degrees = [1, 4, 15]\n",
        "\n",
        "# 다항 회귀의 차수(degree)를 1, 4 ,15로 각각 변화시키면서 비교\n",
        "for i in range(len(degrees)):\n",
        "  ax = plt.subplot(1, len(degrees), i+1)\n",
        "  plt.setp(ax, xticks=(), yticks=())\n",
        "\n",
        "  # 개별 degree별로 Polynomial 변환\n",
        "  polynomial_features = PolynomialFeatures(degree=degrees[i], include_bias=False)\n",
        "  linear_regression = LinearRegression()\n",
        "  pipeline = Pipeline([('polynomial_features', polynomial_features),\n",
        "                       ('linear_regression', linear_regression)])\n",
        "  pipeline.fit(X.reshape(-1, 1), y)\n",
        "\n",
        "  # 교차 검증으로 다항 회귀를 평가\n",
        "  scores = cross_val_score(pipeline, X.reshape(-1, 1), y, \n",
        "                           scoring='neg_mean_squared_error', cv=10)\n",
        "  # Pipeline을 구성하는 세부 객체를 접근하는 named_steps['객체명']을 이용해 회귀계수 추출\n",
        "  coefficients= pipeline.named_steps['linear_regression'].coef_\n",
        "  print('\\nDegree {0} 회귀계수는 {1}입니다.'.format(degrees[i], np.round(coefficients, 2)))\n",
        "  print('Degree {0} MSE는 {1}입니다.'.format(degrees[i], -1*np.mean(scores)))\n",
        "\n",
        "  # 0부터 1까지 테스트 데이터 세트를 100개로 나눠 예측을 수행\n",
        "  # 테스트 데이터 세트에 회귀 예측을 수행하고 예측 곡선과 실제 곡선을 그려서 비교\n",
        "  X_test = np.linspace(0, 1, 100)\n",
        "  # 예측값 곡선\n",
        "  plt.plot(X_test, pipeline.predict(X_test[:, np.newaxis]), label='Model')\n",
        "  # 실제값 곡선\n",
        "  plt.plot(X_test, true_fun(X_test), '--', label='True function')\n",
        "  plt.scatter(X, y, edgecolor='b', s=20, label='Samples')\n",
        "\n",
        "  plt.xlabel('x')\n",
        "  plt.ylabel('y')\n",
        "  plt.xlim((0, 1))\n",
        "  plt.ylim((-2, 2))\n",
        "  plt.legend(loc='best')\n",
        "  plt.title('Degree {}\\nMSE = {:.2e}(+/- {:.2e})'.format(degrees[i], -scores.mean(), scores.std()))\n",
        "\n",
        "plt.show()"
      ],
      "metadata": {
        "colab": {
          "base_uri": "https://localhost:8080/",
          "height": 572
        },
        "id": "Ka1QeGUElENK",
        "outputId": "033b0360-7ba5-4f96-9552-188382dea489"
      },
      "execution_count": 16,
      "outputs": [
        {
          "output_type": "stream",
          "name": "stdout",
          "text": [
            "\n",
            "Degree 1 회귀계수는 [-1.61]입니다.\n",
            "Degree 1 MSE는 0.4077289625098685입니다.\n",
            "\n",
            "Degree 4 회귀계수는 [  0.47 -17.79  23.59  -7.26]입니다.\n",
            "Degree 4 MSE는 0.04320874987232072입니다.\n",
            "\n",
            "Degree 15 회귀계수는 [-2.98291000e+03  1.03898770e+05 -1.87415056e+06  2.03715126e+07\n",
            " -1.44872551e+08  7.09311979e+08 -2.47064676e+09  6.24558367e+09\n",
            " -1.15676035e+10  1.56894317e+10 -1.54005437e+10  1.06456871e+10\n",
            " -4.91375763e+09  1.35919168e+09 -1.70380199e+08]입니다.\n",
            "Degree 15 MSE는 180526263.3177066입니다.\n"
          ]
        },
        {
          "output_type": "display_data",
          "data": {
            "text/plain": [
              "<Figure size 1008x360 with 3 Axes>"
            ],
            "image/png": "[encoded data removed]"
          },
          "metadata": {}
        }
      ]
    },
    {
      "cell_type": "markdown",
      "source": [
        "* 편향-분산 트레이드오프: 편향이 높으면 분산은 낮아지고(과소적합) 분산이 높으면 편향이 낮아짐(과대적합)"
      ],
      "metadata": {
        "id": "GdimeThZrMsc"
      }
    },
    {
      "cell_type": "markdown",
      "source": [
        "## 5-6. Regularized Linear Models - Ridge, Lasso\n",
        "* 비용함수목표 = Min(RSS(W) + alpha*|W|2)\n",
        "* alpha를 0에서부터 값을 증가시키면 회귀 계수 값의 크기를 감소시킬 수 있음.\n",
        "  - alpha가 클수록 alpha*|w|2의 값이 커지고 비용함수는 이 값을 최소화하는 것이 목표기 때문에 W를 줄이려고 함"
      ],
      "metadata": {
        "id": "cVvpvXmlshPB"
      }
    },
    {
      "cell_type": "markdown",
      "source": [
        "### Ridge"
      ],
      "metadata": {
        "id": "enp86409vCFd"
      }
    },
    {
      "cell_type": "code",
      "source": [
        "from sklearn.linear_model import Ridge\n",
        "from sklearn.model_selection import cross_val_score\n",
        "\n",
        "boston = load_boston()\n",
        "bostonDF = pd.DataFrame(boston.data , columns = boston.feature_names)\n",
        "\n",
        "# boston dataset의 target array는 주택 가격. \n",
        "bostonDF['PRICE'] = boston.target\n",
        "\n",
        "y_target = bostonDF['PRICE']\n",
        "X_data = bostonDF.drop(['PRICE'],axis=1,inplace=False)\n",
        "\n",
        "ridge = Ridge(alpha=10)\n",
        "neg_mse_scores = cross_val_score(ridge, X_data, y_target, \n",
        "                                 scoring='neg_mean_squared_error', cv=5)\n",
        "rmse_scores  = np.sqrt(-1 * neg_mse_scores)\n",
        "avg_rmse = np.mean(rmse_scores)\n",
        "print(' 5 folds 의 개별 Negative MSE scores: ', np.round(neg_mse_scores, 3))\n",
        "print(' 5 folds 의 개별 RMSE scores : ', np.round(rmse_scores,3))\n",
        "print(' 5 folds 의 평균 RMSE : {0:.3f} '.format(avg_rmse))"
      ],
      "metadata": {
        "colab": {
          "base_uri": "https://localhost:8080/"
        },
        "id": "YJvgKnqesYb9",
        "outputId": "72d229c6-3e91-43c5-b58f-ada936af0b97"
      },
      "execution_count": 17,
      "outputs": [
        {
          "output_type": "stream",
          "name": "stdout",
          "text": [
            " 5 folds 의 개별 Negative MSE scores:  [-11.422 -24.294 -28.144 -74.599 -28.517]\n",
            " 5 folds 의 개별 RMSE scores :  [3.38  4.929 5.305 8.637 5.34 ]\n",
            " 5 folds 의 평균 RMSE : 5.518 \n"
          ]
        }
      ]
    },
    {
      "cell_type": "markdown",
      "source": [
        "alpha 값을 0, 0.1, 1, 10, 100으로 변경하면서 RMSE 측정"
      ],
      "metadata": {
        "id": "VtaEz0xLvGH5"
      }
    },
    {
      "cell_type": "code",
      "source": [
        "alphas = [0, 0.1, 1, 10, 100]\n",
        "\n",
        "for alpha in alphas:\n",
        "  ridge = Ridge(alpha=alpha)\n",
        "\n",
        "  # cross_val_score를 이용해 5 폴드의 평균 RMSE를 계산\n",
        "  neg_mse_scores = cross_val_score(ridge, X_data, y_target, scoring=\"neg_mean_squared_error\", cv = 5)\n",
        "  avg_rmse = np.mean(np.sqrt(-1 * neg_mse_scores))\n",
        "  print('alpha {0} 일 때 5 folds 의 평균 RMSE : {1:.3f} '.format(alpha, avg_rmse))      "
      ],
      "metadata": {
        "colab": {
          "base_uri": "https://localhost:8080/"
        },
        "id": "OScVtSVTvD9T",
        "outputId": "6d41241c-7008-4948-804c-5360622e3072"
      },
      "execution_count": 18,
      "outputs": [
        {
          "output_type": "stream",
          "name": "stdout",
          "text": [
            "alpha 0 일 때 5 folds 의 평균 RMSE : 5.829 \n",
            "alpha 0.1 일 때 5 folds 의 평균 RMSE : 5.788 \n",
            "alpha 1 일 때 5 folds 의 평균 RMSE : 5.653 \n",
            "alpha 10 일 때 5 folds 의 평균 RMSE : 5.518 \n",
            "alpha 100 일 때 5 folds 의 평균 RMSE : 5.330 \n"
          ]
        }
      ]
    },
    {
      "cell_type": "markdown",
      "source": [
        "각 alpha에 따른 회귀 계수 값을 시각화."
      ],
      "metadata": {
        "id": "sjlS2jLrvfES"
      }
    },
    {
      "cell_type": "code",
      "source": [
        "fig, axs = plt.subplots(figsize=(18,6), nrows=1, ncols=5)\n",
        "\n",
        "coeff_df = pd.DataFrame()\n",
        "# alphas에 따른 회귀 계수 값 시각화.\n",
        "for pos, alpha in enumerate(alphas):\n",
        "  ridge = Ridge(alpha=alpha)\n",
        "  ridge.fit(X_data, y_target)\n",
        "  # alpha에 따른 피처별 회귀 계수\n",
        "  coeff = pd.Series(data=ridge.coef_, index=X_data.columns)\n",
        "  colname = 'alpha:'+str(alpha)\n",
        "  coeff_df[colname] = coeff\n",
        "\n",
        "  # 막대 그래프로 각 alpha 값에서의 회귀 계수를 시각화\n",
        "  coeff = coeff.sort_values(ascending=False)\n",
        "  axs[pos].set_title(colname)\n",
        "  axs[pos].set_xlim(-3,6)\n",
        "  sns.barplot(x=coeff.values, y=coeff.index, ax=axs[pos])\n",
        "\n",
        "plt.show()"
      ],
      "metadata": {
        "colab": {
          "base_uri": "https://localhost:8080/",
          "height": 390
        },
        "id": "N9aVnzn1vcbt",
        "outputId": "2e423ac7-24e4-440d-b7d8-6bd3614e7759"
      },
      "execution_count": 19,
      "outputs": [
        {
          "output_type": "display_data",
          "data": {
            "text/plain": [
              "<Figure size 1296x432 with 5 Axes>"
            ],
            "image/png": "[encoded data removed]"
          },
          "metadata": {
            "needs_background": "light"
          }
        }
      ]
    },
    {
      "cell_type": "code",
      "source": [
        "ridge_alphas = [0, 0.1, 1, 10, 100]\n",
        "sort_column = 'alpha:'+str(ridge_alphas[0])\n",
        "coeff_df.sort_values(by=sort_column, ascending=False)"
      ],
      "metadata": {
        "colab": {
          "base_uri": "https://localhost:8080/",
          "height": 457
        },
        "id": "DY2cQrP_wZ5Y",
        "outputId": "b7aafbff-c303-41de-9387-e6d2d1c127bd"
      },
      "execution_count": 20,
      "outputs": [
        {
          "output_type": "execute_result",
          "data": {
            "text/plain": [
              "           alpha:0  alpha:0.1    alpha:1  alpha:10  alpha:100\n",
              "RM        3.809865   3.818233   3.854000  3.702272   2.334536\n",
              "CHAS      2.686734   2.670019   2.552393  1.952021   0.638335\n",
              "RAD       0.306049   0.303515   0.290142  0.279596   0.315358\n",
              "ZN        0.046420   0.046572   0.047443  0.049579   0.054496\n",
              "INDUS     0.020559   0.015999  -0.008805 -0.042962  -0.052826\n",
              "B         0.009312   0.009368   0.009673  0.010037   0.009393\n",
              "AGE       0.000692  -0.000269  -0.005415 -0.010707   0.001212\n",
              "TAX      -0.012335  -0.012421  -0.012912 -0.013993  -0.015856\n",
              "CRIM     -0.108011  -0.107474  -0.104595 -0.101435  -0.102202\n",
              "LSTAT    -0.524758  -0.525966  -0.533343 -0.559366  -0.660764\n",
              "PTRATIO  -0.952747  -0.940759  -0.876074 -0.797945  -0.829218\n",
              "DIS      -1.475567  -1.459626  -1.372654 -1.248808  -1.153390\n",
              "NOX     -17.766611 -16.684645 -10.777015 -2.371619  -0.262847"
            ],
            "text/html": [
              "\n",
              "  <div id=\"df-af0d7ac4-3a7d-4e46-af4a-74c7707c29bf\">\n",
              "    <div class=\"colab-df-container\">\n",
              "      <div>\n",
              "<style scoped>\n",
              "    .dataframe tbody tr th:only-of-type {\n",
              "        vertical-align: middle;\n",
              "    }\n",
              "\n",
              "    .dataframe tbody tr th {\n",
              "        vertical-align: top;\n",
              "    }\n",
              "\n",
              "    .dataframe thead th {\n",
              "        text-align: right;\n",
              "    }\n",
              "</style>\n",
              "<table border=\"1\" class=\"dataframe\">\n",
              "  <thead>\n",
              "    <tr style=\"text-align: right;\">\n",
              "      <th></th>\n",
              "      <th>alpha:0</th>\n",
              "      <th>alpha:0.1</th>\n",
              "      <th>alpha:1</th>\n",
              "      <th>alpha:10</th>\n",
              "      <th>alpha:100</th>\n",
              "    </tr>\n",
              "  </thead>\n",
              "  <tbody>\n",
              "    <tr>\n",
              "      <th>RM</th>\n",
              "      <td>3.809865</td>\n",
              "      <td>3.818233</td>\n",
              "      <td>3.854000</td>\n",
              "      <td>3.702272</td>\n",
              "      <td>2.334536</td>\n",
              "    </tr>\n",
              "    <tr>\n",
              "      <th>CHAS</th>\n",
              "      <td>2.686734</td>\n",
              "      <td>2.670019</td>\n",
              "      <td>2.552393</td>\n",
              "      <td>1.952021</td>\n",
              "      <td>0.638335</td>\n",
              "    </tr>\n",
              "    <tr>\n",
              "      <th>RAD</th>\n",
              "      <td>0.306049</td>\n",
              "      <td>0.303515</td>\n",
              "      <td>0.290142</td>\n",
              "      <td>0.279596</td>\n",
              "      <td>0.315358</td>\n",
              "    </tr>\n",
              "    <tr>\n",
              "      <th>ZN</th>\n",
              "      <td>0.046420</td>\n",
              "      <td>0.046572</td>\n",
              "      <td>0.047443</td>\n",
              "      <td>0.049579</td>\n",
              "      <td>0.054496</td>\n",
              "    </tr>\n",
              "    <tr>\n",
              "      <th>INDUS</th>\n",
              "      <td>0.020559</td>\n",
              "      <td>0.015999</td>\n",
              "      <td>-0.008805</td>\n",
              "      <td>-0.042962</td>\n",
              "      <td>-0.052826</td>\n",
              "    </tr>\n",
              "    <tr>\n",
              "      <th>B</th>\n",
              "      <td>0.009312</td>\n",
              "      <td>0.009368</td>\n",
              "      <td>0.009673</td>\n",
              "      <td>0.010037</td>\n",
              "      <td>0.009393</td>\n",
              "    </tr>\n",
              "    <tr>\n",
              "      <th>AGE</th>\n",
              "      <td>0.000692</td>\n",
              "      <td>-0.000269</td>\n",
              "      <td>-0.005415</td>\n",
              "      <td>-0.010707</td>\n",
              "      <td>0.001212</td>\n",
              "    </tr>\n",
              "    <tr>\n",
              "      <th>TAX</th>\n",
              "      <td>-0.012335</td>\n",
              "      <td>-0.012421</td>\n",
              "      <td>-0.012912</td>\n",
              "      <td>-0.013993</td>\n",
              "      <td>-0.015856</td>\n",
              "    </tr>\n",
              "    <tr>\n",
              "      <th>CRIM</th>\n",
              "      <td>-0.108011</td>\n",
              "      <td>-0.107474</td>\n",
              "      <td>-0.104595</td>\n",
              "      <td>-0.101435</td>\n",
              "      <td>-0.102202</td>\n",
              "    </tr>\n",
              "    <tr>\n",
              "      <th>LSTAT</th>\n",
              "      <td>-0.524758</td>\n",
              "      <td>-0.525966</td>\n",
              "      <td>-0.533343</td>\n",
              "      <td>-0.559366</td>\n",
              "      <td>-0.660764</td>\n",
              "    </tr>\n",
              "    <tr>\n",
              "      <th>PTRATIO</th>\n",
              "      <td>-0.952747</td>\n",
              "      <td>-0.940759</td>\n",
              "      <td>-0.876074</td>\n",
              "      <td>-0.797945</td>\n",
              "      <td>-0.829218</td>\n",
              "    </tr>\n",
              "    <tr>\n",
              "      <th>DIS</th>\n",
              "      <td>-1.475567</td>\n",
              "      <td>-1.459626</td>\n",
              "      <td>-1.372654</td>\n",
              "      <td>-1.248808</td>\n",
              "      <td>-1.153390</td>\n",
              "    </tr>\n",
              "    <tr>\n",
              "      <th>NOX</th>\n",
              "      <td>-17.766611</td>\n",
              "      <td>-16.684645</td>\n",
              "      <td>-10.777015</td>\n",
              "      <td>-2.371619</td>\n",
              "      <td>-0.262847</td>\n",
              "    </tr>\n",
              "  </tbody>\n",
              "</table>\n",
              "</div>\n",
              "      <button class=\"colab-df-convert\" onclick=\"convertToInteractive('df-af0d7ac4-3a7d-4e46-af4a-74c7707c29bf')\"\n",
              "              title=\"Convert this dataframe to an interactive table.\"\n",
              "              style=\"display:none;\">\n",
              "        \n",
              "  <svg xmlns=\"http://www.w3.org/2000/svg\" height=\"24px\"viewBox=\"0 0 24 24\"\n",
              "       width=\"24px\">\n",
              "    <path d=\"M0 0h24v24H0V0z\" fill=\"none\"/>\n",
              "    <path d=\"M18.56 5.44l.94 2.06.94-2.06 2.06-.94-2.06-.94-.94-2.06-.94 2.06-2.06.94zm-11 1L8.5 8.5l.94-2.06 2.06-.94-2.06-.94L8.5 2.5l-.94 2.06-2.06.94zm10 10l.94 2.06.94-2.06 2.06-.94-2.06-.94-.94-2.06-.94 2.06-2.06.94z\"/><path d=\"M17.41 7.96l-1.37-1.37c-.4-.4-.92-.59-1.43-.59-.52 0-1.04.2-1.43.59L10.3 9.45l-7.72 7.72c-.78.78-.78 2.05 0 2.83L4 21.41c.39.39.9.59 1.41.59.51 0 1.02-.2 1.41-.59l7.78-7.78 2.81-2.81c.8-.78.8-2.07 0-2.86zM5.41 20L4 18.59l7.72-7.72 1.47 1.35L5.41 20z\"/>\n",
              "  </svg>\n",
              "      </button>\n",
              "      \n",
              "  <style>\n",
              "    .colab-df-container {\n",
              "      display:flex;\n",
              "      flex-wrap:wrap;\n",
              "      gap: 12px;\n",
              "    }\n",
              "\n",
              "    .colab-df-convert {\n",
              "      background-color: #E8F0FE;\n",
              "      border: none;\n",
              "      border-radius: 50%;\n",
              "      cursor: pointer;\n",
              "      display: none;\n",
              "      fill: #1967D2;\n",
              "      height: 32px;\n",
              "      padding: 0 0 0 0;\n",
              "      width: 32px;\n",
              "    }\n",
              "\n",
              "    .colab-df-convert:hover {\n",
              "      background-color: #E2EBFA;\n",
              "      box-shadow: 0px 1px 2px rgba(60, 64, 67, 0.3), 0px 1px 3px 1px rgba(60, 64, 67, 0.15);\n",
              "      fill: #174EA6;\n",
              "    }\n",
              "\n",
              "    [theme=dark] .colab-df-convert {\n",
              "      background-color: #3B4455;\n",
              "      fill: #D2E3FC;\n",
              "    }\n",
              "\n",
              "    [theme=dark] .colab-df-convert:hover {\n",
              "      background-color: #434B5C;\n",
              "      box-shadow: 0px 1px 3px 1px rgba(0, 0, 0, 0.15);\n",
              "      filter: drop-shadow(0px 1px 2px rgba(0, 0, 0, 0.3));\n",
              "      fill: #FFFFFF;\n",
              "    }\n",
              "  </style>\n",
              "\n",
              "      <script>\n",
              "        const buttonEl =\n",
              "          document.querySelector('#df-af0d7ac4-3a7d-4e46-af4a-74c7707c29bf button.colab-df-convert');\n",
              "        buttonEl.style.display =\n",
              "          google.colab.kernel.accessAllowed ? 'block' : 'none';\n",
              "\n",
              "        async function convertToInteractive(key) {\n",
              "          const element = document.querySelector('#df-af0d7ac4-3a7d-4e46-af4a-74c7707c29bf');\n",
              "          const dataTable =\n",
              "            await google.colab.kernel.invokeFunction('convertToInteractive',\n",
              "                                                     [key], {});\n",
              "          if (!dataTable) return;\n",
              "\n",
              "          const docLinkHtml = 'Like what you see? Visit the ' +\n",
              "            '<a target=\"_blank\" href=https://colab.research.google.com/notebooks/data_table.ipynb>data table notebook</a>'\n",
              "            + ' to learn more about interactive tables.';\n",
              "          element.innerHTML = '';\n",
              "          dataTable['output_type'] = 'display_data';\n",
              "          await google.colab.output.renderOutput(dataTable, element);\n",
              "          const docLink = document.createElement('div');\n",
              "          docLink.innerHTML = docLinkHtml;\n",
              "          element.appendChild(docLink);\n",
              "        }\n",
              "      </script>\n",
              "    </div>\n",
              "  </div>\n",
              "  "
            ]
          },
          "metadata": {},
          "execution_count": 20
        }
      ]
    },
    {
      "cell_type": "markdown",
      "source": [
        "### Rasso"
      ],
      "metadata": {
        "id": "207Rf4kwywxO"
      }
    },
    {
      "cell_type": "code",
      "source": [
        "from sklearn.linear_model import Lasso, ElasticNet\n",
        "\n",
        "def get_linear_reg_eval(model_name, params=None, X_data_n=None, y_target_n=None,\n",
        "                        verbose=True, return_coeff=True):\n",
        "  coeff_df = pd.DataFrame()\n",
        "  if verbose: print('#######', model_name, '#######')\n",
        "  for param in params:\n",
        "    if model_name=='Ridge': model = Ridge(alpha=param)\n",
        "    elif model_name=='Lasso': model = Lasso(alpha=param)\n",
        "    elif model_name=='ElasticNet': model = ElasticNet(alpha=param, l1_ratio=0.7)\n",
        "    neg_mse_scores = cross_val_score(model, X_data_n, y_target_n,\n",
        "                                     scoring='neg_mean_squared_error', cv=5)\n",
        "    avg_rmse = np.mean(np.sqrt(-1*neg_mse_scores))\n",
        "    print('alpha {0}일 때 5 폴드 세트의 평균 RMSE: {1:.3f}'.format(param, avg_rmse))\n",
        "\n",
        "    # 회귀계수 추출하기 위해 모델 다시 학습\n",
        "    # cross_val_score는 평가결과만 반환\n",
        "    model.fit(X_data_n, y_target_n)\n",
        "    if return_coeff:\n",
        "      coeff = pd.Series(data=model.coef_, index=X_data_n.columns)\n",
        "      colname = 'alpha:'+str(param)\n",
        "      coeff_df[colname] = coeff\n",
        "\n",
        "  return coeff_df"
      ],
      "metadata": {
        "id": "GFgRYpz6wpfT"
      },
      "execution_count": 20,
      "outputs": []
    },
    {
      "cell_type": "code",
      "source": [
        "lasso_alphas = [0.07, 0.1, 0.5, 1, 3]\n",
        "coeff_lasso_df = get_linear_reg_eval('Lasso', params=lasso_alphas, \n",
        "                                     X_data_n=X_data, y_target_n=y_target)"
      ],
      "metadata": {
        "colab": {
          "base_uri": "https://localhost:8080/"
        },
        "id": "fVIWMteZ0Vaa",
        "outputId": "78858cfc-ecf5-441f-81f3-67a9ea677062"
      },
      "execution_count": 22,
      "outputs": [
        {
          "output_type": "stream",
          "name": "stdout",
          "text": [
            "####### Lasso #######\n",
            "alpha 0.07일 때 5 폴드 세트의 평균 RMSE: 5.612\n",
            "alpha 0.1일 때 5 폴드 세트의 평균 RMSE: 5.615\n",
            "alpha 0.5일 때 5 폴드 세트의 평균 RMSE: 5.669\n",
            "alpha 1일 때 5 폴드 세트의 평균 RMSE: 5.776\n",
            "alpha 3일 때 5 폴드 세트의 평균 RMSE: 6.189\n"
          ]
        }
      ]
    },
    {
      "cell_type": "code",
      "source": [
        "sort_column = 'alpha:'+str(lasso_alphas[0])\n",
        "coeff_lasso_df.sort_values(by=sort_column, ascending=False)"
      ],
      "metadata": {
        "colab": {
          "base_uri": "https://localhost:8080/",
          "height": 457
        },
        "id": "efvw3B2z0jnJ",
        "outputId": "57c588ff-3f7a-491a-89d7-d6500bf265b9"
      },
      "execution_count": 23,
      "outputs": [
        {
          "output_type": "execute_result",
          "data": {
            "text/plain": [
              "         alpha:0.07  alpha:0.1  alpha:0.5   alpha:1   alpha:3\n",
              "RM         3.789725   3.703202   2.498212  0.949811  0.000000\n",
              "CHAS       1.434343   0.955190   0.000000  0.000000  0.000000\n",
              "RAD        0.270936   0.274707   0.277451  0.264206  0.061864\n",
              "ZN         0.049059   0.049211   0.049544  0.049165  0.037231\n",
              "B          0.010248   0.010249   0.009469  0.008247  0.006510\n",
              "NOX       -0.000000  -0.000000  -0.000000 -0.000000  0.000000\n",
              "AGE       -0.011706  -0.010037   0.003604  0.020910  0.042495\n",
              "TAX       -0.014290  -0.014570  -0.015442 -0.015212 -0.008602\n",
              "INDUS     -0.042120  -0.036619  -0.005253 -0.000000 -0.000000\n",
              "CRIM      -0.098193  -0.097894  -0.083289 -0.063437 -0.000000\n",
              "LSTAT     -0.560431  -0.568769  -0.656290 -0.761115 -0.807679\n",
              "PTRATIO   -0.765107  -0.770654  -0.758752 -0.722966 -0.265072\n",
              "DIS       -1.176583  -1.160538  -0.936605 -0.668790 -0.000000"
            ],
            "text/html": [
              "\n",
              "  <div id=\"df-4484b651-ab40-4d6e-aafa-78894c36ac0b\">\n",
              "    <div class=\"colab-df-container\">\n",
              "      <div>\n",
              "<style scoped>\n",
              "    .dataframe tbody tr th:only-of-type {\n",
              "        vertical-align: middle;\n",
              "    }\n",
              "\n",
              "    .dataframe tbody tr th {\n",
              "        vertical-align: top;\n",
              "    }\n",
              "\n",
              "    .dataframe thead th {\n",
              "        text-align: right;\n",
              "    }\n",
              "</style>\n",
              "<table border=\"1\" class=\"dataframe\">\n",
              "  <thead>\n",
              "    <tr style=\"text-align: right;\">\n",
              "      <th></th>\n",
              "      <th>alpha:0.07</th>\n",
              "      <th>alpha:0.1</th>\n",
              "      <th>alpha:0.5</th>\n",
              "      <th>alpha:1</th>\n",
              "      <th>alpha:3</th>\n",
              "    </tr>\n",
              "  </thead>\n",
              "  <tbody>\n",
              "    <tr>\n",
              "      <th>RM</th>\n",
              "      <td>3.789725</td>\n",
              "      <td>3.703202</td>\n",
              "      <td>2.498212</td>\n",
              "      <td>0.949811</td>\n",
              "      <td>0.000000</td>\n",
              "    </tr>\n",
              "    <tr>\n",
              "      <th>CHAS</th>\n",
              "      <td>1.434343</td>\n",
              "      <td>0.955190</td>\n",
              "      <td>0.000000</td>\n",
              "      <td>0.000000</td>\n",
              "      <td>0.000000</td>\n",
              "    </tr>\n",
              "    <tr>\n",
              "      <th>RAD</th>\n",
              "      <td>0.270936</td>\n",
              "      <td>0.274707</td>\n",
              "      <td>0.277451</td>\n",
              "      <td>0.264206</td>\n",
              "      <td>0.061864</td>\n",
              "    </tr>\n",
              "    <tr>\n",
              "      <th>ZN</th>\n",
              "      <td>0.049059</td>\n",
              "      <td>0.049211</td>\n",
              "      <td>0.049544</td>\n",
              "      <td>0.049165</td>\n",
              "      <td>0.037231</td>\n",
              "    </tr>\n",
              "    <tr>\n",
              "      <th>B</th>\n",
              "      <td>0.010248</td>\n",
              "      <td>0.010249</td>\n",
              "      <td>0.009469</td>\n",
              "      <td>0.008247</td>\n",
              "      <td>0.006510</td>\n",
              "    </tr>\n",
              "    <tr>\n",
              "      <th>NOX</th>\n",
              "      <td>-0.000000</td>\n",
              "      <td>-0.000000</td>\n",
              "      <td>-0.000000</td>\n",
              "      <td>-0.000000</td>\n",
              "      <td>0.000000</td>\n",
              "    </tr>\n",
              "    <tr>\n",
              "      <th>AGE</th>\n",
              "      <td>-0.011706</td>\n",
              "      <td>-0.010037</td>\n",
              "      <td>0.003604</td>\n",
              "      <td>0.020910</td>\n",
              "      <td>0.042495</td>\n",
              "    </tr>\n",
              "    <tr>\n",
              "      <th>TAX</th>\n",
              "      <td>-0.014290</td>\n",
              "      <td>-0.014570</td>\n",
              "      <td>-0.015442</td>\n",
              "      <td>-0.015212</td>\n",
              "      <td>-0.008602</td>\n",
              "    </tr>\n",
              "    <tr>\n",
              "      <th>INDUS</th>\n",
              "      <td>-0.042120</td>\n",
              "      <td>-0.036619</td>\n",
              "      <td>-0.005253</td>\n",
              "      <td>-0.000000</td>\n",
              "      <td>-0.000000</td>\n",
              "    </tr>\n",
              "    <tr>\n",
              "      <th>CRIM</th>\n",
              "      <td>-0.098193</td>\n",
              "      <td>-0.097894</td>\n",
              "      <td>-0.083289</td>\n",
              "      <td>-0.063437</td>\n",
              "      <td>-0.000000</td>\n",
              "    </tr>\n",
              "    <tr>\n",
              "      <th>LSTAT</th>\n",
              "      <td>-0.560431</td>\n",
              "      <td>-0.568769</td>\n",
              "      <td>-0.656290</td>\n",
              "      <td>-0.761115</td>\n",
              "      <td>-0.807679</td>\n",
              "    </tr>\n",
              "    <tr>\n",
              "      <th>PTRATIO</th>\n",
              "      <td>-0.765107</td>\n",
              "      <td>-0.770654</td>\n",
              "      <td>-0.758752</td>\n",
              "      <td>-0.722966</td>\n",
              "      <td>-0.265072</td>\n",
              "    </tr>\n",
              "    <tr>\n",
              "      <th>DIS</th>\n",
              "      <td>-1.176583</td>\n",
              "      <td>-1.160538</td>\n",
              "      <td>-0.936605</td>\n",
              "      <td>-0.668790</td>\n",
              "      <td>-0.000000</td>\n",
              "    </tr>\n",
              "  </tbody>\n",
              "</table>\n",
              "</div>\n",
              "      <button class=\"colab-df-convert\" onclick=\"convertToInteractive('df-4484b651-ab40-4d6e-aafa-78894c36ac0b')\"\n",
              "              title=\"Convert this dataframe to an interactive table.\"\n",
              "              style=\"display:none;\">\n",
              "        \n",
              "  <svg xmlns=\"http://www.w3.org/2000/svg\" height=\"24px\"viewBox=\"0 0 24 24\"\n",
              "       width=\"24px\">\n",
              "    <path d=\"M0 0h24v24H0V0z\" fill=\"none\"/>\n",
              "    <path d=\"M18.56 5.44l.94 2.06.94-2.06 2.06-.94-2.06-.94-.94-2.06-.94 2.06-2.06.94zm-11 1L8.5 8.5l.94-2.06 2.06-.94-2.06-.94L8.5 2.5l-.94 2.06-2.06.94zm10 10l.94 2.06.94-2.06 2.06-.94-2.06-.94-.94-2.06-.94 2.06-2.06.94z\"/><path d=\"M17.41 7.96l-1.37-1.37c-.4-.4-.92-.59-1.43-.59-.52 0-1.04.2-1.43.59L10.3 9.45l-7.72 7.72c-.78.78-.78 2.05 0 2.83L4 21.41c.39.39.9.59 1.41.59.51 0 1.02-.2 1.41-.59l7.78-7.78 2.81-2.81c.8-.78.8-2.07 0-2.86zM5.41 20L4 18.59l7.72-7.72 1.47 1.35L5.41 20z\"/>\n",
              "  </svg>\n",
              "      </button>\n",
              "      \n",
              "  <style>\n",
              "    .colab-df-container {\n",
              "      display:flex;\n",
              "      flex-wrap:wrap;\n",
              "      gap: 12px;\n",
              "    }\n",
              "\n",
              "    .colab-df-convert {\n",
              "      background-color: #E8F0FE;\n",
              "      border: none;\n",
              "      border-radius: 50%;\n",
              "      cursor: pointer;\n",
              "      display: none;\n",
              "      fill: #1967D2;\n",
              "      height: 32px;\n",
              "      padding: 0 0 0 0;\n",
              "      width: 32px;\n",
              "    }\n",
              "\n",
              "    .colab-df-convert:hover {\n",
              "      background-color: #E2EBFA;\n",
              "      box-shadow: 0px 1px 2px rgba(60, 64, 67, 0.3), 0px 1px 3px 1px rgba(60, 64, 67, 0.15);\n",
              "      fill: #174EA6;\n",
              "    }\n",
              "\n",
              "    [theme=dark] .colab-df-convert {\n",
              "      background-color: #3B4455;\n",
              "      fill: #D2E3FC;\n",
              "    }\n",
              "\n",
              "    [theme=dark] .colab-df-convert:hover {\n",
              "      background-color: #434B5C;\n",
              "      box-shadow: 0px 1px 3px 1px rgba(0, 0, 0, 0.15);\n",
              "      filter: drop-shadow(0px 1px 2px rgba(0, 0, 0, 0.3));\n",
              "      fill: #FFFFFF;\n",
              "    }\n",
              "  </style>\n",
              "\n",
              "      <script>\n",
              "        const buttonEl =\n",
              "          document.querySelector('#df-4484b651-ab40-4d6e-aafa-78894c36ac0b button.colab-df-convert');\n",
              "        buttonEl.style.display =\n",
              "          google.colab.kernel.accessAllowed ? 'block' : 'none';\n",
              "\n",
              "        async function convertToInteractive(key) {\n",
              "          const element = document.querySelector('#df-4484b651-ab40-4d6e-aafa-78894c36ac0b');\n",
              "          const dataTable =\n",
              "            await google.colab.kernel.invokeFunction('convertToInteractive',\n",
              "                                                     [key], {});\n",
              "          if (!dataTable) return;\n",
              "\n",
              "          const docLinkHtml = 'Like what you see? Visit the ' +\n",
              "            '<a target=\"_blank\" href=https://colab.research.google.com/notebooks/data_table.ipynb>data table notebook</a>'\n",
              "            + ' to learn more about interactive tables.';\n",
              "          element.innerHTML = '';\n",
              "          dataTable['output_type'] = 'display_data';\n",
              "          await google.colab.output.renderOutput(dataTable, element);\n",
              "          const docLink = document.createElement('div');\n",
              "          docLink.innerHTML = docLinkHtml;\n",
              "          element.appendChild(docLink);\n",
              "        }\n",
              "      </script>\n",
              "    </div>\n",
              "  </div>\n",
              "  "
            ]
          },
          "metadata": {},
          "execution_count": 23
        }
      ]
    },
    {
      "cell_type": "markdown",
      "source": [
        "### 엘라스틱넷 회귀"
      ],
      "metadata": {
        "id": "7Z9Q6U4oU9J5"
      }
    },
    {
      "cell_type": "code",
      "source": [
        "elastic_alphas = [0.07, 0.1, 0.5, 1, 3]\n",
        "coeff_elastic_df = get_linear_reg_eval('ElasticNet', params=elastic_alphas,\n",
        "                                       X_data_n=X_data, y_target_n=y_target)"
      ],
      "metadata": {
        "colab": {
          "base_uri": "https://localhost:8080/"
        },
        "id": "wTxW2xMI0yyh",
        "outputId": "7ca82ee7-f6aa-4377-8e37-026f20838ece"
      },
      "execution_count": 25,
      "outputs": [
        {
          "output_type": "stream",
          "name": "stdout",
          "text": [
            "####### ElasticNet #######\n",
            "alpha 0.07일 때 5 폴드 세트의 평균 RMSE: 5.542\n",
            "alpha 0.1일 때 5 폴드 세트의 평균 RMSE: 5.526\n",
            "alpha 0.5일 때 5 폴드 세트의 평균 RMSE: 5.467\n",
            "alpha 1일 때 5 폴드 세트의 평균 RMSE: 5.597\n",
            "alpha 3일 때 5 폴드 세트의 평균 RMSE: 6.068\n"
          ]
        }
      ]
    },
    {
      "cell_type": "code",
      "source": [
        "sort_column = 'alpha:'+str(elastic_alphas[0])\n",
        "coeff_elastic_df.sort_values(by=sort_column, ascending=False)"
      ],
      "metadata": {
        "colab": {
          "base_uri": "https://localhost:8080/",
          "height": 457
        },
        "id": "JXCupzoYVNJ3",
        "outputId": "b7041102-7862-4929-8a9d-7f4f4cf70573"
      },
      "execution_count": 26,
      "outputs": [
        {
          "output_type": "execute_result",
          "data": {
            "text/plain": [
              "         alpha:0.07  alpha:0.1  alpha:0.5   alpha:1   alpha:3\n",
              "RM         3.574162   3.414154   1.918419  0.938789  0.000000\n",
              "CHAS       1.330724   0.979706   0.000000  0.000000  0.000000\n",
              "RAD        0.278880   0.283443   0.300761  0.289299  0.146846\n",
              "ZN         0.050107   0.050617   0.052878  0.052136  0.038268\n",
              "B          0.010122   0.010067   0.009114  0.008320  0.007020\n",
              "AGE       -0.010116  -0.008276   0.007760  0.020348  0.043446\n",
              "TAX       -0.014522  -0.014814  -0.016046 -0.016218 -0.011417\n",
              "INDUS     -0.044855  -0.042719  -0.023252 -0.000000 -0.000000\n",
              "CRIM      -0.099468  -0.099213  -0.089070 -0.073577 -0.019058\n",
              "NOX       -0.175072  -0.000000  -0.000000 -0.000000 -0.000000\n",
              "LSTAT     -0.574822  -0.587702  -0.693861 -0.760457 -0.800368\n",
              "PTRATIO   -0.779498  -0.784725  -0.790969 -0.738672 -0.423065\n",
              "DIS       -1.189438  -1.173647  -0.975902 -0.725174 -0.031208"
            ],
            "text/html": [
              "\n",
              "  <div id=\"df-ef672328-27d4-401b-91af-bc86551c1820\">\n",
              "    <div class=\"colab-df-container\">\n",
              "      <div>\n",
              "<style scoped>\n",
              "    .dataframe tbody tr th:only-of-type {\n",
              "        vertical-align: middle;\n",
              "    }\n",
              "\n",
              "    .dataframe tbody tr th {\n",
              "        vertical-align: top;\n",
              "    }\n",
              "\n",
              "    .dataframe thead th {\n",
              "        text-align: right;\n",
              "    }\n",
              "</style>\n",
              "<table border=\"1\" class=\"dataframe\">\n",
              "  <thead>\n",
              "    <tr style=\"text-align: right;\">\n",
              "      <th></th>\n",
              "      <th>alpha:0.07</th>\n",
              "      <th>alpha:0.1</th>\n",
              "      <th>alpha:0.5</th>\n",
              "      <th>alpha:1</th>\n",
              "      <th>alpha:3</th>\n",
              "    </tr>\n",
              "  </thead>\n",
              "  <tbody>\n",
              "    <tr>\n",
              "      <th>RM</th>\n",
              "      <td>3.574162</td>\n",
              "      <td>3.414154</td>\n",
              "      <td>1.918419</td>\n",
              "      <td>0.938789</td>\n",
              "      <td>0.000000</td>\n",
              "    </tr>\n",
              "    <tr>\n",
              "      <th>CHAS</th>\n",
              "      <td>1.330724</td>\n",
              "      <td>0.979706</td>\n",
              "      <td>0.000000</td>\n",
              "      <td>0.000000</td>\n",
              "      <td>0.000000</td>\n",
              "    </tr>\n",
              "    <tr>\n",
              "      <th>RAD</th>\n",
              "      <td>0.278880</td>\n",
              "      <td>0.283443</td>\n",
              "      <td>0.300761</td>\n",
              "      <td>0.289299</td>\n",
              "      <td>0.146846</td>\n",
              "    </tr>\n",
              "    <tr>\n",
              "      <th>ZN</th>\n",
              "      <td>0.050107</td>\n",
              "      <td>0.050617</td>\n",
              "      <td>0.052878</td>\n",
              "      <td>0.052136</td>\n",
              "      <td>0.038268</td>\n",
              "    </tr>\n",
              "    <tr>\n",
              "      <th>B</th>\n",
              "      <td>0.010122</td>\n",
              "      <td>0.010067</td>\n",
              "      <td>0.009114</td>\n",
              "      <td>0.008320</td>\n",
              "      <td>0.007020</td>\n",
              "    </tr>\n",
              "    <tr>\n",
              "      <th>AGE</th>\n",
              "      <td>-0.010116</td>\n",
              "      <td>-0.008276</td>\n",
              "      <td>0.007760</td>\n",
              "      <td>0.020348</td>\n",
              "      <td>0.043446</td>\n",
              "    </tr>\n",
              "    <tr>\n",
              "      <th>TAX</th>\n",
              "      <td>-0.014522</td>\n",
              "      <td>-0.014814</td>\n",
              "      <td>-0.016046</td>\n",
              "      <td>-0.016218</td>\n",
              "      <td>-0.011417</td>\n",
              "    </tr>\n",
              "    <tr>\n",
              "      <th>INDUS</th>\n",
              "      <td>-0.044855</td>\n",
              "      <td>-0.042719</td>\n",
              "      <td>-0.023252</td>\n",
              "      <td>-0.000000</td>\n",
              "      <td>-0.000000</td>\n",
              "    </tr>\n",
              "    <tr>\n",
              "      <th>CRIM</th>\n",
              "      <td>-0.099468</td>\n",
              "      <td>-0.099213</td>\n",
              "      <td>-0.089070</td>\n",
              "      <td>-0.073577</td>\n",
              "      <td>-0.019058</td>\n",
              "    </tr>\n",
              "    <tr>\n",
              "      <th>NOX</th>\n",
              "      <td>-0.175072</td>\n",
              "      <td>-0.000000</td>\n",
              "      <td>-0.000000</td>\n",
              "      <td>-0.000000</td>\n",
              "      <td>-0.000000</td>\n",
              "    </tr>\n",
              "    <tr>\n",
              "      <th>LSTAT</th>\n",
              "      <td>-0.574822</td>\n",
              "      <td>-0.587702</td>\n",
              "      <td>-0.693861</td>\n",
              "      <td>-0.760457</td>\n",
              "      <td>-0.800368</td>\n",
              "    </tr>\n",
              "    <tr>\n",
              "      <th>PTRATIO</th>\n",
              "      <td>-0.779498</td>\n",
              "      <td>-0.784725</td>\n",
              "      <td>-0.790969</td>\n",
              "      <td>-0.738672</td>\n",
              "      <td>-0.423065</td>\n",
              "    </tr>\n",
              "    <tr>\n",
              "      <th>DIS</th>\n",
              "      <td>-1.189438</td>\n",
              "      <td>-1.173647</td>\n",
              "      <td>-0.975902</td>\n",
              "      <td>-0.725174</td>\n",
              "      <td>-0.031208</td>\n",
              "    </tr>\n",
              "  </tbody>\n",
              "</table>\n",
              "</div>\n",
              "      <button class=\"colab-df-convert\" onclick=\"convertToInteractive('df-ef672328-27d4-401b-91af-bc86551c1820')\"\n",
              "              title=\"Convert this dataframe to an interactive table.\"\n",
              "              style=\"display:none;\">\n",
              "        \n",
              "  <svg xmlns=\"http://www.w3.org/2000/svg\" height=\"24px\"viewBox=\"0 0 24 24\"\n",
              "       width=\"24px\">\n",
              "    <path d=\"M0 0h24v24H0V0z\" fill=\"none\"/>\n",
              "    <path d=\"M18.56 5.44l.94 2.06.94-2.06 2.06-.94-2.06-.94-.94-2.06-.94 2.06-2.06.94zm-11 1L8.5 8.5l.94-2.06 2.06-.94-2.06-.94L8.5 2.5l-.94 2.06-2.06.94zm10 10l.94 2.06.94-2.06 2.06-.94-2.06-.94-.94-2.06-.94 2.06-2.06.94z\"/><path d=\"M17.41 7.96l-1.37-1.37c-.4-.4-.92-.59-1.43-.59-.52 0-1.04.2-1.43.59L10.3 9.45l-7.72 7.72c-.78.78-.78 2.05 0 2.83L4 21.41c.39.39.9.59 1.41.59.51 0 1.02-.2 1.41-.59l7.78-7.78 2.81-2.81c.8-.78.8-2.07 0-2.86zM5.41 20L4 18.59l7.72-7.72 1.47 1.35L5.41 20z\"/>\n",
              "  </svg>\n",
              "      </button>\n",
              "      \n",
              "  <style>\n",
              "    .colab-df-container {\n",
              "      display:flex;\n",
              "      flex-wrap:wrap;\n",
              "      gap: 12px;\n",
              "    }\n",
              "\n",
              "    .colab-df-convert {\n",
              "      background-color: #E8F0FE;\n",
              "      border: none;\n",
              "      border-radius: 50%;\n",
              "      cursor: pointer;\n",
              "      display: none;\n",
              "      fill: #1967D2;\n",
              "      height: 32px;\n",
              "      padding: 0 0 0 0;\n",
              "      width: 32px;\n",
              "    }\n",
              "\n",
              "    .colab-df-convert:hover {\n",
              "      background-color: #E2EBFA;\n",
              "      box-shadow: 0px 1px 2px rgba(60, 64, 67, 0.3), 0px 1px 3px 1px rgba(60, 64, 67, 0.15);\n",
              "      fill: #174EA6;\n",
              "    }\n",
              "\n",
              "    [theme=dark] .colab-df-convert {\n",
              "      background-color: #3B4455;\n",
              "      fill: #D2E3FC;\n",
              "    }\n",
              "\n",
              "    [theme=dark] .colab-df-convert:hover {\n",
              "      background-color: #434B5C;\n",
              "      box-shadow: 0px 1px 3px 1px rgba(0, 0, 0, 0.15);\n",
              "      filter: drop-shadow(0px 1px 2px rgba(0, 0, 0, 0.3));\n",
              "      fill: #FFFFFF;\n",
              "    }\n",
              "  </style>\n",
              "\n",
              "      <script>\n",
              "        const buttonEl =\n",
              "          document.querySelector('#df-ef672328-27d4-401b-91af-bc86551c1820 button.colab-df-convert');\n",
              "        buttonEl.style.display =\n",
              "          google.colab.kernel.accessAllowed ? 'block' : 'none';\n",
              "\n",
              "        async function convertToInteractive(key) {\n",
              "          const element = document.querySelector('#df-ef672328-27d4-401b-91af-bc86551c1820');\n",
              "          const dataTable =\n",
              "            await google.colab.kernel.invokeFunction('convertToInteractive',\n",
              "                                                     [key], {});\n",
              "          if (!dataTable) return;\n",
              "\n",
              "          const docLinkHtml = 'Like what you see? Visit the ' +\n",
              "            '<a target=\"_blank\" href=https://colab.research.google.com/notebooks/data_table.ipynb>data table notebook</a>'\n",
              "            + ' to learn more about interactive tables.';\n",
              "          element.innerHTML = '';\n",
              "          dataTable['output_type'] = 'display_data';\n",
              "          await google.colab.output.renderOutput(dataTable, element);\n",
              "          const docLink = document.createElement('div');\n",
              "          docLink.innerHTML = docLinkHtml;\n",
              "          element.appendChild(docLink);\n",
              "        }\n",
              "      </script>\n",
              "    </div>\n",
              "  </div>\n",
              "  "
            ]
          },
          "metadata": {},
          "execution_count": 26
        }
      ]
    },
    {
      "cell_type": "markdown",
      "source": [
        "### 선형 회귀 모델을 위한 데이터 변환"
      ],
      "metadata": {
        "id": "OgO2-o3IZN5N"
      }
    },
    {
      "cell_type": "code",
      "source": [
        "from sklearn.preprocessing import StandardScaler, MinMaxScaler, PolynomialFeatures\n",
        "\n",
        "# method는 표준 정규 분포 변환(Standard), 최대값/최소값 정규화(MinMax), 로그변환(Log) 결정\n",
        "# p_degree는 다향식 특성을 추가할 때 적용. p_degree는 2이상 부여하지 않음. \n",
        "def get_scaled_data(method='None', p_degree=None, input_data=None):\n",
        "    if method == 'Standard':\n",
        "        scaled_data = StandardScaler().fit_transform(input_data)\n",
        "    elif method == 'MinMax':\n",
        "        scaled_data = MinMaxScaler().fit_transform(input_data)\n",
        "    elif method == 'Log':\n",
        "        scaled_data = np.log1p(input_data)\n",
        "    else:\n",
        "        scaled_data = input_data\n",
        "\n",
        "    if p_degree != None:\n",
        "        scaled_data = PolynomialFeatures(degree=p_degree, \n",
        "                                         include_bias=False).fit_transform(scaled_data)\n",
        "    \n",
        "    return scaled_data"
      ],
      "metadata": {
        "id": "-rAEWkvkVgzZ"
      },
      "execution_count": 1,
      "outputs": []
    },
    {
      "cell_type": "code",
      "source": [
        "# Ridge의 alpha값을 다르게 적용하고 다양한 데이터 변환방법에 따른 RMSE 추출. \n",
        "alphas = [0.1, 1, 10, 100]\n",
        "#변환 방법은 모두 6개, 원본 그대로, 표준정규분포, 표준정규분포+다항식 특성\n",
        "# 최대/최소 정규화, 최대/최소 정규화+다항식 특성, 로그변환 \n",
        "scale_methods=[(None, None), ('Standard', None), ('Standard', 2), \n",
        "               ('MinMax', None), ('MinMax', 2), ('Log', None)]\n",
        "for scale_method in scale_methods:\n",
        "    X_data_scaled = get_scaled_data(method=scale_method[0], p_degree=scale_method[1], \n",
        "                                    input_data=X_data)\n",
        "    print(X_data_scaled.shape, X_data.shape)\n",
        "    print('\\n## 변환 유형:{0}, Polynomial Degree:{1}'.format(scale_method[0], scale_method[1]))\n",
        "    get_linear_reg_eval('Ridge', params=alphas, X_data_n=X_data_scaled, \n",
        "                        y_target_n=y_target, verbose=False, return_coeff=False)"
      ],
      "metadata": {
        "colab": {
          "base_uri": "https://localhost:8080/"
        },
        "id": "mmtMKdrE7ApV",
        "outputId": "eca530d5-20fd-4a4e-a82f-4773d6721e99"
      },
      "execution_count": 21,
      "outputs": [
        {
          "output_type": "stream",
          "name": "stdout",
          "text": [
            "(506, 13) (506, 13)\n",
            "\n",
            "## 변환 유형:None, Polynomial Degree:None\n",
            "alpha 0.1일 때 5 폴드 세트의 평균 RMSE: 5.788\n",
            "alpha 1일 때 5 폴드 세트의 평균 RMSE: 5.653\n",
            "alpha 10일 때 5 폴드 세트의 평균 RMSE: 5.518\n",
            "alpha 100일 때 5 폴드 세트의 평균 RMSE: 5.330\n",
            "(506, 13) (506, 13)\n",
            "\n",
            "## 변환 유형:Standard, Polynomial Degree:None\n",
            "alpha 0.1일 때 5 폴드 세트의 평균 RMSE: 5.826\n",
            "alpha 1일 때 5 폴드 세트의 평균 RMSE: 5.803\n",
            "alpha 10일 때 5 폴드 세트의 평균 RMSE: 5.637\n",
            "alpha 100일 때 5 폴드 세트의 평균 RMSE: 5.421\n",
            "(506, 104) (506, 13)\n",
            "\n",
            "## 변환 유형:Standard, Polynomial Degree:2\n",
            "alpha 0.1일 때 5 폴드 세트의 평균 RMSE: 8.827\n",
            "alpha 1일 때 5 폴드 세트의 평균 RMSE: 6.871\n",
            "alpha 10일 때 5 폴드 세트의 평균 RMSE: 5.485\n",
            "alpha 100일 때 5 폴드 세트의 평균 RMSE: 4.634\n",
            "(506, 13) (506, 13)\n",
            "\n",
            "## 변환 유형:MinMax, Polynomial Degree:None\n",
            "alpha 0.1일 때 5 폴드 세트의 평균 RMSE: 5.764\n",
            "alpha 1일 때 5 폴드 세트의 평균 RMSE: 5.465\n",
            "alpha 10일 때 5 폴드 세트의 평균 RMSE: 5.754\n",
            "alpha 100일 때 5 폴드 세트의 평균 RMSE: 7.635\n",
            "(506, 104) (506, 13)\n",
            "\n",
            "## 변환 유형:MinMax, Polynomial Degree:2\n",
            "alpha 0.1일 때 5 폴드 세트의 평균 RMSE: 5.298\n",
            "alpha 1일 때 5 폴드 세트의 평균 RMSE: 4.323\n",
            "alpha 10일 때 5 폴드 세트의 평균 RMSE: 5.185\n",
            "alpha 100일 때 5 폴드 세트의 평균 RMSE: 6.538\n",
            "(506, 13) (506, 13)\n",
            "\n",
            "## 변환 유형:Log, Polynomial Degree:None\n",
            "alpha 0.1일 때 5 폴드 세트의 평균 RMSE: 4.770\n",
            "alpha 1일 때 5 폴드 세트의 평균 RMSE: 4.676\n",
            "alpha 10일 때 5 폴드 세트의 평균 RMSE: 4.836\n",
            "alpha 100일 때 5 폴드 세트의 평균 RMSE: 6.241\n"
          ]
        }
      ]
    },
    {
      "cell_type": "markdown",
      "source": [
        "## 5.7 로지스틱 회귀"
      ],
      "metadata": {
        "id": "Vv39LC3w7eS3"
      }
    },
    {
      "cell_type": "code",
      "source": [
        "import pandas as pd\n",
        "import matplotlib.pyplot as plt\n",
        "import warnings\n",
        "warnings.filterwarnings('ignore')\n",
        "%matplotlib inline\n",
        "\n",
        "from sklearn.datasets import load_breast_cancer\n",
        "from sklearn.linear_model import LogisticRegression\n",
        "\n",
        "cancer = load_breast_cancer()"
      ],
      "metadata": {
        "id": "IW5D4ZXm8eaL"
      },
      "execution_count": 24,
      "outputs": []
    },
    {
      "cell_type": "code",
      "source": [
        "from sklearn.preprocessing import StandardScaler\n",
        "from sklearn.model_selection import train_test_split\n",
        "\n",
        "# StandardScaler( )로 평균이 0, 분산 1로 데이터 분포도 변환\n",
        "scaler = StandardScaler()\n",
        "data_scaled = scaler.fit_transform(cancer.data)\n",
        "\n",
        "X_train , X_test, y_train , y_test = train_test_split(data_scaled, cancer.target, test_size=0.3, random_state=0)"
      ],
      "metadata": {
        "id": "cYWjF7zD8mbH"
      },
      "execution_count": 25,
      "outputs": []
    },
    {
      "cell_type": "code",
      "source": [
        "from sklearn.metrics import accuracy_score, roc_auc_score\n",
        "\n",
        "# 로지스틱 회귀를 이용하여 학습 및 예측 수행.\n",
        "# solver 인자값을 생성자로 입력하지 않으면 solver='lbfgs'\n",
        "lr_clf = LogisticRegression()\n",
        "lr_clf.fit(X_train, y_train)\n",
        "lr_preds = lr_clf.predict(X_test)\n",
        "\n",
        "# accuracy와 roc_auc 측정\n",
        "print('accuracy: {0:.3f}, roc_auc:{1:.3f}'.format(accuracy_score(y_test, lr_preds),\n",
        "                                                  roc_auc_score(y_test , lr_preds)))"
      ],
      "metadata": {
        "colab": {
          "base_uri": "https://localhost:8080/"
        },
        "id": "6qR4fmz88zAM",
        "outputId": "883051c8-2be3-46ac-93fa-d015117b35fd"
      },
      "execution_count": 26,
      "outputs": [
        {
          "output_type": "stream",
          "name": "stdout",
          "text": [
            "accuracy: 0.977, roc_auc:0.972\n"
          ]
        }
      ]
    },
    {
      "cell_type": "code",
      "source": [
        "solvers = ['lbfgs', 'liblinear', 'newton-cg', 'sag', 'saga']\n",
        "\n",
        "# 여러개의 solver 값별로 LogisticRegression 학습 후 성능 평가\n",
        "for solver in solvers:\n",
        "    lr_clf = LogisticRegression(solver=solver, max_iter=600)\n",
        "    lr_clf.fit(X_train, y_train)\n",
        "    lr_preds = lr_clf.predict(X_test)\n",
        "    \n",
        "    # accuracy와 roc_auc 측정\n",
        "    print('solver:{0}, accuracy: {1:.3f}, roc_auc:{2:.3f}'.format(solver,\n",
        "                                                                  accuracy_score(y_test, lr_preds),\n",
        "                                                                  roc_auc_score(y_test , lr_preds)))"
      ],
      "metadata": {
        "colab": {
          "base_uri": "https://localhost:8080/"
        },
        "id": "qeFtBanG83oP",
        "outputId": "bb490a92-bf4e-4bbc-cbb5-42ce61db20e9"
      },
      "execution_count": 27,
      "outputs": [
        {
          "output_type": "stream",
          "name": "stdout",
          "text": [
            "solver:lbfgs, accuracy: 0.977, roc_auc:0.972\n",
            "solver:liblinear, accuracy: 0.982, roc_auc:0.979\n",
            "solver:newton-cg, accuracy: 0.977, roc_auc:0.972\n",
            "solver:sag, accuracy: 0.982, roc_auc:0.979\n",
            "solver:saga, accuracy: 0.982, roc_auc:0.979\n"
          ]
        }
      ]
    },
    {
      "cell_type": "code",
      "source": [
        "from sklearn.model_selection import GridSearchCV\n",
        "\n",
        "params={'solver':['liblinear', 'lbfgs'],\n",
        "        'penalty':['l2', 'l1'],\n",
        "        'C':[0.01, 0.1, 1, 1, 5, 10]} # C = 1/alpha. C가 작을수록 규제 강도 큼\n",
        "\n",
        "lr_clf = LogisticRegression()\n",
        "\n",
        "grid_clf = GridSearchCV(lr_clf, param_grid=params, scoring='accuracy', cv=3 )\n",
        "grid_clf.fit(data_scaled, cancer.target)\n",
        "print('최적 하이퍼 파라미터:{0}, 최적 평균 정확도:{1:.3f}'.format(grid_clf.best_params_,\n",
        "                                                  grid_clf.best_score_))"
      ],
      "metadata": {
        "colab": {
          "base_uri": "https://localhost:8080/"
        },
        "id": "PyCGpEh787su",
        "outputId": "0a1490ea-6f10-4ea6-f5cf-ff093dcfced5"
      },
      "execution_count": 28,
      "outputs": [
        {
          "output_type": "stream",
          "name": "stdout",
          "text": [
            "최적 하이퍼 파라미터:{'C': 0.1, 'penalty': 'l2', 'solver': 'liblinear'}, 최적 평균 정확도:0.979\n"
          ]
        }
      ]
    },
    {
      "cell_type": "markdown",
      "source": [
        "## 5.8 회귀 트리\n",
        "* 리프 노드에 속한 데이터 값의 평균값으로 회귀 예측값"
      ],
      "metadata": {
        "id": "NBfylDCU-Ohg"
      }
    },
    {
      "cell_type": "code",
      "source": [
        "from sklearn.datasets import load_boston\n",
        "from sklearn.model_selection import cross_val_score\n",
        "from sklearn.ensemble import RandomForestRegressor\n",
        "import pandas as pd\n",
        "import numpy as np\n",
        "\n",
        "# 보스턴 데이터 세트 로드\n",
        "boston = load_boston()\n",
        "bostonDF = pd.DataFrame(boston.data, columns = boston.feature_names)\n",
        "\n",
        "bostonDF['PRICE'] = boston.target\n",
        "y_target = bostonDF['PRICE']\n",
        "X_data = bostonDF.drop(['PRICE'], axis=1,inplace=False)\n",
        "\n",
        "rf = RandomForestRegressor(random_state=0, n_estimators=1000)\n",
        "neg_mse_scores = cross_val_score(rf, X_data, y_target, scoring=\"neg_mean_squared_error\", cv = 5)\n",
        "rmse_scores  = np.sqrt(-1 * neg_mse_scores)\n",
        "avg_rmse = np.mean(rmse_scores)\n",
        "\n",
        "print(' 5 교차 검증의 개별 Negative MSE scores: ', np.round(neg_mse_scores, 2))\n",
        "print(' 5 교차 검증의 개별 RMSE scores : ', np.round(rmse_scores, 2))\n",
        "print(' 5 교차 검증의 평균 RMSE : {0:.3f} '.format(avg_rmse))"
      ],
      "metadata": {
        "colab": {
          "base_uri": "https://localhost:8080/"
        },
        "id": "et5EMwqC8-6D",
        "outputId": "ffb5e4aa-ef84-49e1-f2a6-95b66c9c4aae"
      },
      "execution_count": 29,
      "outputs": [
        {
          "output_type": "stream",
          "name": "stdout",
          "text": [
            " 5 교차 검증의 개별 Negative MSE scores:  [ -7.88 -13.14 -20.57 -46.23 -18.88]\n",
            " 5 교차 검증의 개별 RMSE scores :  [2.81 3.63 4.54 6.8  4.34]\n",
            " 5 교차 검증의 평균 RMSE : 4.423 \n"
          ]
        }
      ]
    },
    {
      "cell_type": "code",
      "source": [
        "def get_model_cv_prediction(model, X_data, y_target):\n",
        "    neg_mse_scores = cross_val_score(model, X_data, y_target, scoring=\"neg_mean_squared_error\", cv = 5)\n",
        "    rmse_scores  = np.sqrt(-1 * neg_mse_scores)\n",
        "    avg_rmse = np.mean(rmse_scores)\n",
        "    print('##### ',model.__class__.__name__ , ' #####')\n",
        "    print(' 5 교차 검증의 평균 RMSE : {0:.3f} '.format(avg_rmse))"
      ],
      "metadata": {
        "id": "nEGadKB9_QMR"
      },
      "execution_count": 30,
      "outputs": []
    },
    {
      "cell_type": "code",
      "source": [
        "from sklearn.tree import DecisionTreeRegressor\n",
        "from sklearn.ensemble import GradientBoostingRegressor\n",
        "from xgboost import XGBRegressor\n",
        "from lightgbm import LGBMRegressor\n",
        "\n",
        "dt_reg = DecisionTreeRegressor(random_state=0, max_depth=4)\n",
        "rf_reg = RandomForestRegressor(random_state=0, n_estimators=1000)\n",
        "gb_reg = GradientBoostingRegressor(random_state=0, n_estimators=1000)\n",
        "xgb_reg = XGBRegressor(n_estimators=1000)\n",
        "lgb_reg = LGBMRegressor(n_estimators=1000)\n",
        "\n",
        "# 트리 기반의 회귀 모델을 반복하면서 평가 수행 \n",
        "models = [dt_reg, rf_reg, gb_reg, xgb_reg, lgb_reg]\n",
        "for model in models:  \n",
        "    get_model_cv_prediction(model, X_data, y_target)"
      ],
      "metadata": {
        "colab": {
          "base_uri": "https://localhost:8080/"
        },
        "id": "PeXCbYo7_ba4",
        "outputId": "099bdabb-ecfd-42cb-c5cb-3f4b238454a9"
      },
      "execution_count": 31,
      "outputs": [
        {
          "output_type": "stream",
          "name": "stdout",
          "text": [
            "#####  DecisionTreeRegressor  #####\n",
            " 5 교차 검증의 평균 RMSE : 5.978 \n",
            "#####  RandomForestRegressor  #####\n",
            " 5 교차 검증의 평균 RMSE : 4.423 \n",
            "#####  GradientBoostingRegressor  #####\n",
            " 5 교차 검증의 평균 RMSE : 4.269 \n",
            "[07:43:37] WARNING: /workspace/src/objective/regression_obj.cu:152: reg:linear is now deprecated in favor of reg:squarederror.\n",
            "[07:43:38] WARNING: /workspace/src/objective/regression_obj.cu:152: reg:linear is now deprecated in favor of reg:squarederror.\n",
            "[07:43:39] WARNING: /workspace/src/objective/regression_obj.cu:152: reg:linear is now deprecated in favor of reg:squarederror.\n",
            "[07:43:40] WARNING: /workspace/src/objective/regression_obj.cu:152: reg:linear is now deprecated in favor of reg:squarederror.\n",
            "[07:43:40] WARNING: /workspace/src/objective/regression_obj.cu:152: reg:linear is now deprecated in favor of reg:squarederror.\n",
            "#####  XGBRegressor  #####\n",
            " 5 교차 검증의 평균 RMSE : 4.089 \n",
            "#####  LGBMRegressor  #####\n",
            " 5 교차 검증의 평균 RMSE : 4.646 \n"
          ]
        }
      ]
    },
    {
      "cell_type": "code",
      "source": [
        "import seaborn as sns\n",
        "%matplotlib inline\n",
        "\n",
        "rf_reg = RandomForestRegressor(n_estimators=1000)\n",
        "\n",
        "# 앞 예제에서 만들어진 X_data, y_target 데이터 셋을 적용하여 학습합니다.   \n",
        "rf_reg.fit(X_data, y_target)\n",
        "\n",
        "feature_series = pd.Series(data=rf_reg.feature_importances_, index=X_data.columns )\n",
        "feature_series = feature_series.sort_values(ascending=False)\n",
        "sns.barplot(x= feature_series, y=feature_series.index)"
      ],
      "metadata": {
        "colab": {
          "base_uri": "https://localhost:8080/",
          "height": 284
        },
        "id": "qY7v3lxG_byx",
        "outputId": "22b88e11-2550-42ad-f9fe-134dc82f7bf2"
      },
      "execution_count": 32,
      "outputs": [
        {
          "output_type": "execute_result",
          "data": {
            "text/plain": [
              "<matplotlib.axes._subplots.AxesSubplot at 0x7ff0722ecd10>"
            ]
          },
          "metadata": {},
          "execution_count": 32
        },
        {
          "output_type": "display_data",
          "data": {
            "text/plain": [
              "<Figure size 432x288 with 1 Axes>"
            ],
            "image/png": "[encoded data removed]"
          },
          "metadata": {
            "needs_background": "light"
          }
        }
      ]
    },
    {
      "cell_type": "code",
      "source": [
        "import matplotlib.pyplot as plt\n",
        "%matplotlib inline\n",
        "\n",
        "bostonDF_sample = bostonDF[['RM','PRICE']]\n",
        "bostonDF_sample = bostonDF_sample.sample(n=100,random_state=0)\n",
        "print(bostonDF_sample.shape)\n",
        "plt.figure()\n",
        "plt.scatter(bostonDF_sample.RM , bostonDF_sample.PRICE,c=\"darkorange\")"
      ],
      "metadata": {
        "colab": {
          "base_uri": "https://localhost:8080/",
          "height": 302
        },
        "id": "c9n2YooL_obB",
        "outputId": "3dc699c9-1c1d-4c78-c4fd-57ff7e8ba0f4"
      },
      "execution_count": 33,
      "outputs": [
        {
          "output_type": "stream",
          "name": "stdout",
          "text": [
            "(100, 2)\n"
          ]
        },
        {
          "output_type": "execute_result",
          "data": {
            "text/plain": [
              "<matplotlib.collections.PathCollection at 0x7ff0721bad10>"
            ]
          },
          "metadata": {},
          "execution_count": 33
        },
        {
          "output_type": "display_data",
          "data": {
            "text/plain": [
              "<Figure size 432x288 with 1 Axes>"
            ],
            "image/png": "[encoded data removed]"
          },
          "metadata": {
            "needs_background": "light"
          }
        }
      ]
    },
    {
      "cell_type": "code",
      "source": [
        "import numpy as np\n",
        "from sklearn.linear_model import LinearRegression\n",
        "\n",
        "# 선형 회귀와 결정 트리 기반의 Regressor 생성. DecisionTreeRegressor의 max_depth는 각각 2, 7\n",
        "lr_reg = LinearRegression()\n",
        "rf_reg2 = DecisionTreeRegressor(max_depth=2)\n",
        "rf_reg7 = DecisionTreeRegressor(max_depth=7)\n",
        "\n",
        "# 실제 예측을 적용할 테스트용 데이터 셋을 4.5 ~ 8.5 까지 100개 데이터 셋 생성. \n",
        "X_test = np.arange(4.5, 8.5, 0.04).reshape(-1, 1)\n",
        "\n",
        "# 보스턴 주택가격 데이터에서 시각화를 위해 피처는 RM만, 그리고 결정 데이터인 PRICE 추출\n",
        "X_feature = bostonDF_sample['RM'].values.reshape(-1,1)\n",
        "y_target = bostonDF_sample['PRICE'].values.reshape(-1,1)\n",
        "\n",
        "# 학습과 예측 수행. \n",
        "lr_reg.fit(X_feature, y_target)\n",
        "rf_reg2.fit(X_feature, y_target)\n",
        "rf_reg7.fit(X_feature, y_target)\n",
        "\n",
        "pred_lr = lr_reg.predict(X_test)\n",
        "pred_rf2 = rf_reg2.predict(X_test)\n",
        "pred_rf7 = rf_reg7.predict(X_test)"
      ],
      "metadata": {
        "id": "D0LBabcS_qkg"
      },
      "execution_count": 34,
      "outputs": []
    },
    {
      "cell_type": "code",
      "source": [
        "fig , (ax1, ax2, ax3) = plt.subplots(figsize=(14,4), ncols=3)\n",
        "\n",
        "# X축값을 4.5 ~ 8.5로 변환하며 입력했을 때, 선형 회귀와 결정 트리 회귀 예측 선 시각화\n",
        "# 선형 회귀로 학습된 모델 회귀 예측선 \n",
        "ax1.set_title('Linear Regression')\n",
        "ax1.scatter(bostonDF_sample.RM, bostonDF_sample.PRICE, c=\"darkorange\")\n",
        "ax1.plot(X_test, pred_lr,label=\"linear\", linewidth=2 )\n",
        "\n",
        "# DecisionTreeRegressor의 max_depth를 2로 했을 때 회귀 예측선 \n",
        "ax2.set_title('Decision Tree Regression: \\n max_depth=2')\n",
        "ax2.scatter(bostonDF_sample.RM, bostonDF_sample.PRICE, c=\"darkorange\")\n",
        "ax2.plot(X_test, pred_rf2, label=\"max_depth:3\", linewidth=2 )\n",
        "\n",
        "# DecisionTreeRegressor의 max_depth를 7로 했을 때 회귀 예측선 \n",
        "ax3.set_title('Decision Tree Regression: \\n max_depth=7')\n",
        "ax3.scatter(bostonDF_sample.RM, bostonDF_sample.PRICE, c=\"darkorange\")\n",
        "ax3.plot(X_test, pred_rf7, label=\"max_depth:7\", linewidth=2)"
      ],
      "metadata": {
        "colab": {
          "base_uri": "https://localhost:8080/",
          "height": 315
        },
        "id": "K4GJs6cbAHG5",
        "outputId": "0b911324-990a-4291-dbca-515bb2045cbc"
      },
      "execution_count": 35,
      "outputs": [
        {
          "output_type": "execute_result",
          "data": {
            "text/plain": [
              "[<matplotlib.lines.Line2D at 0x7ff0720b6250>]"
            ]
          },
          "metadata": {},
          "execution_count": 35
        },
        {
          "output_type": "display_data",
          "data": {
            "text/plain": [
              "<Figure size 1008x288 with 3 Axes>"
            ],
            "image/png": "[encoded data removed]"
          },
          "metadata": {
            "needs_background": "light"
          }
        }
      ]
    },
    {
      "cell_type": "code",
      "source": [],
      "metadata": {
        "id": "FRPvoBb5AJZe"
      },
      "execution_count": null,
      "outputs": []
    }
  ]
}