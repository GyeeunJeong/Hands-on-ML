{
  "nbformat": 4,
  "nbformat_minor": 0,
  "metadata": {
    "colab": {
      "provenance": [],
      "authorship_tag": "ABX9TyOhMBNQ8L2KeWUT5HDI9afc",
      "include_colab_link": true
    },
    "kernelspec": {
      "name": "python3",
      "display_name": "Python 3"
    },
    "language_info": {
      "name": "python"
    }
  },
  "cells": [
    {
      "cell_type": "markdown",
      "metadata": {
        "id": "view-in-github",
        "colab_type": "text"
      },
      "source": [
        "<a href=\"https://colab.research.google.com/github/joyfulspace/Books/blob/main/%ED%8C%8C%EC%9D%B4%EC%8D%AC%EB%A8%B8%EC%8B%A0%EB%9F%AC%EB%8B%9D%EC%99%84%EB%B2%BD%EA%B0%80%EC%9D%B4%EB%93%9C/ch3_%ED%8F%89%EA%B0%80.ipynb\" target=\"_parent\"><img src=\"https://colab.research.google.com/assets/colab-badge.svg\" alt=\"Open In Colab\"/></a>"
      ]
    },
    {
      "cell_type": "markdown",
      "source": [
        "# Ch3. 정확도"
      ],
      "metadata": {
        "id": "wvUAR2phQw1I"
      }
    },
    {
      "cell_type": "code",
      "source": [
        "!git clone https://github.com/joyfulspace/Books.git"
      ],
      "metadata": {
        "colab": {
          "base_uri": "https://localhost:8080/"
        },
        "id": "pB65L4hiQv9l",
        "outputId": "98e3f983-16f8-4635-96f3-09a2504ff65c"
      },
      "execution_count": 1,
      "outputs": [
        {
          "output_type": "stream",
          "name": "stdout",
          "text": [
            "Cloning into 'Books'...\n",
            "remote: Enumerating objects: 51, done.\u001b[K\n",
            "remote: Counting objects: 100% (51/51), done.\u001b[K\n",
            "remote: Compressing objects: 100% (43/43), done.\u001b[K\n",
            "remote: Total 51 (delta 12), reused 21 (delta 2), pack-reused 0\u001b[K\n",
            "Unpacking objects: 100% (51/51), done.\n"
          ]
        }
      ]
    },
    {
      "cell_type": "code",
      "source": [
        "Path = '/content/Books/파이썬머신러닝완벽가이드/data'"
      ],
      "metadata": {
        "id": "A6K4tHfvQ3Qi"
      },
      "execution_count": 2,
      "outputs": []
    },
    {
      "cell_type": "markdown",
      "source": [
        "### 데이터가 불균형하면 예측 성능과 상관없이 정확도가 높게 나올 수 있다."
      ],
      "metadata": {
        "id": "D2ALRjUSNfzO"
      }
    },
    {
      "cell_type": "code",
      "execution_count": 3,
      "metadata": {
        "id": "XmP3sOlbNZKy"
      },
      "outputs": [],
      "source": [
        "import numpy as np\n",
        "from sklearn.base import BaseEstimator\n",
        "\n",
        "class MyDummyClassifier(BaseEstimator):\n",
        "  # fit() 메소드는 아무것도 학습하지 않음.\n",
        "  def fit(self, X, y=None):\n",
        "    pass\n",
        "\n",
        "  # predict() 메소드는 단순히 Sex feature가 1이면, 0\n",
        "  # , 그렇지 않으면 1로 예측\n",
        "  def predict(self, X):\n",
        "    pred = np.zeros((X.shape[0], 1))\n",
        "    for i in range(X.shape[0]):\n",
        "      if X['Sex'].iloc[i]==1:\n",
        "        pred[i] = 0\n",
        "      else:\n",
        "        pred[i] = 1\n",
        "\n",
        "    return pred"
      ]
    },
    {
      "cell_type": "code",
      "source": [
        "import pandas as pd\n",
        "from sklearn.preprocessing import LabelEncoder\n",
        "\n",
        "# Null 처리 함수\n",
        "def fillna(df):\n",
        "  df['Age'].fillna(df['Age'].mean(), inplace=True)\n",
        "  df['Cabin'].fillna('N', inplace=True)\n",
        "  df['Embarked'].fillna('N', inplace=True)\n",
        "  df['Fare'].fillna(0, inplace=True)\n",
        "  return df\n",
        "\n",
        "# 머신러닝 알고리즘에 불필요한 속성 제거\n",
        "def drop_features(df):\n",
        "  df.drop(['PassengerId', 'Name', 'Ticket'], axis=1, inplace=True)\n",
        "  return df\n",
        "\n",
        "# 레이블 인코딩 수행.\n",
        "def format_features(df):\n",
        "  df['Cabin'] = df['Cabin'].str[:1]\n",
        "  features = ['Cabin', 'Sex', 'Embarked']\n",
        "  for feature in features:\n",
        "    le = LabelEncoder()\n",
        "    le = le.fit(df[feature])\n",
        "    df[feature] = le.transform(df[feature])\n",
        "\n",
        "  return df\n",
        "\n",
        "# 앞에서 설정한 Data Preprocessing 함수 호출\n",
        "def transform_features(df):\n",
        "  df = fillna(df)\n",
        "  df = drop_features(df)\n",
        "  df = format_features(df)\n",
        "  return df"
      ],
      "metadata": {
        "id": "XHcNAXrzPHE2"
      },
      "execution_count": 4,
      "outputs": []
    },
    {
      "cell_type": "code",
      "source": [
        "import pandas as pd\n",
        "from sklearn.model_selection import train_test_split\n",
        "from sklearn.metrics import accuracy_score\n",
        "\n",
        "# 원본 데이터를 재로딩, 데이터 가공, 학습데이터/테스트 데이터 분할.\n",
        "titanic_df = pd.read_csv(f'{Path}/titanic_train.csv')\n",
        "y_titanic_df = titanic_df['Survived']\n",
        "X_titanic_df = titanic_df.drop('Survived', axis=1)\n",
        "X_titanic_df = transform_features(X_titanic_df)\n",
        "X_train, X_test, y_train, y_test = train_test_split(X_titanic_df, y_titanic_df,\n",
        "                                                    test_size=0.2, random_state=0)\n",
        "\n",
        "# 위에서 생성한 Dummy Classifier를 이용하여 학습/예측/평가 수행.\n",
        "myclf = MyDummyClassifier()\n",
        "myclf.fit(X_train, y_train)\n",
        "\n",
        "mypredictions = myclf.predict(X_test)\n",
        "acc = accuracy_score(y_test, mypredictions)\n",
        "print('Dummy Classifier의 정확도는: {0:.4f}'.format(acc))"
      ],
      "metadata": {
        "colab": {
          "base_uri": "https://localhost:8080/"
        },
        "id": "HUSR8PGBQans",
        "outputId": "4d252c32-d262-4bfd-f97e-c14c4bcb0920"
      },
      "execution_count": 5,
      "outputs": [
        {
          "output_type": "stream",
          "name": "stdout",
          "text": [
            "Dummy Classifier의 정확도는: 0.7877\n"
          ]
        }
      ]
    },
    {
      "cell_type": "code",
      "source": [
        "from sklearn.datasets import load_digits\n",
        "from sklearn.model_selection import train_test_split\n",
        "from sklearn.base import BaseEstimator\n",
        "from sklearn.metrics import accuracy_score\n",
        "import numpy as np\n",
        "import pandas as pd\n",
        "\n",
        "class MyFakeClassifier(BaseEstimator):\n",
        "  def fit(self, X, y):\n",
        "    pass\n",
        "  \n",
        "  # 입력값으로 들어오는 X 데이터 셋의 크기만큼 모두 0값으로 만들어서 반환\n",
        "  def predict(self, X):\n",
        "    return np.zeros( (len(X),1), dtype=bool)\n",
        "\n",
        "# 사이킷런의 내장 데이터 셋인 load_digits()를 이용하여 MNIST 데이터 로딩\n",
        "digits = load_digits()\n",
        "\n",
        "# digits번호가 7번이면 True이고 이를 astype(int)로 1로 변환, \n",
        "# 7번이 아니면 False이고 0으로 변환.\n",
        "y = (digits.target==7).astype(int)\n",
        "X_train, X_test, y_train, y_test = train_test_split(digits.data, y, \\\n",
        "                                                    random_state=11)"
      ],
      "metadata": {
        "id": "KUJnUo4ZT4nK"
      },
      "execution_count": 6,
      "outputs": []
    },
    {
      "cell_type": "code",
      "source": [
        "# 불균형한 레이블 데이터 분포도 확인.\n",
        "print('레이블 테스트 세트 크기:', y_test.shape)\n",
        "print('테스트 세트 레이블0과 1의 분포도')\n",
        "print(pd.Series(y_test).value_counts())\n",
        "\n",
        "# Dummy Classifier로 학습/예측/정확도 평가\n",
        "fakeclf = MyFakeClassifier()\n",
        "fakeclf.fit(X_train, y_train)\n",
        "fakepred = fakeclf.predict(X_test)\n",
        "fakeacc = accuracy_score(y_test, fakepred)\n",
        "print('모든 예측을 0으로 하여도 정확도는: {:.3f}'.format(fakeacc))"
      ],
      "metadata": {
        "colab": {
          "base_uri": "https://localhost:8080/"
        },
        "id": "WeMOkWx8VOw8",
        "outputId": "d20f6ad1-3971-4a06-8a2c-7a94b5af9b10"
      },
      "execution_count": 7,
      "outputs": [
        {
          "output_type": "stream",
          "name": "stdout",
          "text": [
            "레이블 테스트 세트 크기: (450,)\n",
            "테스트 세트 레이블0과 1의 분포도\n",
            "0    405\n",
            "1     45\n",
            "dtype: int64\n",
            "모든 예측을 0으로 하여도 정확도는: 0.900\n"
          ]
        }
      ]
    },
    {
      "cell_type": "markdown",
      "source": [
        "###  불균형 데이터에서는 아래 지표들을 사용해야 함\n",
        "## 3-2 Confusion Matrix"
      ],
      "metadata": {
        "id": "j35xYVjuV3Bm"
      }
    },
    {
      "cell_type": "code",
      "source": [
        "from sklearn.metrics import confusion_matrix\n",
        "\n",
        "# 앞절의 예측 결과인 fakepred와 실제 결과인 y_test의 Confusion Matrix 출력\n",
        "confusion_matrix(y_test, fakepred)"
      ],
      "metadata": {
        "colab": {
          "base_uri": "https://localhost:8080/"
        },
        "id": "fLbtyCelV9bU",
        "outputId": "4677bc4b-1396-4db2-cf81-e1762c438d17"
      },
      "execution_count": 8,
      "outputs": [
        {
          "output_type": "execute_result",
          "data": {
            "text/plain": [
              "array([[405,   0],\n",
              "       [ 45,   0]])"
            ]
          },
          "metadata": {},
          "execution_count": 8
        }
      ]
    },
    {
      "cell_type": "markdown",
      "source": [
        "## 3-3 Precision과 Recall\n",
        "* Precision 정밀도: 실제 Negative 데이터를 Positive로 잘못 예측하면 큰 영향이 발생하는 경우 중요 ex) 스팸메일\n",
        "* Recall 재현율: 실제 Positive 데이터를 Negative로 잘못 판단하면 큰 영향이 발생하는 경우 중요. ex) 암 판단, 보험 사기"
      ],
      "metadata": {
        "id": "HfXJ-8XFWImQ"
      }
    },
    {
      "cell_type": "code",
      "source": [
        "from sklearn.metrics import accuracy_score, precision_score, recall_score, confusion_matrix\n",
        "\n",
        "# 오차행렬, 정확도, 정밀도, 재현율을 한꺼번에 계산하는 함수 생성\n",
        "def get_clf_eval(y_test, pred):\n",
        "  confusion = confusion_matrix(y_test, pred)\n",
        "  accuracy = accuracy_score(y_test, pred)\n",
        "  precision = precision_score(y_test, pred)\n",
        "  recall = recall_score(y_test, pred)\n",
        "  print('오차 행렬')\n",
        "  print(confusion)\n",
        "  print('정확도: {0:.4f}, 정밀도: {1:.4f}, 재현율: {2:.4f}'.format(accuracy, precision, recall))"
      ],
      "metadata": {
        "id": "pd76Nhb2WMFY"
      },
      "execution_count": 9,
      "outputs": []
    },
    {
      "cell_type": "code",
      "source": [
        "from sklearn.linear_model import LogisticRegression\n",
        "\n",
        "lr_clf = LogisticRegression(solver='liblinear')\n",
        "# solver: 최적화 알고리즘\n",
        "# liblinear: 작은 데이터 세트의 이진 분류\n",
        "# lbfgs: 데이터 세트가 크고 다중 분류\n",
        "\n",
        "lr_clf.fit(X_train, y_train)\n",
        "pred = lr_clf.predict(X_test)\n",
        "get_clf_eval(y_test, pred)"
      ],
      "metadata": {
        "colab": {
          "base_uri": "https://localhost:8080/"
        },
        "id": "5La_DNJpW90X",
        "outputId": "e14a5e78-9833-454c-c778-282d00918022"
      },
      "execution_count": 10,
      "outputs": [
        {
          "output_type": "stream",
          "name": "stdout",
          "text": [
            "오차 행렬\n",
            "[[401   4]\n",
            " [  2  43]]\n",
            "정확도: 0.9867, 정밀도: 0.9149, 재현율: 0.9556\n"
          ]
        }
      ]
    },
    {
      "cell_type": "markdown",
      "source": [
        "### Precision/Recall Trade-off\n",
        "* 분류 결정 임곗값을 조정해 수치 변경 가능\n",
        "* 상호 보완적인 평가 지표라서 한 지표를 강제로 높이면 다른 하나의 수치는 떨어지기 쉬움\n"
      ],
      "metadata": {
        "id": "rmduyqEmXaOv"
      }
    },
    {
      "cell_type": "code",
      "source": [
        "# predict_proba: 개별 데이터별로 예측 확률 반환.\n",
        "pred_proba = lr_clf.predict_proba(X_test)\n",
        "pred = lr_clf.predict(X_test)\n",
        "print('pred_proba()결과 Shape: {0}'.format(pred_proba.shape))\n",
        "print('pred_proba array에서 앞 3개만 샘플로 추출\\n:', pred_proba[:3])\n",
        "\n",
        "# 예측 확률 array와 예측 결과값 array를 concatenate하여 \n",
        "# 예측 확률과 결과값을 한눈에 확인\n",
        "pred_proba_result = np.concatenate([pred_proba, pred.reshape(-1,1)], axis=1)\n",
        "print('두개의 class중에서 더 큰 확률을 클래스 값으로 예측\\n', pred_proba_result[:3])"
      ],
      "metadata": {
        "colab": {
          "base_uri": "https://localhost:8080/"
        },
        "id": "mqCICvmYW5No",
        "outputId": "685e178e-ab48-4c34-cff7-cd680b6bd114"
      },
      "execution_count": 11,
      "outputs": [
        {
          "output_type": "stream",
          "name": "stdout",
          "text": [
            "pred_proba()결과 Shape: (450, 2)\n",
            "pred_proba array에서 앞 3개만 샘플로 추출\n",
            ": [[9.99999971e-01 2.86168552e-08]\n",
            " [9.79518260e-01 2.04817399e-02]\n",
            " [9.99999841e-01 1.58523299e-07]]\n",
            "두개의 class중에서 더 큰 확률을 클래스 값으로 예측\n",
            " [[9.99999971e-01 2.86168552e-08 0.00000000e+00]\n",
            " [9.79518260e-01 2.04817399e-02 0.00000000e+00]\n",
            " [9.99999841e-01 1.58523299e-07 0.00000000e+00]]\n"
          ]
        }
      ]
    },
    {
      "cell_type": "code",
      "source": [
        "from sklearn.preprocessing import Binarizer\n",
        "\n",
        "X = [[1, -1, 2],\n",
        "     [2, 0, 0],\n",
        "     [0, 1.1, 1.2]]\n",
        "\n",
        "# threshold 기준값보다 같거나 작으면 0을, 크면 1을 반환\n",
        "binarizer = Binarizer(threshold=1.1)\n",
        "print(binarizer.fit_transform(X))"
      ],
      "metadata": {
        "colab": {
          "base_uri": "https://localhost:8080/"
        },
        "id": "52CMI46NYHby",
        "outputId": "79946d89-c546-4338-8b02-e6bfe19fa5ed"
      },
      "execution_count": 12,
      "outputs": [
        {
          "output_type": "stream",
          "name": "stdout",
          "text": [
            "[[0. 0. 1.]\n",
            " [1. 0. 0.]\n",
            " [0. 0. 1.]]\n"
          ]
        }
      ]
    },
    {
      "cell_type": "code",
      "source": [
        "from sklearn.preprocessing import Binarizer\n",
        "\n",
        "# Binarizer의 threshold 설정값. 분류 결정 임곗값임.\n",
        "custom_threshold = 0.5\n",
        "\n",
        "# predict_proba() 반환값의 두번째 컬럼, 즉 Positive 클래스 컬럼 하나만 추출\n",
        "pred_proba_1 = pred_proba[:,1].reshape(-1, 1)\n",
        "\n",
        "binarizer = Binarizer(threshold=custom_threshold).fit(pred_proba_1)\n",
        "custom_predict = binarizer.transform(pred_proba_1)\n",
        "\n",
        "get_clf_eval(y_test, custom_predict)"
      ],
      "metadata": {
        "colab": {
          "base_uri": "https://localhost:8080/"
        },
        "id": "QECzwvz3ZAhl",
        "outputId": "fc88a5f8-e7e0-47b4-af7a-94b49d355eff"
      },
      "execution_count": 13,
      "outputs": [
        {
          "output_type": "stream",
          "name": "stdout",
          "text": [
            "오차 행렬\n",
            "[[401   4]\n",
            " [  2  43]]\n",
            "정확도: 0.9867, 정밀도: 0.9149, 재현율: 0.9556\n"
          ]
        }
      ]
    },
    {
      "cell_type": "code",
      "source": [
        "# Binarizer의 threshold 설정값을 0.4로 설정. 즉 분류 결정 임곗값을 0.5에서 0.4로 낮춤\n",
        "custom_threshold = 0.4\n",
        "pred_proba_1 = pred_proba[:,1].reshape(-1, 1)\n",
        "binarizer = Binarizer(threshold=custom_threshold).fit(pred_proba_1)\n",
        "custom_predict = binarizer.transform(pred_proba_1)\n",
        "\n",
        "get_clf_eval(y_test, custom_predict)"
      ],
      "metadata": {
        "id": "mOrtFDPBY91f",
        "colab": {
          "base_uri": "https://localhost:8080/"
        },
        "outputId": "8d39d5bd-2293-4f0e-d6d0-2e40a6ea9655"
      },
      "execution_count": 14,
      "outputs": [
        {
          "output_type": "stream",
          "name": "stdout",
          "text": [
            "오차 행렬\n",
            "[[400   5]\n",
            " [  2  43]]\n",
            "정확도: 0.9844, 정밀도: 0.8958, 재현율: 0.9556\n"
          ]
        }
      ]
    },
    {
      "cell_type": "code",
      "source": [
        "# 여러개의 분류 결정 임곗값을 변경하면서 Binarizer를 이용하여 예측값 변환\n",
        "# 테스트를 수행할 모든 임곗값\n",
        "thresholds = [0.4, 0.45, 0.50, 0.55, 0.60]\n",
        "\n",
        "def get_eval_by_threshold(y_test, pred_proba_c1, thresholds):\n",
        "  # thresholds list 객체 내의 값을 차례로 iteration하면서 Evaluation 수행\n",
        "  for custom_threshold in thresholds:\n",
        "    binarizer = Binarizer(threshold=custom_threshold).fit(pred_proba_c1)\n",
        "    custom_predict = binarizer.transform(pred_proba_c1)\n",
        "    print('임곗값:', custom_threshold)\n",
        "    get_clf_eval(y_test, custom_predict)\n",
        "\n",
        "get_eval_by_threshold(y_test, pred_proba[:, 1].reshape(-1, 1), thresholds)"
      ],
      "metadata": {
        "colab": {
          "base_uri": "https://localhost:8080/"
        },
        "id": "3NsHISY11C0J",
        "outputId": "1ca68bd4-2d6a-423e-e29b-e190216c0515"
      },
      "execution_count": 15,
      "outputs": [
        {
          "output_type": "stream",
          "name": "stdout",
          "text": [
            "임곗값: 0.4\n",
            "오차 행렬\n",
            "[[400   5]\n",
            " [  2  43]]\n",
            "정확도: 0.9844, 정밀도: 0.8958, 재현율: 0.9556\n",
            "임곗값: 0.45\n",
            "오차 행렬\n",
            "[[401   4]\n",
            " [  2  43]]\n",
            "정확도: 0.9867, 정밀도: 0.9149, 재현율: 0.9556\n",
            "임곗값: 0.5\n",
            "오차 행렬\n",
            "[[401   4]\n",
            " [  2  43]]\n",
            "정확도: 0.9867, 정밀도: 0.9149, 재현율: 0.9556\n",
            "임곗값: 0.55\n",
            "오차 행렬\n",
            "[[401   4]\n",
            " [  2  43]]\n",
            "정확도: 0.9867, 정밀도: 0.9149, 재현율: 0.9556\n",
            "임곗값: 0.6\n",
            "오차 행렬\n",
            "[[401   4]\n",
            " [  2  43]]\n",
            "정확도: 0.9867, 정밀도: 0.9149, 재현율: 0.9556\n"
          ]
        }
      ]
    },
    {
      "cell_type": "code",
      "source": [
        "from sklearn.metrics import precision_recall_curve\n",
        "# 임계값에 따른 정밀도-재현율 값 추출\n",
        "\n",
        "# 레이블 값이 1일때의 예측 확률을 추출\n",
        "pred_proba_class1 = lr_clf.predict_proba(X_test)[:, 1]\n",
        "\n",
        "# 실제값 데이터 셋과 레이블 값이 1일 때의 예측 확률을 \n",
        "# precision_recall_curve 인자로 입력\n",
        "precisions, recalls, thresholds = precision_recall_curve(y_test, pred_proba_class1)\n",
        "print('반환된 분류 결정 임곗값 배열의 Shape:', thresholds.shape)\n",
        "print('반환된 precisions 배열의 Shape:', precisions.shape)\n",
        "print('반환된 recalls 배열의 Shape:', recalls.shape)\n",
        "\n",
        "print('thresholds 5 sample:', thresholds[:5])\n",
        "print('precisions 5 sample:', precisions[:5])\n",
        "print('recalls 5 sample:', recalls[:5])\n",
        "\n",
        "# 반환된 임계값 배열 로우가 81건이므로 샘플로 10건만 추출하되, \n",
        "# 임곗값을 15 Step으로 추출\n",
        "thr_index = np.arange(0, thresholds.shape[0], 15)\n",
        "print('샘플 추출을 위한 임계값 배열의 index 10개:', thr_index)\n",
        "print('샘플용 10개의 임곗값:', np.round(thresholds[thr_index], 2))\n",
        "\n",
        "# 15 step 단위로 추출된 임계값에 따른 정밀도와 재현율 값\n",
        "print('샘플 임계값별 정밀도:', np.round(precisions[thr_index], 3))\n",
        "print('샘플 임계값별 재현율:', np.round(recalls[thr_index], 3))"
      ],
      "metadata": {
        "id": "Z_8dpLH_2F5N",
        "colab": {
          "base_uri": "https://localhost:8080/"
        },
        "outputId": "03b7b0bb-a434-46f5-a93e-b501ae291033"
      },
      "execution_count": 16,
      "outputs": [
        {
          "output_type": "stream",
          "name": "stdout",
          "text": [
            "반환된 분류 결정 임곗값 배열의 Shape: (80,)\n",
            "반환된 precisions 배열의 Shape: (81,)\n",
            "반환된 recalls 배열의 Shape: (81,)\n",
            "thresholds 5 sample: [0.00040359 0.0004099  0.00043461 0.00046522 0.00047751]\n",
            "precisions 5 sample: [0.5625     0.55696203 0.56410256 0.57142857 0.57894737]\n",
            "recalls 5 sample: [1.         0.97777778 0.97777778 0.97777778 0.97777778]\n",
            "샘플 추출을 위한 임계값 배열의 index 10개: [ 0 15 30 45 60 75]\n",
            "샘플용 10개의 임곗값: [0.   0.   0.09 1.   1.   1.  ]\n",
            "샘플 임계값별 정밀도: [0.562 0.677 0.88  1.    1.    1.   ]\n",
            "샘플 임계값별 재현율: [1.    0.978 0.978 0.778 0.444 0.111]\n"
          ]
        }
      ]
    },
    {
      "cell_type": "code",
      "source": [
        "# 임계값의 변경에 따른 정밀도-재현율 변화 곡선을 그림\n",
        "import matplotlib.pyplot as plt\n",
        "import matplotlib.ticker as ticker\n",
        "%matplotlib inline\n",
        "\n",
        "def precision_recall_curve_plot(y_test, pred_proba_c1):\n",
        "  # threshold ndarray와 이 threshold에 따른 정밀도, 재현율 ndarray 추출.\n",
        "  precisions, recalls, thresholds = precision_recall_curve(y_test, pred_proba_c1)\n",
        "\n",
        "  # X축을 threshold값으로, Y축을 정밀도, 재현율 값으로 각각 Plot 수행. \n",
        "  # 정밀도는 점선으로 표시\n",
        "  plt.figure(figsize=(8,6))\n",
        "  threshold_boundary = thresholds.shape[0]\n",
        "  plt.plot(thresholds, precisions[0:threshold_boundary], linestyle='--', label='precision')\n",
        "  plt.plot(thresholds, recalls[0:threshold_boundary], label='recall')\n",
        "\n",
        "  # threshold 값 X축의 Scale을 0.1 단위로 변경\n",
        "  start, end = plt.xlim()\n",
        "  plt.xticks(np.round(np.arange(start, end, 0.1), 2))\n",
        "\n",
        "  # X축, Y축 label과 legend, 그리고 grid 설정\n",
        "  plt.xlabel('Threshold value')\n",
        "  plt.ylabel('Preision and Recall value')\n",
        "  plt.legend()\n",
        "  plt.grid()\n",
        "  plt.show()\n",
        "\n",
        "precision_recall_curve_plot(y_test, lr_clf.predict_proba(X_test)[:, 1])"
      ],
      "metadata": {
        "colab": {
          "base_uri": "https://localhost:8080/",
          "height": 388
        },
        "id": "Tn8EdtnTdhRh",
        "outputId": "8cf3f7c7-f76d-4eee-be87-fa477dea2bb5"
      },
      "execution_count": 17,
      "outputs": [
        {
          "output_type": "display_data",
          "data": {
            "text/plain": [
              "<Figure size 576x432 with 1 Axes>"
            ],
            "image/png": "[encoded data removed]"
          },
          "metadata": {
            "needs_background": "light"
          }
        }
      ]
    },
    {
      "cell_type": "markdown",
      "source": [
        "## 3.4 F1 Score\n",
        "* 재현율과 정밀도 결합한 수치"
      ],
      "metadata": {
        "id": "7xWGmyaHheYi"
      }
    },
    {
      "cell_type": "code",
      "source": [
        "from sklearn.metrics import f1_score\n",
        "f1 = f1_score(y_test, pred)\n",
        "print('F1 스코어: {0:.4f}'.format(f1))"
      ],
      "metadata": {
        "colab": {
          "base_uri": "https://localhost:8080/"
        },
        "id": "pf2PqaCjhjWO",
        "outputId": "982efa65-3391-4040-edef-fd14eec83f6c"
      },
      "execution_count": 18,
      "outputs": [
        {
          "output_type": "stream",
          "name": "stdout",
          "text": [
            "F1 스코어: 0.9348\n"
          ]
        }
      ]
    },
    {
      "cell_type": "code",
      "source": [
        "def get_clf_eval(y_test, pred):\n",
        "  confusion = confusion_matrix(y_test, pred)\n",
        "  accuracy = accuracy_score(y_test, pred)\n",
        "  precision = precision_score(y_test, pred)\n",
        "  recall = recall_score(y_test, pred)\n",
        "\n",
        "  # F1스코어 추가\n",
        "  f1 = f1_score(y_test, pred)\n",
        "  print('오차 행렬')\n",
        "  print(confusion)\n",
        "  print('정확도: {0:4f}, 정밀도: {1:.4f}, 재현율: {2:.4f}, F1:{3:.4f}'.format(accuracy, precision, recall, f1))\n",
        "\n",
        "thresholds = [0.4, 0.45, 0.50, 0.55, 0.60]\n",
        "pred_proba = lr_clf.predict_proba(X_test)\n",
        "get_eval_by_threshold(y_test, pred_proba[:, 1].reshape(-1, 1), thresholds)"
      ],
      "metadata": {
        "colab": {
          "base_uri": "https://localhost:8080/"
        },
        "id": "EQHtNM6qkaVS",
        "outputId": "b75c8181-77d6-4583-b922-087d5f6b1ed8"
      },
      "execution_count": 19,
      "outputs": [
        {
          "output_type": "stream",
          "name": "stdout",
          "text": [
            "임곗값: 0.4\n",
            "오차 행렬\n",
            "[[400   5]\n",
            " [  2  43]]\n",
            "정확도: 0.984444, 정밀도: 0.8958, 재현율: 0.9556, F1:0.9247\n",
            "임곗값: 0.45\n",
            "오차 행렬\n",
            "[[401   4]\n",
            " [  2  43]]\n",
            "정확도: 0.986667, 정밀도: 0.9149, 재현율: 0.9556, F1:0.9348\n",
            "임곗값: 0.5\n",
            "오차 행렬\n",
            "[[401   4]\n",
            " [  2  43]]\n",
            "정확도: 0.986667, 정밀도: 0.9149, 재현율: 0.9556, F1:0.9348\n",
            "임곗값: 0.55\n",
            "오차 행렬\n",
            "[[401   4]\n",
            " [  2  43]]\n",
            "정확도: 0.986667, 정밀도: 0.9149, 재현율: 0.9556, F1:0.9348\n",
            "임곗값: 0.6\n",
            "오차 행렬\n",
            "[[401   4]\n",
            " [  2  43]]\n",
            "정확도: 0.986667, 정밀도: 0.9149, 재현율: 0.9556, F1:0.9348\n"
          ]
        }
      ]
    },
    {
      "cell_type": "markdown",
      "source": [
        "## 3-5 ROC Curve와 AUC"
      ],
      "metadata": {
        "id": "A1FrK9AtlyRr"
      }
    },
    {
      "cell_type": "code",
      "source": [
        "from sklearn.metrics import roc_curve\n",
        "\n",
        "# 레이블 값이 1일때의 예측 확률을 추출\n",
        "pred_proba_class1 = lr_clf.predict_proba(X_test)[:, 1]\n",
        "\n",
        "fprs, tprs, thresholds = roc_curve(y_test, pred_proba_class1)\n",
        "# 반환된 임계값 배열에서 샘플로 데이터를 추출하되, 임계값을 5 Step으로 추출.\n",
        "# thresholds[0]은 max(예측확률)+1로 임의 설정됨. 이를 제외하기 위해 np.arange는 1부터 시작\n",
        "thr_index = np.arange(1, thresholds.shape[0], 5)\n",
        "print('샘플 추출을 위한 임계값 배열의 index 10개:', thr_index)\n",
        "print('샘플용 10개의 임계값:', np.round(thresholds[thr_index], 2))\n",
        "\n",
        "# 5 step 단위로 추출된 임계값에 따른 FPR, TPR 값\n",
        "print('샘플 임계값별 FPR:', np.round(fprs[thr_index], 3))\n",
        "print('샘플 임계값별 TPR:', np.round(tprs[thr_index], 3))"
      ],
      "metadata": {
        "colab": {
          "base_uri": "https://localhost:8080/"
        },
        "id": "tbHYfdj1lW5O",
        "outputId": "00a343b3-4be0-4cc3-bcb5-0553920e3b81"
      },
      "execution_count": 21,
      "outputs": [
        {
          "output_type": "stream",
          "name": "stdout",
          "text": [
            "샘플 추출을 위한 임계값 배열의 index 10개: [1 6]\n",
            "샘플용 10개의 임계값: [1.   0.09]\n",
            "샘플 임계값별 FPR: [0.    0.015]\n",
            "샘플 임계값별 TPR: [0.022 0.978]\n"
          ]
        }
      ]
    },
    {
      "cell_type": "code",
      "source": [
        "def roc_curve_plot(y_test, pred_proba_c1):\n",
        "  # 임계값에 따른 FPR, TPR 값을 반환 받음\n",
        "  fprs, tprs, thresholds = roc_curve(y_test, pred_proba_c1)\n",
        "  # ROC 곡선을 그래프 곡선으로 그림.\n",
        "  plt.plot(fprs, tprs, label='ROC')\n",
        "  # 가운데 대각선 직선을 그림.\n",
        "  plt.plot([0, 1], [0, 1], 'k--', label='Random')\n",
        "\n",
        "  # FPR X축의 Scale을 0.1 단위로 변경, X, Y축 명 설정 등\n",
        "  start, end = plt.xlim()\n",
        "  plt.xticks(np.round(np.arange(start, end, 0.1), 2))\n",
        "  plt.xlim(0, 1)\n",
        "  plt.ylim(0, 1)\n",
        "  plt.xlabel('FPR(1-Sensitivity)')\n",
        "  plt.ylabel('TPR(Recall)')\n",
        "  plt.legend()\n",
        "\n",
        "roc_curve_plot(y_test, pred_proba[:, 1])"
      ],
      "metadata": {
        "colab": {
          "base_uri": "https://localhost:8080/",
          "height": 283
        },
        "id": "VM2nX_L0V68L",
        "outputId": "34d0f89a-4e4c-4b27-b524-b35b34cc88e2"
      },
      "execution_count": 26,
      "outputs": [
        {
          "output_type": "display_data",
          "data": {
            "text/plain": [
              "<Figure size 432x288 with 1 Axes>"
            ],
            "image/png": "[encoded data removed]"
          },
          "metadata": {
            "needs_background": "light"
          }
        }
      ]
    },
    {
      "cell_type": "code",
      "source": [
        "from sklearn.metrics import roc_auc_score\n",
        "pred_proba = lr_clf.predict_proba(X_test)[:, 1]\n",
        "roc_score = roc_auc_score(y_test, pred_proba)\n",
        "print('ROC AUC 값: {0:.4f}'.format(roc_score))"
      ],
      "metadata": {
        "colab": {
          "base_uri": "https://localhost:8080/"
        },
        "id": "-Em4b7IpSEWu",
        "outputId": "76d1e58f-1c4d-47cb-f878-b60aec8c692f"
      },
      "execution_count": 28,
      "outputs": [
        {
          "output_type": "stream",
          "name": "stdout",
          "text": [
            "ROC AUC 값: 0.9976\n"
          ]
        }
      ]
    },
    {
      "cell_type": "code",
      "source": [
        "def get_clf_eval(y_test, pred=None, pred_proba=None):\n",
        "  confusion = confusion_matrix(y_test, pred)\n",
        "  accuracy = accuracy_score(y_test, pred)\n",
        "  precision = precision_score(y_test, pred)\n",
        "  recall = recall_score(y_test, pred)\n",
        "  f1 = f1_score(y_test, pred)\n",
        "\n",
        "  # ROC-AUC 추가\n",
        "  roc_auc = roc_auc_score(y_test, pred_proba)\n",
        "  print('오차 행렬')\n",
        "  print(confusion)\n",
        "\n",
        "  # ROC-AUC print 추가\n",
        "  print('정확도: {0:.4f}, 정밀도: {1:.4f}, 재현율: {2:.4f}, \\\n",
        "         F1: {3:.4f}, AUC:{4:.4f}'.format(accuracy, precision, recall, f1, roc_auc))"
      ],
      "metadata": {
        "id": "nWYBtzysXlUb"
      },
      "execution_count": 29,
      "outputs": []
    },
    {
      "cell_type": "code",
      "source": [],
      "metadata": {
        "id": "kEcJ4JCCYdg-"
      },
      "execution_count": null,
      "outputs": []
    }
  ]
}