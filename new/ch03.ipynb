{
  "nbformat": 4,
  "nbformat_minor": 0,
  "metadata": {
    "colab": {
      "name": "ch03.ipynb",
      "provenance": [],
      "collapsed_sections": [],
      "authorship_tag": "ABX9TyOiNSK03kBcLTCoAt6wv5vk",
      "include_colab_link": true
    },
    "kernelspec": {
      "name": "python3",
      "display_name": "Python 3"
    }
  },
  "cells": [
    {
      "cell_type": "markdown",
      "metadata": {
        "id": "view-in-github",
        "colab_type": "text"
      },
      "source": [
        "<a href=\"https://colab.research.google.com/github/GyeeunJeong/Advances-in-Financial-Machine-Learning/blob/master/ch03.ipynb\" target=\"_parent\"><img src=\"https://colab.research.google.com/assets/colab-badge.svg\" alt=\"Open In Colab\"/></a>"
      ]
    },
    {
      "cell_type": "markdown",
      "metadata": {
        "id": "4-cXuQORxJ6O",
        "colab_type": "text"
      },
      "source": [
        "# Source code in chapter 3"
      ]
    },
    {
      "cell_type": "code",
      "metadata": {
        "id": "RoQoSk5OyZZ1",
        "colab_type": "code",
        "colab": {}
      },
      "source": [
        "import datetime as dt\n",
        "import pandas as pd\n",
        "import pandas_datareader.data as web"
      ],
      "execution_count": 0,
      "outputs": []
    },
    {
      "cell_type": "code",
      "metadata": {
        "id": "9Q4_mYHlxO_a",
        "colab_type": "code",
        "colab": {}
      },
      "source": [
        "# 3.1 Calculate daily volatility\n",
        "def getDailyVol(close, span0=100):\n",
        "  df0 = close.index.searchsorted(close.index-pd.Timedelta(days=1))\n",
        "  df0 = df0[df0>0]\n",
        "  df0 = pd.Series(close.index[df0-1], index=close.index[close.shape[0]-df0.shape[0]:])\n",
        "  df0 = close.loc[df0.index]/close.loc[df0.values].values-1\n",
        "  df0 = df0.ewm(span=span0).std()\n",
        "  return df0\n",
        "\n",
        "# 3.2 triple-barrier labeling\n",
        "def applyPtSlonT1(close, events, ptsl, molecule):\n",
        "  # t1 : vertical barrier\n",
        "  # pt : upper horizontal barrier\n",
        "  # sl : lower horizontal barrier\n",
        "\n",
        "  events_ = events.loc[molecule]\n",
        "  out = events_[['t1']].copy(deep=True)\n",
        "  \n",
        "  if ptsl[0]>0: pt=ptsl[0]*events_['trgt']\n",
        "  else: pt = pd.Series(index=events.index) # NaNs\n",
        "  if ptsl[1]>0: sl=-ptsl[1]*events_['trgt']\n",
        "  else: sl = pd.Series(index=events.index) # NaNs\n",
        "  \n",
        "  for loc,t1 in events_['t1'].fillna(close.index[-1]).iteritems():\n",
        "    df0 = close[loc:t1] # price path\n",
        "    df0 = (df0/close[loc]-1)*events_.at[loc, 'side']\n",
        "    out.loc[loc, 'sl'] = df0[df0<sl[loc]].index.min()\n",
        "    out.loc[loc, 'pt'] = df0[df0>pt[loc]].index.min()\n",
        "    \n",
        "  return out\n",
        "\n",
        "# 3.3 measure the first arrival time & 3.6 expand to meta-label\n",
        "def getEvents(close, tEvents, ptsl, trgt, minRet, numThreads, t1=False, side=None):\n",
        "  # close : price series\n",
        "  # tEvents : triple-barrier seed timeindex extracting by 2.5\n",
        "  # ptsl : positive float list. barrier width\n",
        "  # t1 : vertical barrier timestamp series\n",
        "  # trgt : absolute target profit series\n",
        "  # minRet : minimum target profit to search triple barrier\n",
        "  # numThreads : the number of threads in the function at the same time\n",
        "\n",
        "  # 1) get target\n",
        "  trgt = trgt.loc[tEvents]\n",
        "  trgt = trgt[trgt>minRet]\n",
        "  \n",
        "  # 2) get t1 (the longest holding period)\n",
        "  if t1 is False: \n",
        "    t1=pd.Series(pd.NaT, index=tEvents)\n",
        "\n",
        "  # 3) form events dataframe applying ptsl at t1\n",
        "  if side is None:\n",
        "    side_, ptsl_ = pd.Series(1., index=trgt.index), [ptsl[0], ptsl[0]]\n",
        "  else:\n",
        "    side_, ptsl_ = side.loc[trgt.index], ptsl[:2]\n",
        "  events = pd.concat({'t1':t1, 'trgt':trgt, 'side':side_}, axis=1).dropna(subset=['trgt'])\n",
        "  \n",
        "  #df0 = mpPandasObj(func=applyPtSlonT1, pdObj=('molecule', events.index), \\\n",
        "  #                  numThreads=numThreads, close=close, events=events, ptsl=ptsl)\n",
        "  df0 = applyPtSlonT1(close, events, ptsl, molecule)\n",
        "  events['t1'] = df0.dropna(how='all').min(axis=1)\n",
        "  if side is None:\n",
        "    events=events.drop('side', axis=1)\n",
        "  return = events\n",
        "\n",
        "# 3.4 add vertical barrier\n",
        "t1 = close.index.searchsorted(tEvents+pd.Timedelta(days=numDays))\n",
        "t1 = t1[t1<close.shape[0]]\n",
        "t1 = pd.Series(close.index[t1], index=tEvents[:t1.shape[0]])\n",
        "\n",
        "# 3.5 labeling side and size & 3.7 expand to meta-label\n",
        "def getBins(events, close):\n",
        "  # events : dataframe from getEvents\n",
        "\n",
        "  # 1) price, events\n",
        "  events_ = events.dropna(subset=['t1'])\n",
        "  px = events_.index.union(events_['t1'].values).drop_duplicates()\n",
        "  px = close.reindex(px, method='bfill')\n",
        "\n",
        "  # 2) OUT dataframe\n",
        "  out = pd.DataFrame(index=events_.index)\n",
        "  out['ret'] = px.loc[events_['t1'].values].values/px.loc[events_.index]-1\n",
        "  if 'side' in events_:\n",
        "    out['ret'] *= events_['side'] # meta-label\n",
        "  out['bin'] = np.sign(out['ret'])\n",
        "  if 'side' in events_:\n",
        "    out.loc[out['ret']<=0, 'bin'] = 0 # meta-label\n",
        "  # changed by practice 3.3\n",
        "  # 실제 이벤트 발생 시점 == 설정한 vertical barrier 시점\n",
        "  out.loc[events_.index == t1.values, 'bin'] = 0\n",
        "  return out\n",
        "\n",
        "# 3.8 drop the small example number of labels\n",
        "def dropLabels(events, minPtc=.05):\n",
        "  while True:\n",
        "    df0 = events['bin'].value_counts(normalize=True)\n",
        "    if df0.min() > minPct or df0.shape[0]<3:\n",
        "      break\n",
        "    print ('dropped label', df0.argmin(), df0.min())\n",
        "    events=events[events['bin']!=df0.argmin()]\n",
        "  return events"
      ],
      "execution_count": 0,
      "outputs": []
    },
    {
      "cell_type": "code",
      "metadata": {
        "id": "BBap0xqAzUtj",
        "colab_type": "code",
        "colab": {}
      },
      "source": [
        "start = dt.datetime(2019, 1, 1)\n",
        "end = dt.datetime.now()"
      ],
      "execution_count": 0,
      "outputs": []
    },
    {
      "cell_type": "code",
      "metadata": {
        "id": "pGfAmpExxNpP",
        "colab_type": "code",
        "colab": {}
      },
      "source": [
        "price_df = web.DataReader(\"^GSPC\", 'yahoo', start, end)\n",
        "close_sr = price_df['Close']"
      ],
      "execution_count": 0,
      "outputs": []
    },
    {
      "cell_type": "code",
      "metadata": {
        "id": "-PBg468UzbNo",
        "colab_type": "code",
        "colab": {
          "base_uri": "https://localhost:8080/",
          "height": 148
        },
        "outputId": "19ede06f-1bf5-405c-dc0f-bb0d32feb2f1"
      },
      "source": [
        "close_sr.head()"
      ],
      "execution_count": 13,
      "outputs": [
        {
          "output_type": "execute_result",
          "data": {
            "text/plain": [
              "Date\n",
              "2019-01-02    2510.030029\n",
              "2019-01-03    2447.889893\n",
              "2019-01-04    2531.939941\n",
              "2019-01-07    2549.689941\n",
              "2019-01-08    2574.409912\n",
              "Name: Close, dtype: float64"
            ]
          },
          "metadata": {
            "tags": []
          },
          "execution_count": 13
        }
      ]
    },
    {
      "cell_type": "code",
      "metadata": {
        "id": "oqmrQkzOz9rh",
        "colab_type": "code",
        "colab": {}
      },
      "source": [
        "events_df = pd.DataFrame(index=price_df.index, columns=['t1', 'trgt', 'side'])\n",
        "events_df.loc[[dt.datetime(2019,1,3), dt.datetime(2019,1,7)], 't1'] = [dt.datetime(2019,1,5), dt.datetime(2019,1,9)]\n",
        "events_df['trgt'] = 1\n",
        "events_df['side'] = 1 # buy / sell\n",
        "\n",
        "ptsl = [0.01, 0.01]\n",
        "\n",
        "molecule = [dt.datetime(2019,1,3), dt.datetime(2019,1,7)]"
      ],
      "execution_count": 0,
      "outputs": []
    },
    {
      "cell_type": "code",
      "metadata": {
        "id": "y0A4hTCHz1vv",
        "colab_type": "code",
        "colab": {
          "base_uri": "https://localhost:8080/",
          "height": 141
        },
        "outputId": "948a53bf-d8f8-4dda-e47d-a6ad4c8c93fc"
      },
      "source": [
        "applyPtSlonT1(close_sr, events_df, ptsl, molecule)"
      ],
      "execution_count": 56,
      "outputs": [
        {
          "output_type": "execute_result",
          "data": {
            "text/html": [
              "<div>\n",
              "<style scoped>\n",
              "    .dataframe tbody tr th:only-of-type {\n",
              "        vertical-align: middle;\n",
              "    }\n",
              "\n",
              "    .dataframe tbody tr th {\n",
              "        vertical-align: top;\n",
              "    }\n",
              "\n",
              "    .dataframe thead th {\n",
              "        text-align: right;\n",
              "    }\n",
              "</style>\n",
              "<table border=\"1\" class=\"dataframe\">\n",
              "  <thead>\n",
              "    <tr style=\"text-align: right;\">\n",
              "      <th></th>\n",
              "      <th>t1</th>\n",
              "      <th>sl</th>\n",
              "      <th>pt</th>\n",
              "    </tr>\n",
              "    <tr>\n",
              "      <th>Date</th>\n",
              "      <th></th>\n",
              "      <th></th>\n",
              "      <th></th>\n",
              "    </tr>\n",
              "  </thead>\n",
              "  <tbody>\n",
              "    <tr>\n",
              "      <th>2019-01-03</th>\n",
              "      <td>2019-01-05 00:00:00</td>\n",
              "      <td>NaT</td>\n",
              "      <td>2019-01-04</td>\n",
              "    </tr>\n",
              "    <tr>\n",
              "      <th>2019-01-07</th>\n",
              "      <td>2019-01-09 00:00:00</td>\n",
              "      <td>NaT</td>\n",
              "      <td>2019-01-09</td>\n",
              "    </tr>\n",
              "  </tbody>\n",
              "</table>\n",
              "</div>"
            ],
            "text/plain": [
              "                             t1  sl         pt\n",
              "Date                                          \n",
              "2019-01-03  2019-01-05 00:00:00 NaT 2019-01-04\n",
              "2019-01-07  2019-01-09 00:00:00 NaT 2019-01-09"
            ]
          },
          "metadata": {
            "tags": []
          },
          "execution_count": 56
        }
      ]
    },
    {
      "cell_type": "code",
      "metadata": {
        "id": "lrgXx6Kq4hGb",
        "colab_type": "code",
        "colab": {}
      },
      "source": [
        ""
      ],
      "execution_count": 0,
      "outputs": []
    }
  ]
}