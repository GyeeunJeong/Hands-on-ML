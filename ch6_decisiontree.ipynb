{
  "nbformat": 4,
  "nbformat_minor": 0,
  "metadata": {
    "colab": {
      "name": "ch6_decisiontree.ipynb",
      "provenance": [],
      "authorship_tag": "ABX9TyMuzxo6FvWQZuspVdcH6xHl",
      "include_colab_link": true
    },
    "kernelspec": {
      "name": "python3",
      "display_name": "Python 3"
    },
    "language_info": {
      "name": "python"
    }
  },
  "cells": [
    {
      "cell_type": "markdown",
      "metadata": {
        "id": "view-in-github",
        "colab_type": "text"
      },
      "source": [
        "<a href=\"https://colab.research.google.com/github/GyeeunJeong/Hands-on-ML/blob/main/ch6_decisiontree.ipynb\" target=\"_parent\"><img src=\"https://colab.research.google.com/assets/colab-badge.svg\" alt=\"Open In Colab\"/></a>"
      ]
    },
    {
      "cell_type": "markdown",
      "source": [
        "## 결정 트리 학습과 시각화"
      ],
      "metadata": {
        "id": "uutH9Kwh34Dr"
      }
    },
    {
      "cell_type": "code",
      "execution_count": 1,
      "metadata": {
        "colab": {
          "base_uri": "https://localhost:8080/"
        },
        "id": "D8i7ovdtq1Sf",
        "outputId": "02866458-1a1a-420b-9b35-e60e3b2f3311"
      },
      "outputs": [
        {
          "output_type": "execute_result",
          "data": {
            "text/plain": [
              "DecisionTreeClassifier(max_depth=2)"
            ]
          },
          "metadata": {},
          "execution_count": 1
        }
      ],
      "source": [
        "from sklearn.datasets import load_iris\n",
        "from sklearn.tree import DecisionTreeClassifier\n",
        "\n",
        "iris = load_iris()\n",
        "X = iris.data[:, 2:]\n",
        "y = iris.target\n",
        "\n",
        "tree_clf = DecisionTreeClassifier(max_depth=2)\n",
        "tree_clf.fit(X, y)"
      ]
    },
    {
      "cell_type": "code",
      "source": [
        "# 훈련된 결정트리 시각화\n",
        "from sklearn.tree import export_graphviz\n",
        "\n",
        "export_graphviz(\n",
        "    tree_clf,\n",
        "    out_file='iris_tree.dot',\n",
        "    feature_names=iris.feature_names[2:],\n",
        "    class_names=iris.target_names,\n",
        "    rounded=True,\n",
        "    filled=True\n",
        ")"
      ],
      "metadata": {
        "id": "Yuzhgygkz4Wh"
      },
      "execution_count": 2,
      "outputs": []
    },
    {
      "cell_type": "code",
      "source": [
        "!dot -Tpng iris_tree.dot -o iris_tree.png"
      ],
      "metadata": {
        "id": "wAaDJNh62Esi"
      },
      "execution_count": 3,
      "outputs": []
    },
    {
      "cell_type": "markdown",
      "source": [
        "## 예측하기\n",
        "* 루트 노드: 깊이가 0인 맨 꼭대기의 노드\n",
        "* 자식 노드\n",
        "* 리프 노드: 자식 노드를 가지지 않는 노드\n",
        "* 장점: 데이터 전처리가 거의 필요하지 않다, 화이트박스\n",
        "* 노드의 gini 속성은 불순도를 측정\n",
        "  - 지니불순도: $G_i=1-Σ^n_{k=1}p_{i,k}^2$\n",
        "  - 엔트로피를 사용하기도 하는데 지니불순도 계산이 더 빠름\n",
        "  - 큰 차이는 없지만 엔트로피가 조금 더 균형 잡힌 트리를 만듬\n",
        "  - 엔트로피: $H_i=-\\displaystyle\\sum ^n_{k=1, p_{i,k}\\neq0}p_{i,k}log_2(p_{i,k})$\n",
        "\n",
        "* 훈련 데이터에 대한 제약사항이 거의 없음\n",
        "  - 비파라미터 모델: 훈련되기 전에 파라미터 수가 결정되지 않음\n",
        "  - 과대적합될 가능성 높음 (자유도 제한 필요 = 규제 필요)\n",
        "* 가지치기(pruning): 제한 없이 결정 트리를 훈련하고 불필요한 노드 제거\n",
        "  - 순도 높이는 것이 통계적으로 효과가 없다면 리프 노드 바로 위의 노드는 불필요할 수 있음 (카이 검정 등을 사용하여 추정)\n",
        "  - 불필요한 노드가 모두 없어질 때까지 계속됨\n",
        "\n",
        "* 불안정성\n",
        "  - 계단 모양의 결정 경계를 만들어 훈련 세트의 회전에 민감함\n",
        "  - PCA 기법을 사용해 더 좋은 방향으로 회전시킬 수 있음\n",
        "  "
      ],
      "metadata": {
        "id": "BiXaqUkE2N3h"
      }
    },
    {
      "cell_type": "markdown",
      "source": [
        "## 클래스 확률 추정\n",
        "* 한 샘플이 특정 클래스 k에 속할 확률 추정\n",
        "1. 이 샘플에 대한 리프 노드를 찾기 위해 트리를 탐색\n",
        "2. 그 노드에 있는 클래스 k의 훈련 샘플의 비율을 반환"
      ],
      "metadata": {
        "id": "J_x76_dz39k3"
      }
    },
    {
      "cell_type": "code",
      "source": [
        "tree_clf.predict_proba([[5, 1.5]]) #0/54 49/54 5/54"
      ],
      "metadata": {
        "colab": {
          "base_uri": "https://localhost:8080/"
        },
        "id": "SaynVo935qvG",
        "outputId": "7bcea81a-7b23-4732-9d8d-f91fd5f8149c"
      },
      "execution_count": 4,
      "outputs": [
        {
          "output_type": "execute_result",
          "data": {
            "text/plain": [
              "array([[0.        , 0.90740741, 0.09259259]])"
            ]
          },
          "metadata": {},
          "execution_count": 4
        }
      ]
    },
    {
      "cell_type": "code",
      "source": [
        "tree_clf.predict([[5, 1.5]])"
      ],
      "metadata": {
        "colab": {
          "base_uri": "https://localhost:8080/"
        },
        "id": "FG9o4PCv5u5Q",
        "outputId": "f5efcfe7-1629-4866-81c7-db4d4340c4b9"
      },
      "execution_count": 5,
      "outputs": [
        {
          "output_type": "execute_result",
          "data": {
            "text/plain": [
              "array([1])"
            ]
          },
          "metadata": {},
          "execution_count": 5
        }
      ]
    },
    {
      "cell_type": "markdown",
      "source": [
        "## CART 훈련 알고리즘\n",
        "* Classification And Regression Tree\n",
        "1. 훈련 세트를 하나의 특성 k의 임곗값 $t_k$를 사용해 두 개의 서브셋으로 나눔\n",
        "  - 가장 순수한 서브셋으로 나눌 수 있는 $(k, t_k)$ 짝을 찾음\n",
        "  - $J(k,t_k)=\\frac{m_{left}}{m}G_{left}+\\frac{m_{right}}{m}G_{right}$\n",
        "  - $G_{left/right}$: 왼쪽/오른쪽 서브셋의 불순도\n",
        "  - $m_{left/right}$: 왼쪽/오른쪽 서브셋의 샘플 수\n",
        "2. 같은 방식으로 서브셋을 계속 나눔\n",
        "3. 최대 깊이(max_depth 매개변수로 정의)가 되면 중지하거나 불순도를 줄이는 분할을 찾을 수 없을 때 멈춤\n",
        "  - 중지 조건에 관여하는 매개변수: min_samples_split, min_samples_leaf, min_weight_fraction_leaf, max_leaf_nodes\n",
        "* greedy 알고리즘\n",
        "* 훈련 복잡도: O(n*mlog(m)). m:훈련 데이터 수, n: 특성수\n"
      ],
      "metadata": {
        "id": "7dPFSJ-D5xsc"
      }
    },
    {
      "cell_type": "markdown",
      "source": [
        "## 회귀\n",
        "* 각 노드에서 클래스를 예측하는 대신 어떤 값을 예측\n",
        "* CART는 평균제곱오차(MSE)를 최소화하도록 분할\n",
        "  - $J(k, t_k)=\\frac{m_{left}}{m}MSE_{left}+\\frac{m_{right}}{m}MSE_{right}$\n"
      ],
      "metadata": {
        "id": "fLabSAvX7gAY"
      }
    },
    {
      "cell_type": "code",
      "source": [
        "from sklearn.tree import DecisionTreeRegressor\n",
        "\n",
        "tree_reg = DecisionTreeRegressor(max_depth=2)\n",
        "tree_reg.fit(X, y)"
      ],
      "metadata": {
        "colab": {
          "base_uri": "https://localhost:8080/"
        },
        "id": "vTjw8xis_ZbB",
        "outputId": "3c103471-1ced-4d8c-87c7-4648948f1751"
      },
      "execution_count": 6,
      "outputs": [
        {
          "output_type": "execute_result",
          "data": {
            "text/plain": [
              "DecisionTreeRegressor(max_depth=2)"
            ]
          },
          "metadata": {},
          "execution_count": 6
        }
      ]
    },
    {
      "cell_type": "code",
      "source": [
        ""
      ],
      "metadata": {
        "id": "_vzAiVVA_k01"
      },
      "execution_count": null,
      "outputs": []
    }
  ]
}